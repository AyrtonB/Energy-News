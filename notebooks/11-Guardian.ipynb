{
 "cells": [
  {
   "cell_type": "markdown",
   "metadata": {},
   "source": [
    "# Guardian\n",
    "\n",
    "<br>\n",
    "\n",
    "### Imports"
   ]
  },
  {
   "cell_type": "code",
   "execution_count": 15,
   "metadata": {},
   "outputs": [],
   "source": [
    "import pandas as pd\n",
    "\n",
    "import requests\n",
    "import xmltodict\n",
    "from bs4 import BeautifulSoup\n",
    "\n",
    "from IPython.core.display import JSON"
   ]
  },
  {
   "cell_type": "code",
   "execution_count": null,
   "metadata": {},
   "outputs": [],
   "source": []
  },
  {
   "cell_type": "code",
   "execution_count": 18,
   "metadata": {},
   "outputs": [
    {
     "data": {
      "application/json": [
       {
        "article_url": "https://www.theguardian.com/business/2020/nov/18/city-of-london-buys-into-new-dorset-solar-farm-to-help-power-square-mile",
        "category": "Energy industry, London, Solar power, Renewable energy, Energy, Environment, UK news, Greenhouse gas emissions, Climate change, Climate finance, Green economy, Financial sector, Business",
        "date": "2020-11-18 06:01",
        "dc:creator": "Jillian Ambrose",
        "dc:date": "2020-11-18T06:01:34Z",
        "image_filetype": "jpg",
        "image_url": "https://i.guim.co.uk/img/media/19b7c626ebfa5ef3dc0ab17a976587ef7055bbec/0_165_4938_2963/master/4938.jpg?width=460&quality=85&auto=format&fit=max&s=627b5cdcc0e3df997da3102428c40cf4",
        "lead": "City Corporation signs £40m deal with French renewables firm Voltalia to ensure green energy supplyThousands of solar panels in the Dorset countryside will soon help power Britain’s historic financial centre under a new renewable energy deal struck b...",
        "title": "City of London buys into new Dorset solar farm to help power Square Mile"
       },
       {
        "article_url": "https://www.theguardian.com/commentisfree/2020/nov/17/oil-gas-trump-election-climate-coup-republicans-fossil-fuel",
        "category": "Environment, Climate change, Oil and gas companies, Energy industry, Republicans, US news, Donald Trump, Fossil fuels",
        "date": "2020-11-17 12:46",
        "dc:creator": "Jonathan Watts",
        "dc:date": "2020-11-17T12:46:28Z",
        "image_filetype": "jpg",
        "image_url": "https://i.guim.co.uk/img/media/f05856c17e0417afbfe0b2afb64a5ef706778c17/0_566_4110_2464/master/4110.jpg?width=460&quality=85&auto=format&fit=max&s=b014b271a24470d1026233625f94df6d",
        "lead": "This ‘climate coup’ shows how terrified far-right Republicans and their fossil-fuel donors are of losing power in the long termCalmer heads may yet talk Donald Trump down from caps-locked denial to lower-case concession, but the longer the defeated p...",
        "title": "Big oil and gas have a lot invested in Trump’s attack on the election system | Jonathan Watts"
       },
       {
        "article_url": "https://www.theguardian.com/business/2020/nov/16/firms-agree-scotland-to-england-renewable-energy-superhighway",
        "category": "Energy industry, Renewable energy, Energy, Environment, Scotland, UK news, Scottish Power, National Grid, SSE, Business, Utilities, Green politics, Cop26: Glasgow climate change conference 2021",
        "date": "2020-11-16 13:39",
        "dc:creator": "Jillian Ambrose",
        "dc:date": "2020-11-16T13:39:20Z",
        "image_filetype": "jpg",
        "image_url": "https://i.guim.co.uk/img/media/6e7f8f2228780eef628d2dcc67aa22ae48a5f583/147_0_4265_2561/master/4265.jpg?width=460&quality=85&auto=format&fit=max&s=36462981ef0a120db0ddd46e6d586758",
        "lead": "Scottish Power, National Grid and SSE project will support ‘hundreds of green jobs’Three of Britain’s biggest energy companies have agreed to build giant underwater power cables to bring Scotland’s vast reserves of renewable energy to millions of hom...",
        "title": "Firms agree Scotland to England renewable energy 'superhighway'"
       },
       {
        "article_url": "https://www.theguardian.com/business/2020/nov/12/covid-us-households-national-grid-profits",
        "category": "National Grid, Household bills, US news, Coronavirus, Business, Consumer affairs, Energy industry, Money, Utilities, World news, Fuel poverty, Poverty",
        "date": "2020-11-12 15:10",
        "dc:creator": "Jillian Ambrose Energy correspondent",
        "dc:date": "2020-11-12T15:10:40Z",
        "image_filetype": "jpg",
        "image_url": "https://i.guim.co.uk/img/media/53934ad352f15adda077547f8fd8f1b50e763d47/0_126_3500_2100/master/3500.jpg?width=460&quality=85&auto=format&fit=max&s=84a7dbd8f6c04874593711eb0b5537ff",
        "lead": "Energy firm lowers revenues and raises costs after pandemic leaves many unable to pay billsCoronavirus – latest updatesSee all our coronavirus coverageFinancially hard-hit US households have knocked £56m from National Grid’s underlying profits for th...",
        "title": "Covid-stricken US households wipe £56m off National Grid profits"
       },
       {
        "article_url": "https://www.theguardian.com/business/2020/nov/12/thermal-coal-firms-climate-pledge-report-paris-goals",
        "category": "Energy industry, Paris climate agreement, Fossil fuel divestment, Greenhouse gas emissions, Climate change, Environment, COP 21: Paris climate change conference 2015, Fossil fuels, Global climate talks, Energy, Coal, World news, Business",
        "date": "2020-11-12 08:01",
        "dc:creator": "Jillian Ambrose Energy correspondent",
        "dc:date": "2020-11-12T08:01:02Z",
        "image_filetype": "jpg",
        "image_url": "https://i.guim.co.uk/img/media/3a36c6fa672febdae9983438df888c7c0b588cba/0_235_3500_2101/master/3500.jpg?width=460&quality=85&auto=format&fit=max&s=5e286672c225ecf6cde8a74f1772b16a",
        "lead": "Report identifies 935 firms finance industry needs to blacklist to meet Paris goalsAlmost half the companies involved in the thermal coal industry are expected to defy global climate commitments by deepening their coal interests in the coming years, ...",
        "title": "Almost half of thermal coal firms set to defy climate pledge – report"
       },
       {
        "article_url": "https://www.theguardian.com/business/2020/nov/11/rolls-royce-vows-to-create-6000-uk-jobs-with-nuclear-power-station-plans",
        "category": "Rolls-Royce, Business, Nuclear power, Energy, Energy industry, UK news, Environment",
        "date": "2020-11-11 08:40",
        "dc:creator": "Jasper Jolly",
        "dc:date": "2020-11-11T08:40:52Z",
        "image_filetype": "jpg",
        "image_url": "https://i.guim.co.uk/img/media/b6060b6361072b0f3dbdc6f9fbc4482d1ccc0bb7/203_323_2438_1463/master/2438.jpg?width=460&quality=85&auto=format&fit=max&s=91eaaf62d5aed0c12d43c8069fa65e1d",
        "lead": "Engineering firm is part of consortium pushing for government backingRolls-Royce says it can create 6,000 UK jobs within five years if the government backs its plans to build small nuclear reactors around the country.The engineering company is part o...",
        "title": "Rolls-Royce vows to create 6,000 UK jobs with nuclear power station plans"
       },
       {
        "article_url": "https://www.theguardian.com/business/2020/nov/10/bp-plans-move-into-green-hydrogen-production",
        "category": "BP, Business, Energy industry, Oil, Oil and gas companies, Renewable energy, Energy, Environment, World news",
        "date": "2020-11-10 15:41",
        "dc:creator": "Jillian Ambrose Energy correspondent",
        "dc:date": "2020-11-10T15:41:24Z",
        "image_filetype": "jpg",
        "image_url": "https://i.guim.co.uk/img/media/12b3d6132f28df3d73af27f092a05520c10dd935/0_0_3026_1817/master/3026.jpg?width=460&quality=85&auto=format&fit=max&s=f6a66b9cbc2d10cfd1ef7e52417aae4f",
        "lead": "Oil company aims to create clean-burning gas using wind power at German refineryBP plans to take its first steps into the burgeoning market for green hydrogen alongside the offshore wind developer Ørsted by developing a hydrogen project at one of its...",
        "title": "BP plans move into green hydrogen production"
       },
       {
        "article_url": "https://www.theguardian.com/environment/2020/nov/10/renewable-energy-covid-19-record-growth-2020",
        "category": "Renewable energy, Climate change, Fossil fuels, Energy, Energy industry, Environment, Business",
        "date": "2020-11-10 06:00",
        "dc:creator": "Damian Carrington Environment editor",
        "dc:date": "2020-11-10T06:00:00Z",
        "image_filetype": "jpg",
        "image_url": "https://i.guim.co.uk/img/media/bdd651d98eb2e4a49ef840c59e135c6e4dd23939/0_235_3500_2100/master/3500.jpg?width=460&quality=85&auto=format&fit=max&s=6695ba7ee458229b69f9a3355d0548b0",
        "lead": "International Energy Agency expects green electricity to end coal’s 50-year reign by 2025Coronavirus – latest updatesSee all our coronavirus coverageGlobal renewable electricity installation will hit a record level in 2020, according to the Internati...",
        "title": "Renewable energy defies Covid-19 to hit record growth in 2020"
       },
       {
        "article_url": "https://www.theguardian.com/business/2020/nov/03/shells-climate-poll-on-twitter-backfires-spectacularly",
        "category": "Royal Dutch Shell, Climate change, Fossil fuels, Environment, Business, Oil, Oil and gas companies, World news, Energy, Energy industry, Commodities",
        "date": "2020-11-03 13:09",
        "dc:creator": "Damian Carrington Environment editor",
        "dc:date": "2020-11-03T13:09:44Z",
        "image_filetype": "jpg",
        "image_url": "https://i.guim.co.uk/img/media/effa099baccb06082a5604762f3f6c719943099a/0_206_5249_3149/master/5249.jpg?width=460&quality=85&auto=format&fit=max&s=26d795bcfac7ec7040a3ba29df823d25",
        "lead": "Oil giant accused of gaslighting after asking users: ‘What are you willing to change?’A climate poll on Twitter posted by Shell has backfired spectacularly, with the oil company accused of gaslighting the public.The survey, posted on Tuesday morning,...",
        "title": "Shell’s climate poll on Twitter backfires spectacularly"
       },
       {
        "article_url": "https://www.theguardian.com/world/2020/nov/01/russia-rules-out-cutting-fossil-fuel-production-in-next-few-decades",
        "category": "Russia, Fossil fuels, Greenhouse gas emissions, Carbon capture and storage (CCS), Energy, World news, Environment, Europe, Energy industry, Business, Climate change, Coal, Energy, Hydrogen power",
        "date": "2020-11-01 13:24",
        "dc:creator": "Jillian Ambrose",
        "dc:date": "2020-11-01T13:24:42Z",
        "image_filetype": "jpg",
        "image_url": "https://i.guim.co.uk/img/media/9b70e28ed526fa49fa7c4aa88fd8ce4ceadeb9a2/492_0_4626_2778/master/4626.jpg?width=460&quality=85&auto=format&fit=max&s=eae1384cbe6da3550bab3da262c4f89e",
        "lead": "Energy minister says Moscow will also focus on clean-burning hydrogen and carbon captureRussia has no plans to rein in its production of fossil fuels in the coming decades despite the global efforts to shift towards low-carbon energy, according to it...",
        "title": "Russia rules out cutting fossil fuel production in next few decades"
       },
       {
        "article_url": "https://www.theguardian.com/environment/2020/nov/01/uks-bid-to-power-every-home-via-offshore-windfarms-by-2030-at-risk",
        "category": "Renewable energy, Energy industry, UK news, RWE npower, Scottish Power, National Grid, Business, Environment, Energy, Utilities, Innogy",
        "date": "2020-11-01 12:52",
        "dc:creator": "Jillian Ambrose",
        "dc:date": "2020-11-01T12:52:56Z",
        "image_filetype": "jpg",
        "image_url": "https://i.guim.co.uk/img/media/7c6e113370738db89abf1a6a6aa48a4e72b51b9b/0_233_3500_2101/master/3500.jpg?width=460&quality=85&auto=format&fit=max&s=4894643b284124fb1d0e54976a9ff26a",
        "lead": "Germany’s RWE says outdated regulation is slowing investment in onshore electricity grid Britain’s bid to build enough offshore windfarms to power every home in the country by 2030 risks being derailed by outdated regulation which is slowing investme...",
        "title": "UK's bid to power every home via offshore windfarms by 2030 at risk"
       },
       {
        "article_url": "https://www.theguardian.com/business/2020/nov/01/end-of-oil-and-beginnings-of-a-low-carbon-planet",
        "category": "Oil and gas companies, Oil, Oil, Business, Energy industry, Coronavirus, BP, Royal Dutch Shell, World Trade Organization, Donald Trump, Commodities, Energy, Environment, Fossil fuels, US news, World news, Travel & leisure, Airline industry",
        "date": "2020-11-01 09:00",
        "dc:creator": null,
        "dc:date": "2020-11-01T09:00:16Z",
        "image_filetype": "jpg",
        "image_url": "https://i.guim.co.uk/img/media/915573246483e11a0ad79f395219c49a647ccea0/0_258_5495_3297/master/5495.jpg?width=460&quality=85&auto=format&fit=max&s=2640e212a60caa7437cf8571d8ace570",
        "lead": "With demand and share prices dropping, Europe’s fossil fuel producers recognise that peak oil is probably now behind themA year ago, only the most ardent climate optimists believed that the world’s appetite for oil might reach its peak in the next de...",
        "title": "On the horizon: the end of oil and the beginnings of a low-carbon planet"
       },
       {
        "article_url": "https://www.theguardian.com/business/2020/oct/30/exxonmobile-warns-of-30bn-writedown-of-shale-assets-as-energy-prices-fall",
        "category": "ExxonMobil, Shale oil, Business, Environment, Fossil fuels, Energy, Oil, Commodities, Oil, Oil and gas companies, Energy industry, US news",
        "date": "2020-10-30 17:24",
        "dc:creator": "Jillian Ambrose Energy correspondent",
        "dc:date": "2020-10-30T17:24:47Z",
        "image_filetype": "jpg",
        "image_url": "https://i.guim.co.uk/img/media/7620bc44f0b61e5e300684f0691fba5f396d4f79/0_40_5760_3459/master/5760.jpg?width=460&quality=85&auto=format&fit=max&s=267337d2ea2401bf4554ff110f551305",
        "lead": "Announcement follows record quarterly loss of $680m, its third quarterly deficit in a rowExxonMobil has warned it may write down the value of its US shale assets by up to $30bn (£23.2bn) following a steep drop in global energy prices that has led to ...",
        "title": "ExxonMobil warns of $30bn writedown of shale assets amid energy price slump"
       },
       {
        "article_url": "https://www.theguardian.com/environment/2020/oct/30/ecotricity-founder-to-grow-diamonds-made-entirely-from-the-sky",
        "category": "Renewable energy, Energy industry, Mining, UK news, Environment, Business, Energy",
        "date": "2020-10-30 00:01",
        "dc:creator": "Jillian Ambrose Energy correspondent",
        "dc:date": "2020-10-30T00:01:57Z",
        "image_filetype": "jpg",
        "image_url": "https://i.guim.co.uk/img/media/107b09dc7b3d8fcfa9c1b2f6796f9326ccf1f633/0_10_3500_2101/master/3500.jpg?width=460&quality=85&auto=format&fit=max&s=ad3eb1fe03565b9b68db0ef29d2337eb",
        "lead": "UK millionaire Dale Vince says lab-grown gems will be ‘world’s first zero-impact’ diamondsA British multi-millionaire and environmentalist has set out plans to create thousands of carats of carbon-negative, laboratory-grown diamonds every year “made ...",
        "title": "Ecotricity founder to grow diamonds 'made entirely from the sky'"
       },
       {
        "article_url": "https://www.theguardian.com/business/2020/oct/29/shell-dividends-oil-investors-third-quarter-results",
        "category": "Royal Dutch Shell, Business, Oil, Commodities, Oil and gas companies, Energy industry, Quarterly results",
        "date": "2020-10-29 19:08",
        "dc:creator": "Jillian Ambrose Energy correspondent",
        "dc:date": "2020-10-29T19:08:39Z",
        "image_filetype": "jpg",
        "image_url": "https://i.guim.co.uk/img/media/bcdfe9041a6fc7652bdfaf25592c72e26a96fa1d/0_348_5340_3205/master/5340.jpg?width=460&quality=85&auto=format&fit=max&s=a7ea72599aa07bce7ff8b0d89437f65f",
        "lead": "Oil firm to pay investors 16.65 cents despite modest third-quarter earningsRoyal Dutch Shell has reinstated its decades-long commitment to increasing shareholder payouts, despite admitting that its oil production may never recover from the coronaviru...",
        "title": "Shell raises dividends as profits beat expectations"
       },
       {
        "article_url": "https://www.theguardian.com/business/2020/oct/27/despite-weathering-covid-hsbc-shouldnt-be-paying-dividends-now",
        "category": "HSBC, Bank of England, Banking, Business, BP, Energy industry, Climate finance",
        "date": "2020-10-27 17:22",
        "dc:creator": "Larry Elliott",
        "dc:date": "2020-10-27T17:22:19Z",
        "image_filetype": "jpg",
        "image_url": "https://i.guim.co.uk/img/media/115b6fdbb61e4b53bcf5800166b276b9f4d2547e/0_274_4108_2463/master/4108.jpg?width=460&quality=85&auto=format&fit=max&s=6860f5a8e8662089693511a3d0b13bc7",
        "lead": "With a big presence in Asia, where economies haven’t been hit as hard, the bank is feeling optimisticWith Covid-19 cases surging across much of the developed world, it is a brave call to say that the worst of the pandemic is over. That, though, is th...",
        "title": "Despite weathering Covid, HSBC shouldn't be paying dividends now | Larry Elliott"
       },
       {
        "article_url": "https://www.theguardian.com/business/2020/oct/27/bp-makes-100m-q3-profit-as-oil-markets-begin-to-recover",
        "category": "BP, Business, Energy industry, Oil, Oil and gas companies, Coronavirus, Climate change, UK news, World news, Quarterly results, Commodities",
        "date": "2020-10-27 16:19",
        "dc:creator": "Jillian Ambrose Energy correspondent",
        "dc:date": "2020-10-27T16:19:18Z",
        "image_filetype": "jpg",
        "image_url": "https://i.guim.co.uk/img/media/16ca345fb9b0327af05cf57190ddea7b6b70774c/0_191_5760_3458/master/5760.jpg?width=460&quality=85&auto=format&fit=max&s=4a553e544db643f2a463c1416e8f64c8",
        "lead": "Firm prepares to cut thousands of jobs worldwide as pandemic creates uncertaintyCoronavirus – latest updatesSee all our coronavirus coverageBP has warned that the oil market continues to face a volatile future because of the coronavirus pandemic as i...",
        "title": "BP warns of volatile future for oil market as it returns to profit"
       },
       {
        "article_url": "https://www.theguardian.com/environment/2020/oct/27/bp-leads-energy-companies-preparing-two-major-uk-carbon-capture-projects",
        "category": "Carbon capture and storage (CCS), Oil, Oil and gas companies, Energy industry, BP, Business, UK news, Greenhouse gas emissions, Climate change, Energy, Fossil fuels, Environment",
        "date": "2020-10-27 06:00",
        "dc:creator": "Jillian Ambrose",
        "dc:date": "2020-10-27T06:00:41Z",
        "image_filetype": "jpg",
        "image_url": "https://i.guim.co.uk/img/media/aa8aae42d3e0cdce4e8d50634d68fb40eee76f50/100_0_3300_1981/master/3300.jpg?width=460&quality=85&auto=format&fit=max&s=0f77e3b20fc12cbd3948584789168781",
        "lead": "17m tonnes of carbon dioxide to be stored beneath the North Sea every yearAfter decades spent extracting fossil fuels from the UK’s North Sea, a consortium of oil companies is preparing to pump Britain’s greenhouse gas emissions back beneath the seab...",
        "title": "BP leads energy companies preparing two major UK carbon capture projects"
       },
       {
        "article_url": "https://www.theguardian.com/business/2020/oct/25/investors-fear-therell-be-no-bright-post-covid-dawn-for-oil-majors",
        "category": "Oil, Oil and gas companies, Coronavirus, BP, Royal Dutch Shell, Renewable energy, Business, Energy industry",
        "date": "2020-10-24 23:05",
        "dc:creator": "Jillian Ambrose",
        "dc:date": "2020-10-24T23:05:37Z",
        "image_filetype": "jpg",
        "image_url": "https://i.guim.co.uk/img/media/57c42324cacf3029b005a1787c639b04c6e8ef66/0_0_5760_3456/master/5760.jpg?width=460&quality=85&auto=format&fit=max&s=6420cb993b2038c07e1e03c1900e40be",
        "lead": "The industry may have put the lows of summer behind it, but this week will show that previous highs are now unreachableThe oil market may have heaved itself out of the darkness of “Black April” but investors are far from convinced that major oil comp...",
        "title": "Investors fear there'll be no bright post-Covid dawn for oil majors"
       },
       {
        "article_url": "https://www.theguardian.com/business/2020/oct/22/scottish-energy-company-ssen-investigates-blackout-caused-by-subsea-cable-failure",
        "category": "Energy industry, Scotland",
        "date": "2020-10-22 16:29",
        "dc:creator": "Severin Carrell Scotland editor",
        "dc:date": "2020-10-22T16:29:07Z",
        "image_filetype": "jpg",
        "image_url": "https://i.guim.co.uk/img/media/ee00a10a833dba758401e18bd2488fa836364b92/0_395_6158_3695/master/6158.jpg?width=460&quality=85&auto=format&fit=max&s=58f879db8121080b875915f65691a1b9",
        "lead": "18,000 homes were affected by underwater cable fault between Skye and HarrisAn energy company is investigating how an underwater cable connecting the Western Isles with mainland Scotland was cut suddenly, causing a blackout that affected roughly 18,0...",
        "title": "Scottish energy company investigates blackout caused by subsea cable failure"
       }
      ],
      "text/plain": [
       "<IPython.core.display.JSON object>"
      ]
     },
     "execution_count": 18,
     "metadata": {
      "application/json": {
       "expanded": false,
       "root": "root"
      }
     },
     "output_type": "execute_result"
    }
   ],
   "source": [
    "def extract_image_filetype(img_url):\n",
    "    potential_filetypes = ['jpg', 'png']\n",
    "    \n",
    "    for filetype in potential_filetypes:\n",
    "        if filetype in img_url:\n",
    "            return filetype\n",
    "        \n",
    "def retrieve_all_current_articles():\n",
    "    rss_url = 'https://www.theguardian.com/business/energy-industry/rss'\n",
    "\n",
    "    r = requests.get(rss_url)\n",
    "    xml = xmltodict.parse(r.content)\n",
    "\n",
    "    articles = list(pd\n",
    "                    .DataFrame(xml['rss']['channel']['item'])\n",
    "                    .pipe(lambda df: df.assign(category=df['category'].apply(lambda cats: [cat['#text'] for cat in cats]).str.join(', ')))\n",
    "                    .pipe(lambda df: df.assign(pubDate=pd.to_datetime(df['pubDate']).dt.strftime('%Y-%m-%d %H:%M')))\n",
    "                    .pipe(lambda df: df.assign(image_url=df['media:content'].apply(lambda x: x[-1]['@url'])))\n",
    "                    .pipe(lambda df: df.assign(image_filetype=df['image_url'].apply(extract_image_filetype)))\n",
    "                    .pipe(lambda df: df.assign(description=df['description'].apply(lambda description: BeautifulSoup(description).get_text()[:250]+'...')))\n",
    "                    .drop(columns=['media:content', 'guid'])\n",
    "                    .rename(columns={\n",
    "                        'link': 'article_url',\n",
    "                        'dc:subject': 'category',\n",
    "                        'description': 'lead',\n",
    "                        'pubDate': 'date',\n",
    "                    })\n",
    "                    .T\n",
    "                    .to_dict()\n",
    "                    .values()\n",
    "                   )\n",
    "    \n",
    "    return articles\n",
    "\n",
    "articles = retrieve_all_current_articles()\n",
    "\n",
    "JSON(articles)"
   ]
  },
  {
   "cell_type": "code",
   "execution_count": null,
   "metadata": {},
   "outputs": [],
   "source": []
  }
 ],
 "metadata": {
  "kernelspec": {
   "display_name": "EnergyNews",
   "language": "python",
   "name": "energynews"
  },
  "language_info": {
   "codemirror_mode": {
    "name": "ipython",
    "version": 3
   },
   "file_extension": ".py",
   "mimetype": "text/x-python",
   "name": "python",
   "nbconvert_exporter": "python",
   "pygments_lexer": "ipython3",
   "version": "3.7.8"
  }
 },
 "nbformat": 4,
 "nbformat_minor": 4
}
