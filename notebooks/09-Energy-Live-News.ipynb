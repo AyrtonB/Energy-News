{
 "cells": [
  {
   "cell_type": "markdown",
   "metadata": {},
   "source": [
    "# Energy Live News\n",
    "\n",
    "<br>\n",
    "\n",
    "### Imports"
   ]
  },
  {
   "cell_type": "code",
   "execution_count": 1,
   "metadata": {},
   "outputs": [],
   "source": [
    "import pandas as pd\n",
    "\n",
    "import requests\n",
    "from bs4 import BeautifulSoup\n",
    "\n",
    "from IPython.core.display import JSON"
   ]
  },
  {
   "cell_type": "code",
   "execution_count": null,
   "metadata": {},
   "outputs": [],
   "source": []
  },
  {
   "cell_type": "code",
   "execution_count": 2,
   "metadata": {},
   "outputs": [
    {
     "data": {
      "text/plain": [
       "<Response [200]>"
      ]
     },
     "execution_count": 2,
     "metadata": {},
     "output_type": "execute_result"
    }
   ],
   "source": [
    "topic_to_bbc_url = lambda topic: f'https://www.bbc.co.uk/news/topics/{topic}'\n",
    "\n",
    "url = topic_to_bbc_url('cdl8n2edl43t/energy-industry')\n",
    "r = requests.get(url)\n",
    "\n",
    "r"
   ]
  },
  {
   "cell_type": "code",
   "execution_count": null,
   "metadata": {},
   "outputs": [],
   "source": []
  },
  {
   "cell_type": "code",
   "execution_count": 3,
   "metadata": {},
   "outputs": [
    {
     "data": {
      "text/plain": [
       "20"
      ]
     },
     "execution_count": 3,
     "metadata": {},
     "output_type": "execute_result"
    }
   ],
   "source": [
    "soup = BeautifulSoup(r.content)\n",
    "\n",
    "articles_soup = soup.findAll('article')\n",
    "\n",
    "len(articles_soup)"
   ]
  },
  {
   "cell_type": "code",
   "execution_count": null,
   "metadata": {},
   "outputs": [],
   "source": []
  },
  {
   "cell_type": "code",
   "execution_count": 4,
   "metadata": {},
   "outputs": [
    {
     "data": {
      "text/plain": [
       "{'date': '2020-11-11 17:21',\n",
       " 'title': \"Offshore projects restart 'could take three years'\",\n",
       " 'lead': 'Industry body Oil and Gas UK sounds the warning amid the pandemic and the sharp drop in energy prices.',\n",
       " 'article_url': 'https://www.bbc.co.uk/news/uk-scotland-scotland-business-54905615',\n",
       " 'image_url': 'https://ichef.bbci.co.uk/live-experience/cps/320/cpsprodpb/CAC3/production/_114670915_capture.png'}"
      ]
     },
     "execution_count": 4,
     "metadata": {},
     "output_type": "execute_result"
    }
   ],
   "source": [
    "def extract_article_data(soup):\n",
    "    attr_to_extractor_func = {\n",
    "        'date': lambda soup: pd.to_datetime(soup.find('time').findAll('span')[-1].text).strftime('%Y-%m-%d %H:%M'),\n",
    "        'title': lambda soup: soup.find('a').text,\n",
    "        'lead': lambda soup: soup.findAll('p')[-1].text,\n",
    "        'article_url': lambda soup: 'https://www.bbc.co.uk' + soup.find('a')['href'],\n",
    "        'image_url': lambda soup: soup.find('img')['src']\n",
    "    }\n",
    "    \n",
    "    article = dict()\n",
    "    \n",
    "    for attr, extractor_func in attr_to_extractor_func.items():\n",
    "        try:\n",
    "            article[attr] = extractor_func(soup)\n",
    "        except:\n",
    "            pass\n",
    "    \n",
    "    return article\n",
    "\n",
    "article = extract_article_data(articles_soup[0])\n",
    "\n",
    "article"
   ]
  },
  {
   "cell_type": "code",
   "execution_count": null,
   "metadata": {},
   "outputs": [],
   "source": []
  },
  {
   "cell_type": "code",
   "execution_count": 5,
   "metadata": {},
   "outputs": [
    {
     "data": {
      "application/json": [
       [
        {
         "article_url": "https://www.bbc.co.uk/news/uk-scotland-scotland-business-54905615",
         "date": "2020-11-11 17:21",
         "image_url": "https://ichef.bbci.co.uk/live-experience/cps/320/cpsprodpb/CAC3/production/_114670915_capture.png",
         "lead": "Industry body Oil and Gas UK sounds the warning amid the pandemic and the sharp drop in energy prices.",
         "title": "Offshore projects restart 'could take three years'"
        },
        {
         "article_url": "https://www.bbc.co.uk/news/business-54867442",
         "date": "2020-11-09 09:04",
         "image_url": "https://ichef.bbci.co.uk/live-experience/cps/96/cpsprodpb/15C6D/production/_112979198_simonjack.jpg",
         "lead": "The government is committed to building nuclear power stations to decarbonise the UK's electricity.",
         "title": "UK's nuclear future to be decided at key meeting"
        },
        {
         "article_url": "https://www.bbc.co.uk/news/business-54841528",
         "date": "2020-11-07 11:16",
         "image_url": "https://ichef.bbci.co.uk/live-experience/cps/320/cpsprodpb/1059C/production/_109327966_highviewpower-50mw-250mwh-cryobattery-002.jpg",
         "lead": "The 50MW facility near Manchester hopes to store enough power for roughly 50,000 homes.",
         "title": "UK energy plant to use liquid air"
        },
        {
         "article_url": "https://www.bbc.co.uk/news/uk-scotland-51088089",
         "date": "2020-11-04 00:48",
         "image_url": "https://ichef.bbci.co.uk/live-experience/cps/320/cpsprodpb/AB26/production/_115241834_gettyimages-1175918233.jpg",
         "lead": "One year before a major UN climate conference comes to Glasgow, we ask what Scotland is doing about climate change.",
         "title": "How well is Scotland tackling climate change?"
        },
        {
         "article_url": "https://www.bbc.co.uk/news/uk-scotland-north-east-orkney-shetland-54792489",
         "date": "2020-11-04 00:48",
         "image_url": "https://ichef.bbci.co.uk/live-experience/cps/320/cpsprodpb/3A95/production/_87679941_northsea_pa.gif",
         "lead": "Figures from industry body Oil and Gas UK show hydrocarbon releases rose from 101 in 2018 to 125.",
         "title": "Offshore oil and gas leaks up by almost a quarter"
        },
        {
         "article_url": "https://www.bbc.co.uk/news/business-54775143",
         "date": "2020-11-02 21:09",
         "image_url": "https://ichef.bbci.co.uk/live-experience/cps/320/cpsprodpb/12FC7/production/_115176777_gettyimages-487829113.jpg",
         "lead": "Worries about a fall in global oil demand and US presidential election uncertainty have caused jitters.",
         "title": "Markets rise after lockdowns prompt oil price plunge"
        },
        {
         "article_url": "https://www.bbc.co.uk/news/uk-scotland-scotland-politics-54441613",
         "date": "2020-11-02 00:24",
         "image_url": "https://ichef.bbci.co.uk/live-experience/cps/320/cpsprodpb/156A/production/_115128450_gettyimages-1020824738.jpg",
         "lead": "Not for the first time, politicians highlight Scotland's potential to generate renewable energy.",
         "title": "Scotland: 'The Saudi Arabia of renewables'?"
        },
        {
         "article_url": "https://www.bbc.co.uk/news/business-54754016",
         "date": "2020-10-30 23:12",
         "image_url": "https://ichef.bbci.co.uk/live-experience/cps/320/cpsprodpb/0C7F/production/_86099130_coverimageedfbetterquality.jpg",
         "lead": "The BBC has learned that talks with contractor EDF have intensified in recent weeks.",
         "title": "New nuclear plant at Sizewell set for green light"
        },
        {
         "article_url": "https://www.bbc.co.uk/news/business-54731032",
         "date": "2020-10-29 09:01",
         "image_url": "https://ichef.bbci.co.uk/live-experience/cps/320/cpsprodpb/6B1C/production/_113302472_gettyimages-668391976.jpg",
         "lead": "Utilita apologises \"unreservedly\" after overcharging almost 40,000 of its prepayment customers.",
         "title": "Energy firm pays £500,000 for overcharging customers"
        },
        {
         "article_url": "https://www.bbc.co.uk/news/uk-scotland-scotland-business-54692033",
         "date": "2020-10-27 00:13",
         "image_url": "https://ichef.bbci.co.uk/live-experience/cps/320/cpsprodpb/1792A/production/_111345569_gettyimages-1148464287.jpg",
         "lead": "A halt in drilling and engineering construction are being blamed for the sudden loss of 4,000 jobs.",
         "title": "Offshore workforce down a third as lockdown began"
        },
        {
         "article_url": "https://www.bbc.co.uk/news/uk-northern-ireland-54612571",
         "date": "2020-10-20 12:00",
         "image_url": "https://ichef.bbci.co.uk/live-experience/cps/320/cpsprodpb/81F1/production/_108556233_electricitypylonsreuters.jpg",
         "lead": "The payment follows a Utility Regulator investigation focusing on Electric Ireland's treatment of customers.",
         "title": "Electric Ireland to pay charities after investigation"
        },
        {
         "article_url": "https://www.bbc.co.uk/news/business-54593185",
         "date": "2020-10-18 23:34",
         "image_url": "https://ichef.bbci.co.uk/live-experience/cps/320/cpsprodpb/99EE/production/_114960493_sad1.jpg",
         "lead": "Ofgem will require suppliers to offer emergency credit and put people on 'realistic' repayment plans.",
         "title": "People to get emergency help to pay energy bills"
        },
        {
         "article_url": "https://www.bbc.co.uk/news/uk-england-hampshire-54539671",
         "date": "2020-10-15 13:05",
         "image_url": "https://ichef.bbci.co.uk/live-experience/cps/320/cpsprodpb/11B84/production/_114908527_pic2nationalgridsnewinterconnectorifa2willpoweronemillionbritishhomesandavoid1.png",
         "lead": "The IFA2 interconnector to France could deliver 1.2% of Britain's energy needs, National Grid says.",
         "title": "Cross-channel electricity link goes live in tests"
        },
        {
         "article_url": "https://www.bbc.co.ukhttps://www.bbc.co.uk/news/uk-england-hampshire-50345575",
         "date": "2020-10-07 16:31",
         "image_url": "data:image/gif;base64,R0lGODlhAQABAIAAAAAAAP///yH5BAEAAAAALAAAAAABAAEAAAIBRAA7",
         "lead": "However Aquind said no allotments would be affected, according to the Local Democracy Reporting Service.",
         "title": "submitted plans "
        },
        {
         "article_url": "https://www.bbc.co.uk/news/business-54351815",
         "date": "2020-09-30 06:44",
         "image_url": "https://ichef.bbci.co.uk/live-experience/cps/320/cpsprodpb/8C81/production/_95896953_shell.jpg",
         "lead": "The move comes five months after it cut its dividend for the first time since World War Two.",
         "title": "Shell to cut up to 9,000 jobs as oil demand slumps"
        },
        {
         "article_url": "https://www.bbc.co.uk/news/uk-england-nottinghamshire-54056695",
         "date": "2020-09-16 23:28",
         "image_url": "https://ichef.bbci.co.uk/live-experience/cps/320/cpsprodpb/C8B4/production/_114308315_gettyimages-591568715-2.jpg",
         "lead": "Robin Hood Energy aimed to help the poor but ended up taking millions out of public coffers.",
         "title": "The failed council firm that cost city millions"
        },
        {
         "article_url": "https://www.bbc.co.uk/news/uk-england-nottinghamshire-54018935",
         "date": "2020-09-03 21:47",
         "image_url": "https://ichef.bbci.co.uk/live-experience/cps/320/cpsprodpb/6BBA/production/_113887572_hi029977556.jpg",
         "lead": "More than 200 people are to be made redundant after the collapse of Robin Hood Energy.",
         "title": "Job losses as council-run energy firm collapses"
        },
        {
         "article_url": "https://www.bbc.co.uk/news/uk-northern-ireland-53985334",
         "date": "2020-09-03 06:57",
         "image_url": "https://ichef.bbci.co.uk/live-experience/cps/320/cpsprodpb/B76F/production/_114195964_f4c79c35-2471-4d6e-a67e-7f4169819b4a.jpg",
         "lead": "The company is reducing tariffs for the second time this year for 50,000 customers outside Belfast.",
         "title": "Firmus Energy to cut some gas prices by 12%"
        },
        {
         "article_url": "https://www.bbc.co.uk/news/business-54009478",
         "date": "2020-09-03 06:46",
         "image_url": "https://ichef.bbci.co.uk/live-experience/cps/320/cpsprodpb/16C82/production/_108241339_gettyimages-96666533.jpg",
         "lead": "The fine relates to delays in disclosing a deal that SSE struck with National Grid in March 2016.",
         "title": "SSE fined £2m by Ofgem over 'inside information'"
        },
        {
         "article_url": "https://www.bbc.co.uk/news/uk-england-nottinghamshire-53735392",
         "date": "2020-08-12 09:39",
         "image_url": "https://ichef.bbci.co.uk/live-experience/cps/320/cpsprodpb/6BBA/production/_113887572_hi029977556.jpg",
         "lead": "A council is accused of \"institutional blindness\" after putting millions of pounds into Robin Hood Energy.",
         "title": "Council cuts after energy firm loses millions"
        }
       ]
      ],
      "text/plain": [
       "<IPython.core.display.JSON object>"
      ]
     },
     "execution_count": 5,
     "metadata": {
      "application/json": {
       "expanded": false,
       "root": "root"
      }
     },
     "output_type": "execute_result"
    }
   ],
   "source": [
    "def response_to_articles(r):\n",
    "    soup = BeautifulSoup(r.content)\n",
    "    articles_soup = soup.findAll('article')\n",
    "\n",
    "    articles = []\n",
    "\n",
    "    for article_soup in articles_soup:\n",
    "        article = extract_article_data(article_soup)\n",
    "        articles += [article]\n",
    "        \n",
    "    return articles\n",
    "\n",
    "articles = response_to_articles(r)\n",
    "    \n",
    "JSON([articles])"
   ]
  },
  {
   "cell_type": "code",
   "execution_count": null,
   "metadata": {},
   "outputs": [],
   "source": []
  },
  {
   "cell_type": "code",
   "execution_count": 6,
   "metadata": {},
   "outputs": [
    {
     "data": {
      "application/json": [
       [
        {
         "article_url": "https://www.bbc.co.uk/news/uk-scotland-scotland-business-54905615",
         "date": "2020-11-11 17:21",
         "image_url": "https://ichef.bbci.co.uk/live-experience/cps/320/cpsprodpb/CAC3/production/_114670915_capture.png",
         "lead": "Industry body Oil and Gas UK sounds the warning amid the pandemic and the sharp drop in energy prices.",
         "section": "energy-industry",
         "title": "Offshore projects restart 'could take three years'"
        },
        {
         "article_url": "https://www.bbc.co.uk/news/business-54867442",
         "date": "2020-11-09 09:04",
         "image_url": "https://ichef.bbci.co.uk/live-experience/cps/96/cpsprodpb/15C6D/production/_112979198_simonjack.jpg",
         "lead": "The government is committed to building nuclear power stations to decarbonise the UK's electricity.",
         "section": "energy-industry",
         "title": "UK's nuclear future to be decided at key meeting"
        },
        {
         "article_url": "https://www.bbc.co.uk/news/business-54841528",
         "date": "2020-11-07 11:16",
         "image_url": "https://ichef.bbci.co.uk/live-experience/cps/320/cpsprodpb/1059C/production/_109327966_highviewpower-50mw-250mwh-cryobattery-002.jpg",
         "lead": "The 50MW facility near Manchester hopes to store enough power for roughly 50,000 homes.",
         "section": "energy-industry",
         "title": "UK energy plant to use liquid air"
        },
        {
         "article_url": "https://www.bbc.co.uk/news/uk-scotland-51088089",
         "date": "2020-11-04 00:48",
         "image_url": "https://ichef.bbci.co.uk/live-experience/cps/320/cpsprodpb/AB26/production/_115241834_gettyimages-1175918233.jpg",
         "lead": "One year before a major UN climate conference comes to Glasgow, we ask what Scotland is doing about climate change.",
         "section": "energy-industry",
         "title": "How well is Scotland tackling climate change?"
        },
        {
         "article_url": "https://www.bbc.co.uk/news/uk-scotland-north-east-orkney-shetland-54792489",
         "date": "2020-11-04 00:48",
         "image_url": "https://ichef.bbci.co.uk/live-experience/cps/320/cpsprodpb/3A95/production/_87679941_northsea_pa.gif",
         "lead": "Figures from industry body Oil and Gas UK show hydrocarbon releases rose from 101 in 2018 to 125.",
         "section": "energy-industry",
         "title": "Offshore oil and gas leaks up by almost a quarter"
        },
        {
         "article_url": "https://www.bbc.co.uk/news/business-54775143",
         "date": "2020-11-02 21:09",
         "image_url": "https://ichef.bbci.co.uk/live-experience/cps/320/cpsprodpb/12FC7/production/_115176777_gettyimages-487829113.jpg",
         "lead": "Worries about a fall in global oil demand and US presidential election uncertainty have caused jitters.",
         "section": "energy-industry",
         "title": "Markets rise after lockdowns prompt oil price plunge"
        },
        {
         "article_url": "https://www.bbc.co.uk/news/uk-scotland-scotland-politics-54441613",
         "date": "2020-11-02 00:24",
         "image_url": "https://ichef.bbci.co.uk/live-experience/cps/320/cpsprodpb/156A/production/_115128450_gettyimages-1020824738.jpg",
         "lead": "Not for the first time, politicians highlight Scotland's potential to generate renewable energy.",
         "section": "energy-industry",
         "title": "Scotland: 'The Saudi Arabia of renewables'?"
        },
        {
         "article_url": "https://www.bbc.co.uk/news/business-54754016",
         "date": "2020-10-30 23:12",
         "image_url": "https://ichef.bbci.co.uk/live-experience/cps/320/cpsprodpb/0C7F/production/_86099130_coverimageedfbetterquality.jpg",
         "lead": "The BBC has learned that talks with contractor EDF have intensified in recent weeks.",
         "section": "energy-industry",
         "title": "New nuclear plant at Sizewell set for green light"
        },
        {
         "article_url": "https://www.bbc.co.uk/news/business-54731032",
         "date": "2020-10-29 09:01",
         "image_url": "https://ichef.bbci.co.uk/live-experience/cps/320/cpsprodpb/6B1C/production/_113302472_gettyimages-668391976.jpg",
         "lead": "Utilita apologises \"unreservedly\" after overcharging almost 40,000 of its prepayment customers.",
         "section": "energy-industry",
         "title": "Energy firm pays £500,000 for overcharging customers"
        },
        {
         "article_url": "https://www.bbc.co.uk/news/uk-scotland-scotland-business-54692033",
         "date": "2020-10-27 00:13",
         "image_url": "https://ichef.bbci.co.uk/live-experience/cps/320/cpsprodpb/1792A/production/_111345569_gettyimages-1148464287.jpg",
         "lead": "A halt in drilling and engineering construction are being blamed for the sudden loss of 4,000 jobs.",
         "section": "energy-industry",
         "title": "Offshore workforce down a third as lockdown began"
        },
        {
         "article_url": "https://www.bbc.co.uk/news/uk-northern-ireland-54612571",
         "date": "2020-10-20 12:00",
         "image_url": "https://ichef.bbci.co.uk/live-experience/cps/320/cpsprodpb/81F1/production/_108556233_electricitypylonsreuters.jpg",
         "lead": "The payment follows a Utility Regulator investigation focusing on Electric Ireland's treatment of customers.",
         "section": "energy-industry",
         "title": "Electric Ireland to pay charities after investigation"
        },
        {
         "article_url": "https://www.bbc.co.uk/news/business-54593185",
         "date": "2020-10-18 23:34",
         "image_url": "https://ichef.bbci.co.uk/live-experience/cps/320/cpsprodpb/99EE/production/_114960493_sad1.jpg",
         "lead": "Ofgem will require suppliers to offer emergency credit and put people on 'realistic' repayment plans.",
         "section": "energy-industry",
         "title": "People to get emergency help to pay energy bills"
        },
        {
         "article_url": "https://www.bbc.co.uk/news/uk-england-hampshire-54539671",
         "date": "2020-10-15 13:05",
         "image_url": "https://ichef.bbci.co.uk/live-experience/cps/320/cpsprodpb/11B84/production/_114908527_pic2nationalgridsnewinterconnectorifa2willpoweronemillionbritishhomesandavoid1.png",
         "lead": "The IFA2 interconnector to France could deliver 1.2% of Britain's energy needs, National Grid says.",
         "section": "energy-industry",
         "title": "Cross-channel electricity link goes live in tests"
        },
        {
         "article_url": "https://www.bbc.co.ukhttps://www.bbc.co.uk/news/uk-england-hampshire-50345575",
         "date": "2020-10-07 16:31",
         "image_url": "data:image/gif;base64,R0lGODlhAQABAIAAAAAAAP///yH5BAEAAAAALAAAAAABAAEAAAIBRAA7",
         "lead": "However Aquind said no allotments would be affected, according to the Local Democracy Reporting Service.",
         "section": "energy-industry",
         "title": "submitted plans "
        },
        {
         "article_url": "https://www.bbc.co.uk/news/business-54351815",
         "date": "2020-09-30 06:44",
         "image_url": "https://ichef.bbci.co.uk/live-experience/cps/320/cpsprodpb/8C81/production/_95896953_shell.jpg",
         "lead": "The move comes five months after it cut its dividend for the first time since World War Two.",
         "section": "energy-industry",
         "title": "Shell to cut up to 9,000 jobs as oil demand slumps"
        },
        {
         "article_url": "https://www.bbc.co.uk/news/uk-england-nottinghamshire-54056695",
         "date": "2020-09-16 23:28",
         "image_url": "https://ichef.bbci.co.uk/live-experience/cps/320/cpsprodpb/C8B4/production/_114308315_gettyimages-591568715-2.jpg",
         "lead": "Robin Hood Energy aimed to help the poor but ended up taking millions out of public coffers.",
         "section": "energy-industry",
         "title": "The failed council firm that cost city millions"
        },
        {
         "article_url": "https://www.bbc.co.uk/news/uk-england-nottinghamshire-54018935",
         "date": "2020-09-03 21:47",
         "image_url": "https://ichef.bbci.co.uk/live-experience/cps/320/cpsprodpb/6BBA/production/_113887572_hi029977556.jpg",
         "lead": "More than 200 people are to be made redundant after the collapse of Robin Hood Energy.",
         "section": "energy-industry",
         "title": "Job losses as council-run energy firm collapses"
        },
        {
         "article_url": "https://www.bbc.co.uk/news/uk-northern-ireland-53985334",
         "date": "2020-09-03 06:57",
         "image_url": "https://ichef.bbci.co.uk/live-experience/cps/320/cpsprodpb/B76F/production/_114195964_f4c79c35-2471-4d6e-a67e-7f4169819b4a.jpg",
         "lead": "The company is reducing tariffs for the second time this year for 50,000 customers outside Belfast.",
         "section": "energy-industry",
         "title": "Firmus Energy to cut some gas prices by 12%"
        },
        {
         "article_url": "https://www.bbc.co.uk/news/business-54009478",
         "date": "2020-09-03 06:46",
         "image_url": "https://ichef.bbci.co.uk/live-experience/cps/320/cpsprodpb/16C82/production/_108241339_gettyimages-96666533.jpg",
         "lead": "The fine relates to delays in disclosing a deal that SSE struck with National Grid in March 2016.",
         "section": "energy-industry",
         "title": "SSE fined £2m by Ofgem over 'inside information'"
        },
        {
         "article_url": "https://www.bbc.co.uk/news/uk-england-nottinghamshire-53735392",
         "date": "2020-08-12 09:39",
         "image_url": "https://ichef.bbci.co.uk/live-experience/cps/320/cpsprodpb/6BBA/production/_113887572_hi029977556.jpg",
         "lead": "A council is accused of \"institutional blindness\" after putting millions of pounds into Robin Hood Energy.",
         "section": "energy-industry",
         "title": "Council cuts after energy firm loses millions"
        },
        {
         "article_url": "https://www.bbc.co.uk/news/uk-wales-54643828",
         "date": "2020-11-15 00:01",
         "image_url": "https://ichef.bbci.co.uk/live-experience/cps/320/cpsprodpb/004A/production/_115047000_p059m3r2.jpg",
         "lead": "Successful trials suggest they could provide electricity on a mass scale.",
         "section": "renewable-energy",
         "title": "Could floating turbines power our homes?"
        },
        {
         "article_url": "https://www.bbc.co.uk/news/uk-wales-54924850",
         "date": "2020-11-12 20:33",
         "lead": "The venture will create green energy and jobs for the future, a developer says.",
         "section": "renewable-energy",
         "title": "Floating windfarm plan 'really exciting'"
        },
        {
         "article_url": "https://www.bbc.co.uk/news/uk-wales-54920523",
         "date": "2020-11-12 15:06",
         "image_url": "https://ichef.bbci.co.uk/live-experience/cps/320/cpsprodpb/AADA/production/_115383734_de25.jpg",
         "lead": "It would be built 28 miles from the Pembrokeshire coast and power almost 90,000 homes.",
         "section": "renewable-energy",
         "title": "First floating windfarm planned off Welsh coast"
        },
        {
         "article_url": "https://www.bbc.co.uk/news/uk-wales-54915368",
         "date": "2020-11-12 13:27",
         "image_url": "https://ichef.bbci.co.uk/live-experience/cps/320/cpsprodpb/15EDA/production/_108281898_p07kf4fz.jpg",
         "lead": "'Blue energy' is created by harnessing power generated tides, waves and sometimes rivers.",
         "section": "renewable-energy",
         "title": "Bardsey set to be first 'blue energy' island"
        },
        {
         "article_url": "https://www.bbc.co.uk/news/uk-wales-54916740",
         "date": "2020-11-12 11:46",
         "image_url": "https://ichef.bbci.co.uk/live-experience/cps/320/cpsprodpb/0F44/production/_115380930_solarpanels_pa.jpg",
         "lead": "The scheme would generate enough power for more than 20,000 homes if approved by government.",
         "section": "renewable-energy",
         "title": "Huge solar energy farm backed by councillors"
        },
        {
         "article_url": "https://www.bbc.co.uk/news/science-environment-54703204",
         "date": "2020-11-11 12:08",
         "image_url": "https://ichef.bbci.co.uk/live-experience/cps/96/cpsprodpb/10F19/production/_112910496_justinrowlatt.jpg",
         "lead": "The firm says the project will create 6,000 new jobs in the Midlands and the North of England",
         "section": "renewable-energy",
         "title": "Rolls-Royce plans 16 mini-nuclear plants for UK"
        },
        {
         "article_url": "https://www.bbc.co.uk/news/uk-wales-54888919",
         "date": "2020-11-10 20:15",
         "image_url": "https://ichef.bbci.co.uk/live-experience/cps/320/cpsprodpb/7B7E/production/_115341613_gettyimages-813709938.jpg",
         "lead": "Human waste is converted into hydrogen fuel which can power zero-emission vehicles, in the project.",
         "section": "renewable-energy",
         "title": "Green light to create fuel from sewage"
        },
        {
         "article_url": "https://www.bbc.co.uk/news/science-environment-54832236",
         "date": "2020-11-08 00:17",
         "image_url": "https://ichef.bbci.co.uk/live-experience/cps/320/cpsprodpb/0859/production/_115273120_gettyimages-976692462.jpg",
         "lead": "Tackling climate change will need action right across society and the economy - with a host of new incentives.",
         "section": "renewable-energy",
         "title": "Why the UK's carbon-free future will need rules"
        },
        {
         "article_url": "https://www.bbc.co.uk/news/business-54841528",
         "date": "2020-11-07 11:16",
         "image_url": "https://ichef.bbci.co.uk/live-experience/cps/320/cpsprodpb/1059C/production/_109327966_highviewpower-50mw-250mwh-cryobattery-002.jpg",
         "lead": "The 50MW facility near Manchester hopes to store enough power for roughly 50,000 homes.",
         "section": "renewable-energy",
         "title": "UK energy plant to use liquid air"
        },
        {
         "article_url": "https://www.bbc.co.uk/news/uk-scotland-51088089",
         "date": "2020-11-04 00:48",
         "image_url": "https://ichef.bbci.co.uk/live-experience/cps/320/cpsprodpb/AB26/production/_115241834_gettyimages-1175918233.jpg",
         "lead": "One year before a major UN climate conference comes to Glasgow, we ask what Scotland is doing about climate change.",
         "section": "renewable-energy",
         "title": "How well is Scotland tackling climate change?"
        },
        {
         "article_url": "https://www.bbc.co.uk/news/uk-scotland-edinburgh-east-fife-54787955",
         "date": "2020-11-03 20:09",
         "image_url": "https://ichef.bbci.co.uk/live-experience/cps/320/cpsprodpb/16F1A/production/_115187939_gettyimages-917838250.jpg",
         "lead": "Fiona Hyslop says state aid rules bar the Scottish government from putting more money into the firm.",
         "section": "renewable-energy",
         "title": "Government 'cannot continue to support' BiFab"
        },
        {
         "article_url": "https://www.bbc.co.uk/news/uk-wales-54782345",
         "date": "2020-11-03 00:29",
         "image_url": "https://ichef.bbci.co.uk/live-experience/cps/320/cpsprodpb/1145C/production/_115184707_gettyimages-1276414843.jpg",
         "lead": "An industry body says targets for lower emissions could be missed as a result.",
         "section": "renewable-energy",
         "title": "Green energy 'hindered by strained grid capacity'"
        },
        {
         "article_url": "https://www.bbc.co.uk/news/uk-scotland-scotland-politics-54441613",
         "date": "2020-11-02 00:24",
         "image_url": "https://ichef.bbci.co.uk/live-experience/cps/320/cpsprodpb/156A/production/_115128450_gettyimages-1020824738.jpg",
         "lead": "Not for the first time, politicians highlight Scotland's potential to generate renewable energy.",
         "section": "renewable-energy",
         "title": "Scotland: 'The Saudi Arabia of renewables'?"
        },
        {
         "article_url": "https://www.bbc.co.uk/news/science-environment-54723147",
         "date": "2020-10-31 00:29",
         "image_url": "https://ichef.bbci.co.uk/live-experience/cps/96/cpsprodpb/10F19/production/_112910496_justinrowlatt.jpg",
         "lead": "The iPhone transformed mobile phones in just 10 years. Could green energy see a similar revolution?",
         "section": "renewable-energy",
         "title": "You've got cheap data, how about cheap power too?"
        },
        {
         "article_url": "https://www.bbc.co.uk/news/business-54754016",
         "date": "2020-10-30 23:12",
         "image_url": "https://ichef.bbci.co.uk/live-experience/cps/320/cpsprodpb/0C7F/production/_86099130_coverimageedfbetterquality.jpg",
         "lead": "The BBC has learned that talks with contractor EDF have intensified in recent weeks.",
         "section": "renewable-energy",
         "title": "New nuclear plant at Sizewell set for green light"
        },
        {
         "article_url": "https://www.bbc.co.uk/news/uk-scotland-scotland-politics-54718823",
         "date": "2020-10-28 13:10",
         "image_url": "https://ichef.bbci.co.uk/live-experience/cps/320/cpsprodpb/6DE4/production/_115023182_turbine.png",
         "lead": "It is claimed the sector could generate 11 gigawatts to power more than eight million homes by 2030.",
         "section": "renewable-energy",
         "title": "'Huge ambition' for offshore wind"
        },
        {
         "article_url": "https://www.bbc.co.uk/news/uk-northern-ireland-54689483",
         "date": "2020-10-26 09:03",
         "image_url": "https://ichef.bbci.co.uk/live-experience/cps/320/cpsprodpb/17CB7/production/_101136479_turbinepa.jpg",
         "lead": "Turbines have since been ruled ineligible after 52 owners received emergency coronavirus funding.",
         "section": "renewable-energy",
         "title": "NI wind turbine owners receive 500k in Covid grants"
        },
        {
         "article_url": "https://www.bbc.co.uk/news/uk-scotland-scotland-business-54630628",
         "date": "2020-10-21 21:38",
         "image_url": "https://ichef.bbci.co.uk/live-experience/cps/320/cpsprodpb/40A7/production/_115015561_mediaitem107533799.jpg",
         "lead": "The firm's Canadian owners had been negotiating to build jackets for wind turbines to be installed off the Fife coast.",
         "section": "renewable-energy",
         "title": "New blow for BiFab yards as contract bid collapses"
        },
        {
         "article_url": "https://www.bbc.co.uk/news/uk-scotland-south-scotland-54599479",
         "date": "2020-10-19 23:48",
         "image_url": "https://ichef.bbci.co.uk/live-experience/cps/320/cpsprodpb/AF60/production/_114969844_gettyimages-1227714658.jpg",
         "lead": "A reporter concludes a proposed wind farm \"fails to respect\" the character of the Borders landscape.",
         "section": "renewable-energy",
         "title": "'Severely disruptive' turbines refused on appeal"
        },
        {
         "article_url": "https://www.bbc.co.uk/news/uk-england-hampshire-54539671",
         "date": "2020-10-15 13:05",
         "image_url": "https://ichef.bbci.co.uk/live-experience/cps/320/cpsprodpb/11B84/production/_114908527_pic2nationalgridsnewinterconnectorifa2willpoweronemillionbritishhomesandavoid1.png",
         "lead": "The IFA2 interconnector to France could deliver 1.2% of Britain's energy needs, National Grid says.",
         "section": "renewable-energy",
         "title": "Cross-channel electricity link goes live in tests"
        }
       ]
      ],
      "text/plain": [
       "<IPython.core.display.JSON object>"
      ]
     },
     "execution_count": 6,
     "metadata": {
      "application/json": {
       "expanded": false,
       "root": "root"
      }
     },
     "output_type": "execute_result"
    }
   ],
   "source": [
    "def retrieve_all_current_articles(topics=['cdl8n2edl43t/energy-industry', 'cx1m7zg0gpet/renewable-energy']):\n",
    "    articles = []\n",
    "\n",
    "    for topic in topics:\n",
    "        topic_readable = topic.split('/')[1]\n",
    "        topic_url = topic_to_bbc_url(topic)\n",
    "        topic_r = requests.get(topic_url)\n",
    "        topic_articles = response_to_articles(topic_r)\n",
    "\n",
    "        for article in topic_articles:\n",
    "            article.update( {'section': topic_readable})\n",
    "\n",
    "        articles += topic_articles\n",
    "        \n",
    "    return articles\n",
    "\n",
    "articles = retrieve_all_current_articles()\n",
    "    \n",
    "JSON([articles])"
   ]
  }
 ],
 "metadata": {
  "kernelspec": {
   "display_name": "EnergyNews",
   "language": "python",
   "name": "energynews"
  },
  "language_info": {
   "codemirror_mode": {
    "name": "ipython",
    "version": 3
   },
   "file_extension": ".py",
   "mimetype": "text/x-python",
   "name": "python",
   "nbconvert_exporter": "python",
   "pygments_lexer": "ipython3",
   "version": "3.7.8"
  }
 },
 "nbformat": 4,
 "nbformat_minor": 4
}
