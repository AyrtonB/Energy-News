{
 "cells": [
  {
   "cell_type": "markdown",
   "metadata": {},
   "source": [
    "# Energy Live News\n",
    "\n",
    "<br>\n",
    "\n",
    "### Imports"
   ]
  },
  {
   "cell_type": "code",
   "execution_count": 2,
   "metadata": {},
   "outputs": [],
   "source": [
    "import pandas as pd\n",
    "\n",
    "import requests\n",
    "from bs4 import BeautifulSoup\n",
    "\n",
    "from IPython.core.display import JSON"
   ]
  },
  {
   "cell_type": "code",
   "execution_count": null,
   "metadata": {},
   "outputs": [],
   "source": []
  },
  {
   "cell_type": "code",
   "execution_count": 37,
   "metadata": {},
   "outputs": [
    {
     "name": "stdout",
     "output_type": "stream",
     "text": [
      "<div class=\"post-summary row\">\n",
      " <div class=\"col-sm-4\">\n",
      "  <div class=\"post-thumb\">\n",
      "   <a href=\"https://www.energylivenews.com/2020/11/17/wales-launches-3-5m-fund-for-circular-economy-projects/\">\n",
      "    <img alt=\"\" class=\"attachment-post-thumbnail size-post-thumbnail wp-post-image\" height=\"412\" loading=\"lazy\" sizes=\"(max-width: 720px) 100vw, 720px\" src=\"https://www.energylivenews.com/wp-content/uploads/2020/11/shutterstock_1502090543-2.jpg\" srcset=\"https://www.energylivenews.com/wp-content/uploads/2020/11/shutterstock_1502090543-2.jpg 720w, https://www.energylivenews.com/wp-content/uploads/2020/11/shutterstock_1502090543-2-300x172.jpg 300w, https://www.energylivenews.com/wp-content/uploads/2020/11/shutterstock_1502090543-2-640x366.jpg 640w, https://www.energylivenews.com/wp-content/uploads/2020/11/shutterstock_1502090543-2-280x161.jpg 280w\" width=\"720\"/>\n",
      "   </a>\n",
      "  </div>\n",
      " </div>\n",
      " <div class=\"col-sm-8\">\n",
      "  <div class=\"post-title\">\n",
      "   <a href=\"https://www.energylivenews.com/2020/11/17/wales-launches-3-5m-fund-for-circular-economy-projects/\">\n",
      "    Wales launches £3.5m fund for circular economy projects\n",
      "   </a>\n",
      "  </div>\n",
      "  <div class=\"post-details\">\n",
      "   <span class=\"post-author\">\n",
      "    Priyanka Shrestha\n",
      "   </span>\n",
      "  </div>\n",
      "  <div class=\"post-excerpt\">\n",
      "   <p>\n",
      "    Projects must support the transition towards a zero waste and zero carbon Wales by keeping materials in circulation for as long as possible and avoiding waste\n",
      "   </p>\n",
      "  </div>\n",
      " </div>\n",
      "</div>\n",
      "\n"
     ]
    }
   ],
   "source": [
    "url = 'https://www.energylivenews.com/latest-news/'\n",
    "r = requests.get(url)\n",
    "\n",
    "soup = BeautifulSoup(r.content)\n",
    "articles_soup = soup.findAll('div', {'class': 'post-summary row'})\n",
    "\n",
    "print(articles_soup[0].prettify())"
   ]
  },
  {
   "cell_type": "code",
   "execution_count": null,
   "metadata": {},
   "outputs": [],
   "source": []
  },
  {
   "cell_type": "code",
   "execution_count": 31,
   "metadata": {},
   "outputs": [
    {
     "data": {
      "text/plain": [
       "{'date': '2020-11-17',\n",
       " 'title': 'Wales launches £3.5m fund for circular economy projects',\n",
       " 'lead': 'Projects must support the transition towards a zero waste and zero carbon Wales by keeping materials in circulation for as long as possible and avoiding waste',\n",
       " 'article_url': 'https://www.energylivenews.com/2020/11/17/wales-launches-3-5m-fund-for-circular-economy-projects/',\n",
       " 'image_url': 'https://www.energylivenews.com/wp-content/uploads/2020/11/shutterstock_1502090543-2.jpg'}"
      ]
     },
     "execution_count": 31,
     "metadata": {},
     "output_type": "execute_result"
    }
   ],
   "source": [
    "def extract_article_data(soup):\n",
    "    attr_to_extractor_func = {\n",
    "        'date': lambda soup: '-'.join([str_ for str_ in soup.find('a')['href'].split('/') if str_.isdecimal()]),\n",
    "        'title': lambda soup: soup.find('div', {'class': 'post-title'}).text,\n",
    "        'lead': lambda soup: soup.find('div', {'class': 'post-excerpt'}).text.replace('\\n', ''),\n",
    "        'article_url': lambda soup: soup.find('a')['href'],\n",
    "        'image_url': lambda soup: soup.find('img')['src']\n",
    "    }\n",
    "    \n",
    "    article = dict()\n",
    "    \n",
    "    for attr, extractor_func in attr_to_extractor_func.items():\n",
    "        try:\n",
    "            article[attr] = extractor_func(soup)\n",
    "        except:\n",
    "            pass\n",
    "    \n",
    "    return article\n",
    "\n",
    "article = extract_article_data(articles_soup[0])\n",
    "\n",
    "article"
   ]
  },
  {
   "cell_type": "code",
   "execution_count": null,
   "metadata": {},
   "outputs": [],
   "source": []
  },
  {
   "cell_type": "code",
   "execution_count": 34,
   "metadata": {},
   "outputs": [
    {
     "data": {
      "application/json": [
       {
        "article_url": "https://www.energylivenews.com/2020/11/17/wales-launches-3-5m-fund-for-circular-economy-projects/",
        "date": "2020-11-17",
        "image_url": "https://www.energylivenews.com/wp-content/uploads/2020/11/shutterstock_1502090543-2.jpg",
        "lead": "Projects must support the transition towards a zero waste and zero carbon Wales by keeping materials in circulation for as long as possible and avoiding waste",
        "title": "Wales launches £3.5m fund for circular economy projects"
       },
       {
        "article_url": "https://www.energylivenews.com/2020/11/17/on-your-bike-thames-water-swaps-diesel-vans-for-vintage-bicycles-to-cut-emissions-at-surrey-site/",
        "date": "2020-11-17",
        "image_url": "https://www.energylivenews.com/wp-content/uploads/2020/11/apprentice-ricky_-russell-cycles-around-walton-awtw_.jpg",
        "lead": "The bikes had been found in storage at the site and were refurbished by a local shop – they now cover around five miles each day",
        "title": "On your bike! Thames Water swaps diesel vans for vintage bicycles to cut emissions at Surrey site"
       },
       {
        "article_url": "https://www.energylivenews.com/2020/11/17/new-york-start-ups-offered-10m-for-cleantech-solutions/",
        "date": "2020-11-17",
        "image_url": "https://www.energylivenews.com/wp-content/uploads/2020/11/shutterstock_186802988.jpg",
        "lead": "The New York Climate Progress Programme will provide capital investments to support firms that create low carbon goods and services",
        "title": "New York start-ups offered $10m for cleantech solutions"
       },
       {
        "article_url": "https://www.energylivenews.com/2020/11/17/british-embassy-in-bucharest-seeks-projects-to-tackle-climate-change/",
        "date": "2020-11-17",
        "image_url": "https://www.energylivenews.com/wp-content/uploads/2020/11/shutterstock_1269582256.jpg",
        "lead": "They can focus on renewable energy, restoration of natural habitats and ecosystems and helping communities to prepare for natural disasters",
        "title": "British Embassy in Bucharest seeks projects to tackle climate change"
       },
       {
        "article_url": "https://www.energylivenews.com/2020/11/17/retrofitting-homes-in-northern-england-could-create-77000-new-green-jobs/",
        "date": "2020-11-17",
        "image_url": "https://www.energylivenews.com/wp-content/uploads/2020/11/shutterstock_1720571350.jpg",
        "lead": "IPPR North says the move to decarbonise existing housing stock would also generate 111,000 jobs across the UK’s supply chain by 2035",
        "title": "Retrofitting homes in northern England ‘could create 77,000 new green jobs’"
       }
      ],
      "text/plain": [
       "<IPython.core.display.JSON object>"
      ]
     },
     "execution_count": 34,
     "metadata": {
      "application/json": {
       "expanded": false,
       "root": "root"
      }
     },
     "output_type": "execute_result"
    }
   ],
   "source": [
    "def retrieve_all_current_articles():\n",
    "    url = 'https://www.energylivenews.com/latest-news/'\n",
    "    r = requests.get(url)\n",
    "\n",
    "    soup = BeautifulSoup(r.content)\n",
    "    articles_soup = soup.findAll('div', {'class': 'post-summary row'})\n",
    "\n",
    "    articles = []\n",
    "\n",
    "    for article_soup in articles_soup:\n",
    "        article = extract_article_data(article_soup)\n",
    "        articles += [article]\n",
    "        \n",
    "    return articles\n",
    "\n",
    "articles = retrieve_all_current_articles()\n",
    "    \n",
    "JSON(articles[:5])"
   ]
  }
 ],
 "metadata": {
  "kernelspec": {
   "display_name": "EnergyNews",
   "language": "python",
   "name": "energynews"
  },
  "language_info": {
   "codemirror_mode": {
    "name": "ipython",
    "version": 3
   },
   "file_extension": ".py",
   "mimetype": "text/x-python",
   "name": "python",
   "nbconvert_exporter": "python",
   "pygments_lexer": "ipython3",
   "version": "3.7.8"
  }
 },
 "nbformat": 4,
 "nbformat_minor": 4
}
