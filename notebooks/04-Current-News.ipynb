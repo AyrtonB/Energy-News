{
 "cells": [
  {
   "cell_type": "markdown",
   "metadata": {},
   "source": [
    "# Current News Scraper Development\n",
    "\n",
    "<br>\n",
    "\n",
    "### Imports"
   ]
  },
  {
   "cell_type": "code",
   "execution_count": 1,
   "metadata": {},
   "outputs": [],
   "source": [
    "import pandas as pd\n",
    "\n",
    "import requests\n",
    "from bs4 import BeautifulSoup\n",
    "\n",
    "from IPython.core.display import JSON"
   ]
  },
  {
   "cell_type": "markdown",
   "metadata": {},
   "source": [
    "### <br>\n",
    "\n",
    "### Portals\n",
    "\n",
    "Current News also aggregate articles on solar and storage which they share through an API"
   ]
  },
  {
   "cell_type": "code",
   "execution_count": 2,
   "metadata": {},
   "outputs": [
    {
     "data": {
      "text/plain": [
       "<Response [200]>"
      ]
     },
     "execution_count": 2,
     "metadata": {},
     "output_type": "execute_result"
    }
   ],
   "source": [
    "url = 'https://www.solarpowerportal.co.uk/json'\n",
    "\n",
    "r = requests.get(url)\n",
    "\n",
    "r"
   ]
  },
  {
   "cell_type": "code",
   "execution_count": null,
   "metadata": {},
   "outputs": [],
   "source": []
  },
  {
   "cell_type": "code",
   "execution_count": 8,
   "metadata": {},
   "outputs": [
    {
     "data": {
      "application/json": [
       {
        "article_url": "http://www.solarpowerportal.co.uk/news/downing_renewables_infrastructure_trust_sheds_light_on_seed_solar_portfolio",
        "id": "8138",
        "image_url": "https://www.solarpowerportal.co.uk/images/made/files/images/Solar_PV_image_DORE_700_300_s_c1.png",
        "pubDate": "1605278820",
        "site": "solar-power-portal",
        "title": "Downing Renewables & Infrastructure Trust sheds light on seed solar portfolio in Prospectus"
       },
       {
        "article_url": "http://www.solarpowerportal.co.uk/news/battery_storage_legislation_officially_changes_allowing_projects_over_50mw",
        "id": "8137",
        "image_url": "https://www.solarpowerportal.co.uk/images/made/files/images/Glassenbury_battery_storage_park_3_-_Gresham_House_700_300_80_s_c1.jpg",
        "pubDate": "1605272340",
        "site": "solar-power-portal",
        "title": "Battery storage legislation officially changes allowing assets over 50MW to bypass national planning"
       },
       {
        "article_url": "http://www.solarpowerportal.co.uk/news/wight_community_energy_awarded_transformative_68k_to_further_develop_solar",
        "id": "8136",
        "image_url": "https://www.solarpowerportal.co.uk/images/made/files/images/Panels_and_blue_sky_-_credit_Wight_Community_Energy_700_300_80_s_c1.jpg",
        "pubDate": "1605269100",
        "site": "solar-power-portal",
        "title": "Wight Community Energy awarded ‘transformative’ £68k to further develop solar"
       },
       {
        "article_url": "http://www.solarpowerportal.co.uk/news/every_ppa_helps_tesco_partners_low_carbon_for_130gwh_of_solar",
        "id": "8135",
        "image_url": "https://www.solarpowerportal.co.uk/images/made/files/images/Solar_PPA_photo_-_Credit_Tesco_700_300_80_s_c1.jpg",
        "pubDate": "1605264840",
        "site": "solar-power-portal",
        "title": "Every PPA helps: Tesco partners Low Carbon for 130GWh of solar"
       }
      ],
      "text/plain": [
       "<IPython.core.display.JSON object>"
      ]
     },
     "execution_count": 8,
     "metadata": {
      "application/json": {
       "expanded": false,
       "root": "root"
      }
     },
     "output_type": "execute_result"
    }
   ],
   "source": [
    "r_json = r.json()\n",
    "\n",
    "assert len(r_json) == 1, 'There should only be one list of articles' # If I start hitting this should add flatten_list\n",
    "articles = r_json[0]['entries']\n",
    "\n",
    "renames = {\n",
    "    'path': 'article_url',\n",
    "    'image': 'image_url'\n",
    "}\n",
    "\n",
    "for article in articles:\n",
    "    for old_name, new_name in renames.items():\n",
    "        value = article.pop(old_name)\n",
    "        article.update( {new_name: value})\n",
    "\n",
    "JSON(articles)"
   ]
  },
  {
   "cell_type": "code",
   "execution_count": null,
   "metadata": {},
   "outputs": [],
   "source": []
  },
  {
   "cell_type": "code",
   "execution_count": null,
   "metadata": {},
   "outputs": [],
   "source": []
  },
  {
   "cell_type": "code",
   "execution_count": null,
   "metadata": {},
   "outputs": [],
   "source": []
  }
 ],
 "metadata": {
  "kernelspec": {
   "display_name": "EnergyNews",
   "language": "python",
   "name": "energynews"
  },
  "language_info": {
   "codemirror_mode": {
    "name": "ipython",
    "version": 3
   },
   "file_extension": ".py",
   "mimetype": "text/x-python",
   "name": "python",
   "nbconvert_exporter": "python",
   "pygments_lexer": "ipython3",
   "version": "3.7.8"
  }
 },
 "nbformat": 4,
 "nbformat_minor": 4
}
