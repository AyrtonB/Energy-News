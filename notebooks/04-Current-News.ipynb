{
 "cells": [
  {
   "cell_type": "markdown",
   "metadata": {},
   "source": [
    "# Current News Scraper Development\n",
    "\n",
    "<br>\n",
    "\n",
    "### Imports"
   ]
  },
  {
   "cell_type": "code",
   "execution_count": 1,
   "metadata": {},
   "outputs": [],
   "source": [
    "import pandas as pd\n",
    "\n",
    "import requests\n",
    "import xmltodict\n",
    "from bs4 import BeautifulSoup\n",
    "\n",
    "from IPython.core.display import JSON"
   ]
  },
  {
   "cell_type": "markdown",
   "metadata": {},
   "source": [
    "<br>\n",
    "\n",
    "### RSS Retrieval\n",
    "\n",
    "Current News has an RSS feed that we can use to generate the JSON article definitions we require"
   ]
  },
  {
   "cell_type": "code",
   "execution_count": 20,
   "metadata": {},
   "outputs": [
    {
     "data": {
      "application/json": [
       {
        "article_url": "https://www.current-news.co.uk/news/social-energy-begins-global-expansion-in-australian-in-partnership-with-duracell?utm_source=rss-feeds&utm_medium=rss&utm_campaign=rss",
        "author": "Molly Lempriere",
        "date": "2020-11-17 00:01",
        "guid": "https://www.current-news.co.uk/news/social-energy-begins-global-expansion-in-australian-in-partnership-with-duracell",
        "image_url": "https://www.current-news.co.uk/static/images/_400x400_crop_center-center/Social-Energy-launch-in-Aus-Image-Social-Energy.jpeg",
        "lead": "UK smart energy supplier Social Energy has begun it’s global expansion, offering a completely green energy package with an exclusive Duracell home solar battery system in Australia.",
        "section": "News",
        "title": "Social Energy begins global expansion in Australia in partnership with Duracell"
       },
       {
        "article_url": "https://www.current-news.co.uk/news/current-launches-2020-readership-survey?utm_source=rss-feeds&utm_medium=rss&utm_campaign=rss",
        "author": "Current± Staff",
        "date": "2020-11-16 16:24",
        "guid": "https://www.current-news.co.uk/news/current-launches-2020-readership-survey",
        "image_url": "https://www.current-news.co.uk/static/images/_400x400_crop_center-center/GettyImages-492069754.jpg",
        "lead": "Current± is today launching its 2020 readership survey, canvassing readers for its feedback publisher Solar Media makes plans for the forthcoming year.",
        "section": "News",
        "title": "Current± launches 2020 readership survey"
       },
       {
        "article_url": "https://www.current-news.co.uk/news/sse-scottishpower-and-national-grid-announced-as-principal-partners-for-cop26?utm_source=rss-feeds&utm_medium=rss&utm_campaign=rss",
        "author": "Molly Lempriere",
        "date": "2020-11-16 15:14",
        "guid": "https://www.current-news.co.uk/news/sse-scottishpower-and-national-grid-announced-as-principal-partners-for-cop26",
        "image_url": "https://www.current-news.co.uk/static/images/_400x400_crop_center-center/COP26-logo-credit-UN-Climate-Change-Conference.png",
        "lead": "​Energy majors SSE, ScottishPower and National Grid, together with the NatWest Group have been announced as the first sponsors of the COP26 climate change summit.",
        "section": "News",
        "title": "SSE, ScottishPower and National Grid announced as Principal Partners for COP26"
       },
       {
        "article_url": "https://www.current-news.co.uk/news/uk-government-eyes-the-skies-with-space-based-solar-power-research?utm_source=rss-feeds&utm_medium=rss&utm_campaign=rss",
        "author": "Molly Lempriere",
        "date": "2020-11-16 10:36",
        "guid": "https://www.current-news.co.uk/news/uk-government-eyes-the-skies-with-space-based-solar-power-research",
        "image_url": "https://www.current-news.co.uk/static/images/_400x400_crop_center-center/solar-power-satellite-delivering-power-to-the-uk-daytime-credit-Frazer-Nash-Consultancy-2.jpg",
        "lead": "​The UK government is looking at the possibility of beaming clean, solar power down from space as it looks to develop further resilient, safe and sustainable energy sources.",
        "section": "News",
        "title": "UK government eyes the skies with space-based solar power research"
       },
       {
        "article_url": "https://www.current-news.co.uk/news/wpd-releases-real-time-power-flow-data-to-aid-operational-decisions-as-it-increases-digitalisation?utm_source=rss-feeds&utm_medium=rss&utm_campaign=rss",
        "author": "Molly Lempriere",
        "date": "2020-11-13 13:12",
        "guid": "https://www.current-news.co.uk/news/wpd-releases-real-time-power-flow-data-to-aid-operational-decisions-as-it-increases-digitalisation",
        "image_url": "https://www.current-news.co.uk/static/images/_400x400_crop_center-center/Remote-transmission-lines-image-pxhere-NC.jpg",
        "lead": "​Western Power Distribution (WPD) has released its new Real-Time Power Flow Data Access as it looks to ramp up its digitalisation programme.",
        "section": "News",
        "title": "WPD releases real-time power flow data to aid operational decisions as it increases digitalisation"
       },
       {
        "article_url": "https://www.current-news.co.uk/news/m-g-cash-injection-of-150m-to-help-boost-zenobe-battery-portfolio-by-additional-500mwh?utm_source=rss-feeds&utm_medium=rss&utm_campaign=rss",
        "author": "Alice Grundy",
        "date": "2020-11-13 13:11",
        "guid": "https://www.current-news.co.uk/news/m-g-cash-injection-of-150m-to-help-boost-zenobe-battery-portfolio-by-additional-500mwh",
        "image_url": "https://www.current-news.co.uk/static/images/_400x400_crop_center-center/Aylesford-in-Kent-Zenobe-Energy.jpg",
        "lead": "​Zenobe Energy is targeting an additional 500MWh of storage and 1,000 electric buses following a £150 million investment from Infrascapital, the infrastructure equity investment arm of M&G.",
        "section": "News",
        "title": "M&G cash injection of £150m to boost Zenobe battery portfolio by additional 500MWh"
       },
       {
        "article_url": "https://www.current-news.co.uk/news/exciting-milestone-passed-for-clean-heat-project-combining-river-source-heat-pump-solar-and-storage?utm_source=rss-feeds&utm_medium=rss&utm_campaign=rss",
        "author": "Alice Grundy",
        "date": "2020-11-13 12:11",
        "guid": "https://www.current-news.co.uk/news/exciting-milestone-passed-for-clean-heat-project-combining-river-source-heat-pump-solar-and-storage",
        "image_url": "https://www.current-news.co.uk/static/images/_400x400_crop_center-center/aerial-view-of-south-tyneside-heating-site-image-South-Tyneside-council.JPG",
        "lead": "​A project bringing together a river source heat pump, solar, storage and combined heat and power (CHP) has taken a step forward.",
        "section": "News",
        "title": "'Exciting milestone' passed for clean heat project combining river source heat pump, solar and storage"
       },
       {
        "article_url": "https://www.current-news.co.uk/news/public-support-for-renewables-reaches-80-as-solar-comes-out-on-top?utm_source=rss-feeds&utm_medium=rss&utm_campaign=rss",
        "author": "Alice Grundy",
        "date": "2020-11-13 11:02",
        "guid": "https://www.current-news.co.uk/news/public-support-for-renewables-reaches-80-as-solar-comes-out-on-top",
        "image_url": "https://www.current-news.co.uk/cpresources/transforms/6163?x=xMbeBYIDH",
        "lead": "​Public opinion on renewables has remained high throughout 2020 with 80%​ stating they now support renewable generation.",
        "section": "News",
        "title": "Public support for renewables reaches 80% as solar comes out on top"
       },
       {
        "article_url": "https://www.current-news.co.uk/news/government-sets-sights-on-2-million-new-green-jobs-with-creation-of-taskforce?utm_source=rss-feeds&utm_medium=rss&utm_campaign=rss",
        "author": "Alice Grundy",
        "date": "2020-11-12 17:15",
        "guid": "https://www.current-news.co.uk/news/government-sets-sights-on-2-million-new-green-jobs-with-creation-of-taskforce",
        "image_url": "https://www.current-news.co.uk/static/images/_400x400_crop_center-center/BEIS_New_2.jpg",
        "lead": "​The government has announced the formation of the Green Jobs Taskforce to support the creation of 2 million new jobs.",
        "section": "News",
        "title": "Government sets sights on 2 million new green jobs with creation of taskforce"
       },
       {
        "article_url": "https://www.current-news.co.uk/news/pm-stresses-no-time-to-waste-in-decarbonisation-as-ten-point-plan-to-be-released-shortly?utm_source=rss-feeds&utm_medium=rss&utm_campaign=rss",
        "author": "Alice Grundy",
        "date": "2020-11-12 16:21",
        "guid": "https://www.current-news.co.uk/news/pm-stresses-no-time-to-waste-in-decarbonisation-as-ten-point-plan-to-be-released-shortly",
        "image_url": "https://www.current-news.co.uk/static/images/_400x400_crop_center-center/Boris-Johnson-Conservative-Party-Conference-Oct-2020-Credit-The-Conservative-Party.jpg",
        "lead": "​Prime Minister Boris Johnson has stressed that there is “no time to waste” in tackling climate change despite continued reports of delays to the energy white paper.",
        "section": "News",
        "title": "PM stresses ‘no time to waste’ in decarbonisation as ten-point plan to be released ‘shortly’"
       },
       {
        "article_url": "https://www.current-news.co.uk/news/mutualisation-of-renewable-obligation-triggered-for-third-year-as-suppliers-struggle-to-meet-payment-deadlines?utm_source=rss-feeds&utm_medium=rss&utm_campaign=rss",
        "author": "Molly Lempriere",
        "date": "2020-11-12 12:34",
        "guid": "https://www.current-news.co.uk/news/mutualisation-of-renewable-obligation-triggered-for-third-year-as-suppliers-struggle-to-meet-payment-deadlines",
        "image_url": "https://www.current-news.co.uk/static/images/_400x400_crop_center-center/GettyImages-521848033.jpg",
        "lead": "​For the third year in a row, mutualisation of Renewables Obligations (RO) has been triggered according to Ofgem.",
        "section": "News",
        "title": "Mutualisation of Renewables Obligation triggered for third year as suppliers struggle to meet payment deadlines"
       },
       {
        "article_url": "https://www.current-news.co.uk/news/podcast-a-look-at-president-elect-joe-biden-and-the-uss-green-economy?utm_source=rss-feeds&utm_medium=rss&utm_campaign=rss",
        "author": null,
        "date": "2020-11-12 11:55",
        "guid": "https://www.current-news.co.uk/news/podcast-a-look-at-president-elect-joe-biden-and-the-uss-green-economy",
        "image_url": "https://www.current-news.co.uk/static/images/_400x400_crop_center-center/Joe-Biden-speaking-in-2019-Credit-Gage-Skidmore-Flickr.jpg",
        "lead": "Liam Stoker and Andy Colthorpe take a look at President-Elect Joe Biden and what his new administration might mean for the US's green economy, ​in the new episode of the Solar Media Podcast.",
        "section": "News",
        "title": "PODCAST: A look at President-Elect Joe Biden and the US's green economy"
       },
       {
        "article_url": "https://www.current-news.co.uk/news/construction-of-unique-16m-energy-research-facility-energy-house-2-0?utm_source=rss-feeds&utm_medium=rss&utm_campaign=rss",
        "author": "Molly Lempriere",
        "date": "2020-11-12 11:25",
        "guid": "https://www.current-news.co.uk/news/construction-of-unique-16m-energy-research-facility-energy-house-2-0",
        "image_url": "https://www.current-news.co.uk/static/images/_400x400_crop_center-center/Energy-House-1.0-credit-October-Energy.jpg",
        "lead": "​University of Salford breaks ground on the Energy House 2.0, a major new research facility focused on energy use in the UK.",
        "section": "News",
        "title": "Construction of ‘unique’ £16m energy research facility Energy House 2.0 gets underway"
       },
       {
        "article_url": "https://www.current-news.co.uk/news/sse-joins-race-to-zero-campaign-as-it-sets-sight-on-net-zero-by-2050?utm_source=rss-feeds&utm_medium=rss&utm_campaign=rss",
        "author": "Molly Lempriere",
        "date": "2020-11-11 13:57",
        "guid": "https://www.current-news.co.uk/news/sse-joins-race-to-zero-campaign-as-it-sets-sight-on-net-zero-by-2050",
        "image_url": "https://www.current-news.co.uk/static/images/_400x400_crop_center-center/SSE-Offshore-Wind-Farm-Beatrice.jpeg",
        "lead": "​SSE has committed to reaching net-zero emissions by 2050 at the latest, as it joins the Race to Zero campaign.",
        "section": "News",
        "title": "SSE joins Race to Zero campaign as it sets sight on net zero by 2050"
       },
       {
        "article_url": "https://www.current-news.co.uk/news/ukpn-unveils-50m-funding-package-as-it-opens-its-largest-ever-flexibility-tender?utm_source=rss-feeds&utm_medium=rss&utm_campaign=rss",
        "author": "Molly Lempriere",
        "date": "2020-11-11 12:46",
        "guid": "https://www.current-news.co.uk/news/ukpn-unveils-50m-funding-package-as-it-opens-its-largest-ever-flexibility-tender",
        "image_url": "https://www.current-news.co.uk/static/images/_400x400_crop_center-center/solar_farm_UKPN.jpeg",
        "lead": "​UK Power Networks (UKPN) has unveiled a £50 million funding package as part of its largest-ever open tender for flexibility.",
        "section": "News",
        "title": "UKPN unveils £50m funding package as it opens its largest-ever flexibility tender"
       },
       {
        "article_url": "https://www.current-news.co.uk/news/tidal-flow-batteries-and-green-hydrogen-combined-in-world-first-1-8m-orkney-project?utm_source=rss-feeds&utm_medium=rss&utm_campaign=rss",
        "author": "Molly Lempriere",
        "date": "2020-11-11 11:56",
        "guid": "https://www.current-news.co.uk/news/tidal-flow-batteries-and-green-hydrogen-combined-in-world-first-1-8m-orkney-project",
        "image_url": "https://www.current-news.co.uk/cpresources/transforms/6136?x=xMbeBYIDH",
        "lead": "​In a world first project, tidal power is set to be combined with vanadium flow batteries to produce continuous green hydrogen.",
        "section": "News",
        "title": "Tidal, flow batteries and green hydrogen combined in world first £1.8m Orkney project"
       },
       {
        "article_url": "https://www.current-news.co.uk/news/renewables-to-have-record-breaking-growth-in-2021-as-covid-19-fails-to-bite-sector?utm_source=rss-feeds&utm_medium=rss&utm_campaign=rss",
        "author": "Alice Grundy",
        "date": "2020-11-11 11:53",
        "guid": "https://www.current-news.co.uk/news/renewables-to-have-record-breaking-growth-in-2021-as-covid-19-fails-to-bite-sector",
        "image_url": "https://www.current-news.co.uk/static/images/_400x400_crop_center-center/GettyImages-598156726.jpg",
        "lead": "Renewables have managed to overcome hurdles resulting from the COVID-19 pandemic as new analysis shows they will be responsible for nearly 90% of new 2020 power capacity.",
        "section": "News",
        "title": "Renewables to have record-breaking growth in 2021 as COVID-19 fails to bite sector"
       },
       {
        "article_url": "https://www.current-news.co.uk/news/shell-energy-rebrands-hudson-energy-as-it-continues-to-expand-its-offer-to-businesses?utm_source=rss-feeds&utm_medium=rss&utm_campaign=rss",
        "author": "Molly Lempriere",
        "date": "2020-11-10 14:33",
        "guid": "https://www.current-news.co.uk/news/shell-energy-rebrands-hudson-energy-as-it-continues-to-expand-its-offer-to-businesses",
        "image_url": "https://www.current-news.co.uk/static/images/_400x400_crop_center-center/Shell-Energy-Promo.jpg",
        "lead": "​Hudson Energy is to rebrand as Shell Energy, a year after the utility arm of the international O&G major acquired it.",
        "section": "News",
        "title": "Shell rebrands Hudson Energy as it continues to expand its offer to businesses"
       },
       {
        "article_url": "https://www.current-news.co.uk/blogs/current-chats-arenkos-roger-hollies-on-dynamic-containment-and-the-growth-of-batteries?utm_source=rss-feeds&utm_medium=rss&utm_campaign=rss",
        "author": "Molly Lempriere",
        "date": "2020-11-10 13:44",
        "guid": "https://www.current-news.co.uk/blogs/current-chats-arenkos-roger-hollies-on-dynamic-containment-and-the-growth-of-batteries",
        "image_url": "https://www.current-news.co.uk/static/images/_400x400_crop_center-center/Roger-Hollies-Credit-Arenko.png",
        "lead": "Current± caught up with Arenko chief technology officer Roger Hollies about how Dynamic Containment works, the growth of batteries in the UK and searching for the next big thing.",
        "section": "Blogs",
        "title": "Current± Chats: Arenko’s Roger Hollies on Dynamic Containment and the growth of batteries"
       },
       {
        "article_url": "https://www.current-news.co.uk/news/labour-calls-on-government-to-stop-dithering-and-support-green-recovery?utm_source=rss-feeds&utm_medium=rss&utm_campaign=rss",
        "author": "Molly Lempriere",
        "date": "2020-11-10 13:31",
        "guid": "https://www.current-news.co.uk/news/labour-calls-on-government-to-stop-dithering-and-support-green-recovery",
        "image_url": "https://www.current-news.co.uk/static/images/_400x400_crop_center-center/2020-Budget-credit-HM-Treasury.jpg",
        "lead": "​Ahead of the upcoming Comprehensive Spending Review, the Labour Party has called on the government to support green jobs and ‘Build it in Britain’.",
        "section": "News",
        "title": "Labour calls on government to stop ‘dithering’ and support green recovery"
       }
      ],
      "text/plain": [
       "<IPython.core.display.JSON object>"
      ]
     },
     "execution_count": 20,
     "metadata": {
      "application/json": {
       "expanded": false,
       "root": "root"
      }
     },
     "output_type": "execute_result"
    }
   ],
   "source": [
    "def retrieve_all_current_articles():\n",
    "    rss_url = 'https://www.current-news.co.uk/rss'\n",
    "\n",
    "    r = requests.get(rss_url)\n",
    "    xml = xmltodict.parse(r.content)\n",
    "\n",
    "    articles = list(pd\n",
    "                    .DataFrame(xml['rss']['channel']['item'])\n",
    "                    .pipe(lambda df: df.assign(enclosure=df['enclosure'].apply(lambda x: x['@url'])))\n",
    "                    .pipe(lambda df: df.assign(pubDate=pd.to_datetime(df['pubDate']).dt.strftime('%Y-%m-%d %H:%M')))\n",
    "                    .rename(columns={\n",
    "                        'link': 'article_url',\n",
    "                        'description': 'lead',\n",
    "                        'pubDate': 'date',\n",
    "                        'source': 'section',\n",
    "                        'enclosure': 'image_url'\n",
    "                    })\n",
    "                    .T\n",
    "                    .to_dict()\n",
    "                    .values()\n",
    "                   )\n",
    "    \n",
    "    return articles\n",
    "\n",
    "articles = retrieve_all_current_articles()\n",
    "\n",
    "JSON(articles)"
   ]
  },
  {
   "cell_type": "code",
   "execution_count": null,
   "metadata": {},
   "outputs": [],
   "source": []
  },
  {
   "cell_type": "code",
   "execution_count": null,
   "metadata": {},
   "outputs": [],
   "source": []
  },
  {
   "cell_type": "code",
   "execution_count": null,
   "metadata": {},
   "outputs": [],
   "source": []
  },
  {
   "cell_type": "code",
   "execution_count": null,
   "metadata": {},
   "outputs": [],
   "source": []
  }
 ],
 "metadata": {
  "kernelspec": {
   "display_name": "EnergyNews",
   "language": "python",
   "name": "energynews"
  },
  "language_info": {
   "codemirror_mode": {
    "name": "ipython",
    "version": 3
   },
   "file_extension": ".py",
   "mimetype": "text/x-python",
   "name": "python",
   "nbconvert_exporter": "python",
   "pygments_lexer": "ipython3",
   "version": "3.7.8"
  }
 },
 "nbformat": 4,
 "nbformat_minor": 4
}
