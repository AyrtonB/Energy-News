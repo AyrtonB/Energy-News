{
 "cells": [
  {
   "cell_type": "markdown",
   "metadata": {},
   "source": [
    "# Green Tech Media\n",
    "\n",
    "<br>\n",
    "\n",
    "### Imports"
   ]
  },
  {
   "cell_type": "code",
   "execution_count": 1,
   "metadata": {},
   "outputs": [],
   "source": [
    "import pandas as pd\n",
    "\n",
    "import requests\n",
    "import xmltodict\n",
    "from bs4 import BeautifulSoup\n",
    "\n",
    "from IPython.core.display import JSON"
   ]
  },
  {
   "cell_type": "code",
   "execution_count": null,
   "metadata": {},
   "outputs": [],
   "source": []
  },
  {
   "cell_type": "code",
   "execution_count": 4,
   "metadata": {},
   "outputs": [
    {
     "data": {
      "application/json": [
       {
        "article_url": "http://feeds.greentechmedia.com/~r/GreentechMedia/~3/_Eya6eHJN1E/could-agri-pv-be-africas-next-big-solar-market-trend",
        "category": "Solar, Solar Finance &amp; VC, Solar Projects, Markets &amp; Policy, Grid Edge, Off Grid/Energy Access, News,",
        "date": "2020-11-17 12:01",
        "dc:date": "2020-11-17T08:00:00+00:00",
        "feedburner:origLink": "https://www.greentechmedia.com/articles/read/could-agri-pv-be-africas-next-big-solar-market-trend",
        "image_filetype": "png",
        "image_url": "https://assets.greentechmedia.com/content/images/articles/Nhimbe_Fresh_Sun_Exchange_XL.jpg",
        "lead": "Insiders predict agricultural companies could become major adopters of solar power in Africa as farmers seek to improve the cost and reliability of energy supplies. According to a report from GreenCape, a non-profit organization, the market for renew ...",
        "title": "Could Agri-PV Be Africa’s Next Big Solar Market Trend?"
       },
       {
        "article_url": "http://feeds.greentechmedia.com/~r/GreentechMedia/~3/5wPsqxMb38M/form-energy-raises-another-70m-for-long-duration-storage",
        "category": "Solar, Energy Storage, Long-Duration Storage, Wind, News,",
        "date": "2020-11-16 22:20",
        "dc:date": "2020-11-16T19:18:00+00:00",
        "feedburner:origLink": "https://www.greentechmedia.com/articles/read/form-energy-raises-another-70m-for-long-duration-storage",
        "image_filetype": "png",
        "image_url": "https://assets.greentechmedia.com/content/images/articles/Cash_Money_XL.png",
        "lead": "Form Energy raised a $70 million Series C to scale its super-long-duration energy storage technology. That investment was first reported by Reuters Friday, without naming the participating investors. It brings Form Energy's total funds raised to arou ...",
        "title": "Form Energy Raises Another $70M for Long-Duration Storage"
       },
       {
        "article_url": "http://feeds.greentechmedia.com/~r/GreentechMedia/~3/S8C0xj7Eztk/electric-school-bus-fleets-test-the-u.s-vehicle-to-grid-proposition",
        "category": "Grid Edge, Electric Vehicles, Regulation &amp; Policy, Grid Optimization, Batteries, Storage &amp; Fuel Cells, Utilities, Energy, Mobility, News,",
        "date": "2020-11-17 00:46",
        "dc:date": "2020-11-16T15:30:00+00:00",
        "feedburner:origLink": "https://www.greentechmedia.com/articles/read/electric-school-bus-fleets-test-the-u.s-vehicle-to-grid-proposition",
        "image_filetype": "png",
        "image_url": "https://assets.greentechmedia.com/content/images/articles/HighlandElectricTransportation_Bus_Charger_cropped_XL.jpg",
        "lead": "Electric school buses just might be the breakout vehicle-to-grid (V2G) technology in the United States. At least, that’s how Duncan McIntyre, CEO of Highland Electric Transportation, sees it. McIntyre, who founded renewable energy procurement and ana ...",
        "title": "Electric School Bus Fleets Test the US Vehicle-to-Grid Proposition"
       },
       {
        "article_url": "http://feeds.greentechmedia.com/~r/GreentechMedia/~3/q9llPHmsQUI/renewables-buoy-rwe-and-edf-as-clean-energy-outlook-brightens",
        "category": "Solar, Solar Finance &amp; VC, Solar Projects, Utility-Scale Solar, Wind, Offshore Wind, Wind Finance &amp; VC, Wind Markets &amp; Policy, Wind Projects, News,",
        "date": "2020-11-16 16:45",
        "dc:date": "2020-11-16T14:34:00+00:00",
        "feedburner:origLink": "https://www.greentechmedia.com/articles/read/renewables-buoy-rwe-and-edf-as-clean-energy-outlook-brightens",
        "image_filetype": "png",
        "image_url": "https://assets.greentechmedia.com/content/images/articles/Innogy_RWE_Offshore_Wind_XL.jpg",
        "lead": "Two of Europe’s major utilities have demonstrated the signs of a post-coronavirus lockdown recovery, highlighted by growing renewables capacities. EDF and RWE both reported their Q3 results at the end of last week. While COVID-19 lockdowns have trimm ...",
        "title": "Renewables Buoy RWE and EDF as Clean Energy Outlook Brightens"
       },
       {
        "article_url": "http://feeds.greentechmedia.com/~r/GreentechMedia/~3/wOCB1E-mvqU/batteries-are-just-nudging-into-the-billion-dollar-backup-power-market",
        "category": "Solar, Solar-Plus-Storage , Residential Solar, Grid Edge, Commercial &amp; Industrial Energy, Microgrids, Energy Storage, News, Storage Plus,",
        "date": "2020-11-16 23:53",
        "dc:date": "2020-11-16T14:00:00+00:00",
        "feedburner:origLink": "https://www.greentechmedia.com/articles/read/batteries-are-just-nudging-into-the-billion-dollar-backup-power-market",
        "image_filetype": "png",
        "image_url": "https://assets.greentechmedia.com/content/images/articles/Storage-Plus-River.png",
        "lead": "   ...",
        "title": "Batteries Are Just Nudging Into the Billion-Dollar Backup Power Market [GTM Squared]"
       },
       {
        "article_url": "http://feeds.greentechmedia.com/~r/GreentechMedia/~3/DsV3U14D86c/the-hype-and-hope-of-desert-green-hydrogen",
        "category": "Solar, Energy, Other Energy, Policy, News,",
        "date": "2020-11-16 08:47",
        "dc:date": "2020-11-16T08:47:00+00:00",
        "feedburner:origLink": "https://www.greentechmedia.com/articles/read/the-hype-and-hope-of-desert-green-hydrogen",
        "image_filetype": "png",
        "image_url": "https://assets.greentechmedia.com/content/images/articles/DESERTEC_Map_XL.jpg",
        "lead": "Desert energy is back. As the European Union sets its sights on a green hydrogen boom as part of its plans to meet decarbonization pledges and rebuild economies ravaged by the COVID-19 pandemic, North Africa has emerged as a possible source for a sig ...",
        "title": "The Hype and Hope of Sahara Desert Green Hydrogen"
       },
       {
        "article_url": "http://feeds.greentechmedia.com/~r/GreentechMedia/~3/GNlcfMIiiDY/arizonas-100-clean-energy-rules-heads-to-the-people",
        "category": "Solar, Solar-Plus-Storage , Grid Edge, Utilities, Energy Storage, Energy, News,",
        "date": "2020-11-13 23:06",
        "dc:date": "2020-11-13T20:21:00+00:00",
        "feedburner:origLink": "https://www.greentechmedia.com/articles/read/arizonas-100-clean-energy-rules-heads-to-the-people",
        "image_filetype": "png",
        "image_url": "https://assets.greentechmedia.com/content/images/articles/Arizona_Phoenix_APS_Skyline_XL.jpg",
        "lead": "A major clean energy policy cleared Arizona's utility regulator and now heads to stakeholder comment before it can take effect. The Arizona Corporation Commission voted 4-1 Friday to approve a suite of amendments to its energy rules that amount to a  ...",
        "title": "Arizona Regulators Pass Rule for 100% Clean Energy by 2050"
       },
       {
        "article_url": "http://feeds.greentechmedia.com/~r/GreentechMedia/~3/OcfU4kDxjbs/chemicals-giant-ineos-targets-worlds-cheapest-green-hydrogen",
        "category": "Energy, Other Energy, News,",
        "date": "2020-11-13 17:17",
        "dc:date": "2020-11-13T15:02:00+00:00",
        "feedburner:origLink": "https://www.greentechmedia.com/articles/read/chemicals-giant-ineos-targets-worlds-cheapest-green-hydrogen",
        "image_filetype": "png",
        "image_url": "https://assets.greentechmedia.com/content/images/articles/Green_Hydrogen_XL_Credit_GTM.jpg",
        "lead": "It seems everyone wants to get in on the ground floor when it comes to green hydrogen. Utilities and oil majors both have a head start with their mixture of renewable power capacity, gas transmission assets and an existing set of end users. But chemi ...",
        "title": "Chemicals Giant Ineos Targets the World’s Cheapest Green Hydrogen"
       },
       {
        "article_url": "http://feeds.greentechmedia.com/~r/GreentechMedia/~3/2OCSonUMrpE/north-carolina-and-duke-energys-vision-for-distributed-energy",
        "category": "Squared, Dispatches from the Grid Edge,",
        "date": "2020-11-13 16:58",
        "dc:date": "2020-11-13T13:00:00+00:00",
        "feedburner:origLink": "https://www.greentechmedia.com/articles/read/north-carolina-and-duke-energys-vision-for-distributed-energy",
        "image_filetype": "png",
        "image_url": "https://assets.greentechmedia.com/content/images/articles/Dispatches-from-the-Grid-Edge-River.png",
        "lead": "   ...",
        "title": "Duke Energy’s Vision for Distributed Energy in North Carolina and Beyond [GTM Squared]"
       },
       {
        "article_url": "http://feeds.greentechmedia.com/~r/GreentechMedia/~3/XpeozuYZdrE/biden-climate-mandate",
        "category": "Energy, Policy, News,",
        "date": "2020-11-12 21:59",
        "dc:date": "2020-11-12T20:57:00+00:00",
        "feedburner:origLink": "https://www.greentechmedia.com/articles/read/biden-climate-mandate",
        "image_filetype": "png",
        "image_url": "https://assets.greentechmedia.com/content/images/articles/Count_Every_Vote_Philly-11.4.20-_Rachael_Warriner-17.jpg",
        "lead": "Young Americans voted in record numbers during the 2020 election and played a key role in tipping the scales to Joe Biden. Early research shows that concern about climate change was a major driver of that robust turnout. The Sunrise Movement and othe ...",
        "title": "Young Voters Deliver Biden a Climate Mandate"
       }
      ],
      "text/plain": [
       "<IPython.core.display.JSON object>"
      ]
     },
     "execution_count": 4,
     "metadata": {
      "application/json": {
       "expanded": false,
       "root": "root"
      }
     },
     "output_type": "execute_result"
    }
   ],
   "source": [
    "def retrieve_all_current_articles():\n",
    "    rss_url = 'http://feeds.greentechmedia.com/GreentechMedia?_ga=2.187898337.813121554.1605616493-1583327211.1605616493'\n",
    "\n",
    "    r = requests.get(rss_url)\n",
    "    xml = xmltodict.parse(r.content)\n",
    "\n",
    "    articles = list(pd\n",
    "                    .DataFrame(xml['rss']['channel']['item'])\n",
    "                    .pipe(lambda df: df.assign(pubDate=pd.to_datetime(df['pubDate']).dt.strftime('%Y-%m-%d %H:%M')))\n",
    "                    .pipe(lambda df: df.assign(image_filetype=df['media:content'].apply(lambda x: x['@type']).map({'image/jpeg': 'jpg', 'image/png': 'png'})))\n",
    "                    .pipe(lambda df: df.assign(image_url=df['media:content'].apply(lambda x: x['@url'])))\n",
    "                    .pipe(lambda df: df.assign(description=df['description'].apply(lambda description: BeautifulSoup(description).get_text().replace('\\xa0', ' ').replace('\\n', ' ').replace('  ', ' ')[:250]+' ...')))\n",
    "                    .drop(columns=['media:content', 'guid'])\n",
    "                    .rename(columns={\n",
    "                        'link': 'article_url',\n",
    "                        'dc:subject': 'category',\n",
    "                        'description': 'lead',\n",
    "                        'pubDate': 'date',\n",
    "                    })\n",
    "                    .T\n",
    "                    .to_dict()\n",
    "                    .values()\n",
    "                   )\n",
    "    \n",
    "    return articles\n",
    "\n",
    "articles = retrieve_all_current_articles()\n",
    "\n",
    "JSON(articles)"
   ]
  },
  {
   "cell_type": "code",
   "execution_count": null,
   "metadata": {},
   "outputs": [],
   "source": []
  }
 ],
 "metadata": {
  "kernelspec": {
   "display_name": "EnergyNews",
   "language": "python",
   "name": "energynews"
  },
  "language_info": {
   "codemirror_mode": {
    "name": "ipython",
    "version": 3
   },
   "file_extension": ".py",
   "mimetype": "text/x-python",
   "name": "python",
   "nbconvert_exporter": "python",
   "pygments_lexer": "ipython3",
   "version": "3.7.8"
  }
 },
 "nbformat": 4,
 "nbformat_minor": 4
}
