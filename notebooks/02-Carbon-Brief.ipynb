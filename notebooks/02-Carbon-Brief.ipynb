{
 "cells": [
  {
   "cell_type": "markdown",
   "metadata": {},
   "source": [
    "# Carbon Brief Scraper Development\n",
    "\n",
    "<br>\n",
    "\n",
    "### Imports"
   ]
  },
  {
   "cell_type": "code",
   "execution_count": 1,
   "metadata": {},
   "outputs": [],
   "source": [
    "import json\n",
    "import pandas as pd\n",
    "import numpy as np\n",
    "\n",
    "import matplotlib.pyplot as plt \n",
    "import seaborn as sns\n",
    "\n",
    "import requests\n",
    "from bs4 import BeautifulSoup\n",
    "\n",
    "import datetime\n",
    "import re\n",
    "\n",
    "from ipypb import track\n",
    "from IPython.core.display import display, HTML, JSON"
   ]
  },
  {
   "cell_type": "markdown",
   "metadata": {},
   "source": [
    "<br>\n",
    "\n",
    "### Categories\n",
    "\n",
    "Retrieving a webpage"
   ]
  },
  {
   "cell_type": "code",
   "execution_count": 2,
   "metadata": {},
   "outputs": [
    {
     "data": {
      "text/plain": [
       "<Response [200]>"
      ]
     },
     "execution_count": 2,
     "metadata": {},
     "output_type": "execute_result"
    }
   ],
   "source": [
    "def request_CB_category_page(category='science'):\n",
    "    CB_url = f'https://www.carbonbrief.org/category/{category}'\n",
    "\n",
    "    headers = {\n",
    "        'user-agent' : 'Mozilla/5.0 (Windows NT 10.0; Win64; x64) AppleWebKit/537.36 (KHTML, like Gecko) Chrome/79.0.3945.117 Safari/537.36',\n",
    "    }\n",
    "\n",
    "    r = requests.get(CB_url, headers=headers)\n",
    "    \n",
    "    return r\n",
    "\n",
    "r = request_CB_category_page()\n",
    "\n",
    "r"
   ]
  },
  {
   "cell_type": "markdown",
   "metadata": {},
   "source": [
    "<br>\n",
    "\n",
    "We'll then extract the top-level articles"
   ]
  },
  {
   "cell_type": "code",
   "execution_count": 3,
   "metadata": {},
   "outputs": [
    {
     "data": {
      "text/plain": [
       "[{'date': '2020-10-30',\n",
       "  'category': 'Guest posts',\n",
       "  'title': 'Guest post: How declining ice in clouds makes high ‘climate sensitivity’ plausible',\n",
       "  'article_url': 'https://www.carbonbrief.org/guest-post-how-declining-ice-in-clouds-makes-high-climate-sensitivity-plausible',\n",
       "  'image_url': 'https://www.carbonbrief.org/wp-content/uploads/2020/10/Cumulus-clouds-seen-from-above-over-the-English-Channel-583x372.jpg'}]"
      ]
     },
     "execution_count": 3,
     "metadata": {},
     "output_type": "execute_result"
    }
   ],
   "source": [
    "def extract_topcat(soup):\n",
    "    topcats = soup.findAll('div', {'class':'ePostC topCat'})\n",
    "    assert len(topcats) == 1, 'More than one topcat was found'\n",
    "    topcat = topcats[0]\n",
    "\n",
    "    article = dict()\n",
    "\n",
    "    article['date'] = pd.to_datetime(re.sub('\\s\\s+' , ' ', topcat.find('div', {'class':'dateCat'}).text).strip().replace('.', '')).strftime('%Y-%m-%d')\n",
    "    article['category'] = topcat.find('div', {'class':'catDate'}).text.split('|')[0].replace('\\n', '').strip()\n",
    "    article['title'] = topcat.find('h3').text.replace('\\n', '')\n",
    "    article['article_url'] = topcat.find('h3').find('a')['href']\n",
    "    article['image_url'] = topcat.find('img')['src']\n",
    "\n",
    "    return article\n",
    "\n",
    "soup = BeautifulSoup(r.content)\n",
    "\n",
    "articles = list()\n",
    "topcat_article = extract_topcat(soup)\n",
    "articles += [topcat_article]\n",
    "\n",
    "articles"
   ]
  },
  {
   "cell_type": "markdown",
   "metadata": {},
   "source": [
    "<br>\n",
    "\n",
    "Then extract the mid-level articles"
   ]
  },
  {
   "cell_type": "code",
   "execution_count": 4,
   "metadata": {},
   "outputs": [
    {
     "name": "stdout",
     "output_type": "stream",
     "text": [
      "There were 6 articles found in the middle section\n"
     ]
    },
    {
     "data": {
      "text/plain": [
       "{'date': '2020-09-18',\n",
       " 'category': 'Webinars ',\n",
       " 'title': 'Webinar: Do we need to stop eating meat and dairy to tackle climate change?',\n",
       " 'article_url': 'https://www.carbonbrief.org/webinar-do-we-need-to-stop-eating-meat-and-dairy-to-tackle-climate-change',\n",
       " 'image_url': 'https://www.carbonbrief.org/wp-content/uploads/2020/09/Food-webinar-583x372.png'}"
      ]
     },
     "execution_count": 4,
     "metadata": {},
     "output_type": "execute_result"
    }
   ],
   "source": [
    "def extract_midcat_data(midcat):\n",
    "    cat_date = midcat.find('div', {'class':'catDate'})\n",
    "    category, date = cat_date.text.split('|')\n",
    "\n",
    "    article = dict()\n",
    "    \n",
    "    article['date'] = pd.to_datetime(date.replace('.', '').strip()).strftime('%Y-%m-%d')\n",
    "    article['category'] = category\n",
    "    article['title'] = midcat.find('h3').text.replace('\\n', '')\n",
    "    article['article_url'] = midcat.find('h3').find('a')['href']\n",
    "    article['image_url'] = midcat.find('img')['src']\n",
    "\n",
    "    return article\n",
    "\n",
    "midcats = soup.findAll('div', {'class':'ePost3'})\n",
    "print(f'There were {len(midcats)} articles found in the middle section')\n",
    "\n",
    "for midcat in midcats:\n",
    "    midcat_article = extract_midcat_data(midcat)\n",
    "    articles += [midcat_article]\n",
    "\n",
    "midcat_article"
   ]
  },
  {
   "cell_type": "markdown",
   "metadata": {},
   "source": [
    "<br>\n",
    "\n",
    "Then extract the bottom-level articles"
   ]
  },
  {
   "cell_type": "code",
   "execution_count": 5,
   "metadata": {},
   "outputs": [
    {
     "name": "stdout",
     "output_type": "stream",
     "text": [
      "There were 6 articles found in the bottom section\n"
     ]
    },
    {
     "data": {
      "text/plain": [
       "{'date': '2020-09-23',\n",
       " 'category': 'Extreme weather ',\n",
       " 'title': 'US sees ‘alarming’ increase in combined heatwaves and droughts',\n",
       " 'article_url': 'https://www.carbonbrief.org/us-sees-alarming-increase-in-combined-heatwaves-and-droughts',\n",
       " 'image_url': 'https://www.carbonbrief.org/wp-content/uploads/2020/09/Firefighters-watch-the-intense-flames-at-the-Pine-Gulch-Fire-Colorado-107x71.jpg'}"
      ]
     },
     "execution_count": 5,
     "metadata": {},
     "output_type": "execute_result"
    }
   ],
   "source": [
    "bottomcats = soup.find('div', {'class':'ePostC catSmll'}).findAll('div', {'class':'col-md-6'})\n",
    "print(f'There were {len(bottomcats)} articles found in the bottom section')\n",
    "\n",
    "for bottomcat in bottomcats:\n",
    "    bottomcat_article = extract_midcat_data(bottomcat)\n",
    "    articles += [bottomcat_article]\n",
    "    \n",
    "bottomcat_article"
   ]
  },
  {
   "cell_type": "markdown",
   "metadata": {},
   "source": [
    "<br>\n",
    "\n",
    "We'll then put these all together in a a single function"
   ]
  },
  {
   "cell_type": "code",
   "execution_count": 6,
   "metadata": {},
   "outputs": [
    {
     "data": {
      "application/json": [
       {
        "article_url": "https://www.carbonbrief.org/guest-post-how-declining-ice-in-clouds-makes-high-climate-sensitivity-plausible",
        "category": "Guest posts",
        "date": "2020-10-30",
        "image_url": "https://www.carbonbrief.org/wp-content/uploads/2020/10/Cumulus-clouds-seen-from-above-over-the-English-Channel-583x372.jpg",
        "title": "Guest post: How declining ice in clouds makes high ‘climate sensitivity’ plausible"
       },
       {
        "article_url": "https://www.carbonbrief.org/mapped-how-climate-change-disproportionately-affects-womens-health",
        "category": "Features ",
        "date": "2020-10-29",
        "image_url": "https://www.carbonbrief.org/wp-content/uploads/2020/10/women-children-flooding-JD0KR5-583x372.jpg",
        "title": "Mapped: How climate change disproportionately affects women’s health"
       },
       {
        "article_url": "https://www.carbonbrief.org/state-of-the-climate-2020-on-course-to-be-warmest-year-on-record",
        "category": "State of the climate ",
        "date": "2020-10-23",
        "image_url": "https://www.carbonbrief.org/wp-content/uploads/2020/10/Wind-turbines-in-Marchfeld-at-sunrise-Vienna-Austria-583x372.jpg",
        "title": "State of the climate: 2020 on course to be warmest year on record"
       },
       {
        "article_url": "https://www.carbonbrief.org/guest-post-demand-for-cooling-is-blind-sport-for-climate-and-sustainable-development",
        "category": "Guest posts ",
        "date": "2020-10-19",
        "image_url": "https://www.carbonbrief.org/wp-content/uploads/2020/10/A-Chinese-woman-cleans-electric-fans-at-an-outdoor-stall-in-Beijing-583x372.jpg",
        "title": "Guest post: Demand for cooling is blind spot for climate and sustainable development"
       },
       {
        "article_url": "https://www.carbonbrief.org/arctic-sea-ice-shrinks-to-second-lowest-summer-minimum-on-record",
        "category": "Sea ice ",
        "date": "2020-09-21",
        "image_url": "https://www.carbonbrief.org/wp-content/uploads/2020/09/Polar-bear-on-pack-ice-in-Northern-Arctic-583x372.jpg",
        "title": "Arctic sea ice shrinks to second-lowest summer minimum on record"
       },
       {
        "article_url": "https://www.carbonbrief.org/guest-post-are-low-and-middle-income-countries-bound-to-eat-more-meat",
        "category": "Guest posts ",
        "date": "2020-09-18",
        "image_url": "https://www.carbonbrief.org/wp-content/uploads/2020/09/A-butcher-prepares-cuts-of-meat-in-Kota-Kinabalu-Malaysian-Borneo-583x372.jpg",
        "title": "Guest post: Are low- and middle-income countries bound to eat more meat?"
       },
       {
        "article_url": "https://www.carbonbrief.org/webinar-do-we-need-to-stop-eating-meat-and-dairy-to-tackle-climate-change",
        "category": "Webinars ",
        "date": "2020-09-18",
        "image_url": "https://www.carbonbrief.org/wp-content/uploads/2020/09/Food-webinar-583x372.png",
        "title": "Webinar: Do we need to stop eating meat and dairy to tackle climate change?"
       },
       {
        "article_url": "https://www.carbonbrief.org/guest-post-how-the-global-coronavirus-stimulus-could-put-paris-agreement-on-track",
        "category": "Guest posts ",
        "date": "2020-10-15",
        "image_url": "https://www.carbonbrief.org/wp-content/uploads/2020/10/Hongkongers-wearing-surgical-masks-during-the-Covid-19-pandemic-107x71.jpg",
        "title": "Guest post: How the global coronavirus stimulus could put Paris Agreement on track"
       },
       {
        "article_url": "https://www.carbonbrief.org/nitrogen-fertiliser-use-could-threaten-global-climate-goals",
        "category": "Food and farming ",
        "date": "2020-10-07",
        "image_url": "https://www.carbonbrief.org/wp-content/uploads/2020/10/Man-spraying-fertiliser-and-pesticides-in-a-ground-nut-field-India-107x71.jpg",
        "title": "Nitrogen fertiliser use could ‘threaten global climate goals’"
       },
       {
        "article_url": "https://www.carbonbrief.org/guest-post-how-urban-heat-islands-will-intensify-heatwaves-in-uk-cities",
        "category": "Guest posts ",
        "date": "2020-10-01",
        "image_url": "https://www.carbonbrief.org/wp-content/uploads/2020/10/2CCJP30-1-resized-107x71.jpg",
        "title": "Guest post: How ‘urban heat islands’ will intensify heatwaves in UK cities"
       },
       {
        "article_url": "https://www.carbonbrief.org/greenland-to-lose-ice-far-faster-this-century-than-in-the-past-12000-years",
        "category": "Ice ",
        "date": "2020-09-30",
        "image_url": "https://www.carbonbrief.org/wp-content/uploads/2020/09/The-edge-of-the-Greenland-ice-sheet.-107x71.jpg",
        "title": "Greenland to lose ice far faster this century than in the past 12,000 years"
       },
       {
        "article_url": "https://www.carbonbrief.org/guest-post-the-oceans-are-absorbing-more-carbon-than-previously-thought",
        "category": "Guest posts ",
        "date": "2020-09-28",
        "image_url": "https://www.carbonbrief.org/wp-content/uploads/2020/09/Sunbeam-in-the-ocean.-Socorro-Mexico-107x71.jpg",
        "title": "Guest post: The oceans are absorbing more carbon than previously thought"
       },
       {
        "article_url": "https://www.carbonbrief.org/us-sees-alarming-increase-in-combined-heatwaves-and-droughts",
        "category": "Extreme weather ",
        "date": "2020-09-23",
        "image_url": "https://www.carbonbrief.org/wp-content/uploads/2020/09/Firefighters-watch-the-intense-flames-at-the-Pine-Gulch-Fire-Colorado-107x71.jpg",
        "title": "US sees ‘alarming’ increase in combined heatwaves and droughts"
       }
      ],
      "text/plain": [
       "<IPython.core.display.JSON object>"
      ]
     },
     "execution_count": 6,
     "metadata": {
      "application/json": {
       "expanded": false,
       "root": "root"
      }
     },
     "output_type": "execute_result"
    }
   ],
   "source": [
    "def response_to_articles(r):\n",
    "    articles = list()\n",
    "    soup = BeautifulSoup(r.content)\n",
    "\n",
    "    ## Topcat\n",
    "    topcat_article = extract_topcat(soup)\n",
    "    articles += [topcat_article]\n",
    "\n",
    "    ## Midcats\n",
    "    midcats = soup.findAll('div', {'class':'ePost3'})\n",
    "\n",
    "    for midcat in midcats:\n",
    "        midcat_article = extract_midcat_data(midcat)\n",
    "        articles += [midcat_article]\n",
    "\n",
    "    ## Bottomcats\n",
    "    bottomcats = soup.find('div', {'class':'ePostC catSmll'}).findAll('div', {'class':'col-md-6'})\n",
    "\n",
    "    for bottomcat in bottomcats:\n",
    "        bottomcat_article = extract_midcat_data(bottomcat)\n",
    "        articles += [bottomcat_article]\n",
    "        \n",
    "    return articles\n",
    "\n",
    "articles = response_to_articles(r)\n",
    "\n",
    "JSON(articles)"
   ]
  },
  {
   "cell_type": "markdown",
   "metadata": {},
   "source": [
    "<br>\n",
    "\n",
    "We can iterate over all of the available categories as well convert the resulting dictionary into a dataframe"
   ]
  },
  {
   "cell_type": "code",
   "execution_count": 7,
   "metadata": {},
   "outputs": [
    {
     "data": {
      "text/html": [
       "<div>\n",
       "<style scoped>\n",
       "    .dataframe tbody tr th:only-of-type {\n",
       "        vertical-align: middle;\n",
       "    }\n",
       "\n",
       "    .dataframe tbody tr th {\n",
       "        vertical-align: top;\n",
       "    }\n",
       "\n",
       "    .dataframe thead th {\n",
       "        text-align: right;\n",
       "    }\n",
       "</style>\n",
       "<table border=\"1\" class=\"dataframe\">\n",
       "  <thead>\n",
       "    <tr style=\"text-align: right;\">\n",
       "      <th></th>\n",
       "      <th>date</th>\n",
       "      <th>category</th>\n",
       "      <th>title</th>\n",
       "      <th>article_url</th>\n",
       "      <th>image_url</th>\n",
       "      <th>section</th>\n",
       "    </tr>\n",
       "  </thead>\n",
       "  <tbody>\n",
       "    <tr>\n",
       "      <th>0</th>\n",
       "      <td>2020-10-30</td>\n",
       "      <td>Guest posts</td>\n",
       "      <td>Guest post: How declining ice in clouds makes ...</td>\n",
       "      <td>https://www.carbonbrief.org/guest-post-how-dec...</td>\n",
       "      <td>https://www.carbonbrief.org/wp-content/uploads...</td>\n",
       "      <td>science</td>\n",
       "    </tr>\n",
       "    <tr>\n",
       "      <th>1</th>\n",
       "      <td>2020-10-29</td>\n",
       "      <td>Features</td>\n",
       "      <td>Mapped: How climate change disproportionately ...</td>\n",
       "      <td>https://www.carbonbrief.org/mapped-how-climate...</td>\n",
       "      <td>https://www.carbonbrief.org/wp-content/uploads...</td>\n",
       "      <td>science</td>\n",
       "    </tr>\n",
       "    <tr>\n",
       "      <th>2</th>\n",
       "      <td>2020-10-23</td>\n",
       "      <td>State of the climate</td>\n",
       "      <td>State of the climate: 2020 on course to be war...</td>\n",
       "      <td>https://www.carbonbrief.org/state-of-the-clima...</td>\n",
       "      <td>https://www.carbonbrief.org/wp-content/uploads...</td>\n",
       "      <td>science</td>\n",
       "    </tr>\n",
       "    <tr>\n",
       "      <th>3</th>\n",
       "      <td>2020-10-19</td>\n",
       "      <td>Guest posts</td>\n",
       "      <td>Guest post: Demand for cooling is blind spot f...</td>\n",
       "      <td>https://www.carbonbrief.org/guest-post-demand-...</td>\n",
       "      <td>https://www.carbonbrief.org/wp-content/uploads...</td>\n",
       "      <td>science</td>\n",
       "    </tr>\n",
       "    <tr>\n",
       "      <th>4</th>\n",
       "      <td>2020-09-21</td>\n",
       "      <td>Sea ice</td>\n",
       "      <td>Arctic sea ice shrinks to second-lowest summer...</td>\n",
       "      <td>https://www.carbonbrief.org/arctic-sea-ice-shr...</td>\n",
       "      <td>https://www.carbonbrief.org/wp-content/uploads...</td>\n",
       "      <td>science</td>\n",
       "    </tr>\n",
       "  </tbody>\n",
       "</table>\n",
       "</div>"
      ],
      "text/plain": [
       "         date               category  \\\n",
       "0  2020-10-30            Guest posts   \n",
       "1  2020-10-29              Features    \n",
       "2  2020-10-23  State of the climate    \n",
       "3  2020-10-19           Guest posts    \n",
       "4  2020-09-21               Sea ice    \n",
       "\n",
       "                                               title  \\\n",
       "0  Guest post: How declining ice in clouds makes ...   \n",
       "1  Mapped: How climate change disproportionately ...   \n",
       "2  State of the climate: 2020 on course to be war...   \n",
       "3  Guest post: Demand for cooling is blind spot f...   \n",
       "4  Arctic sea ice shrinks to second-lowest summer...   \n",
       "\n",
       "                                         article_url  \\\n",
       "0  https://www.carbonbrief.org/guest-post-how-dec...   \n",
       "1  https://www.carbonbrief.org/mapped-how-climate...   \n",
       "2  https://www.carbonbrief.org/state-of-the-clima...   \n",
       "3  https://www.carbonbrief.org/guest-post-demand-...   \n",
       "4  https://www.carbonbrief.org/arctic-sea-ice-shr...   \n",
       "\n",
       "                                           image_url  section  \n",
       "0  https://www.carbonbrief.org/wp-content/uploads...  science  \n",
       "1  https://www.carbonbrief.org/wp-content/uploads...  science  \n",
       "2  https://www.carbonbrief.org/wp-content/uploads...  science  \n",
       "3  https://www.carbonbrief.org/wp-content/uploads...  science  \n",
       "4  https://www.carbonbrief.org/wp-content/uploads...  science  "
      ]
     },
     "execution_count": 7,
     "metadata": {},
     "output_type": "execute_result"
    }
   ],
   "source": [
    "def retrieve_all_current_articles():\n",
    "    articles = list()\n",
    "    sections = ['science', 'energy', 'policy']\n",
    "\n",
    "    for section in sections:\n",
    "        r = request_CB_category_page(section)\n",
    "\n",
    "        section_articles = response_to_articles(r)\n",
    "        [article.update({'section':section}) for article in section_articles]\n",
    "        articles += section_articles\n",
    "        \n",
    "    return articles\n",
    "\n",
    "articles = retrieve_all_current_articles()\n",
    "    \n",
    "df_articles = (pd\n",
    "               .DataFrame(articles)\n",
    "               .drop_duplicates())\n",
    "\n",
    "df_articles.head()"
   ]
  },
  {
   "cell_type": "markdown",
   "metadata": {},
   "source": [
    "<br>\n",
    "\n",
    "We can also work back from the article dictionaries to the original HTML"
   ]
  },
  {
   "cell_type": "code",
   "execution_count": 8,
   "metadata": {},
   "outputs": [
    {
     "data": {
      "text/html": [
       "<br><div class=\"ePost3\"><a href=\"https://www.carbonbrief.org/guest-post-how-declining-ice-in-clouds-makes-high-climate-sensitivity-plausible\"><img src=\"https://www.carbonbrief.org/wp-content/uploads/2020/10/Cumulus-clouds-seen-from-above-over-the-English-Channel-583x372.jpg\" alt=\"\"></a><h3 class=\"deTitle\"><a href=\"https://www.carbonbrief.org/guest-post-how-declining-ice-in-clouds-makes-high-climate-sensitivity-plausible\">Guest post: How declining ice in clouds makes high ‘climate sensitivity’ plausible</a></h3><div class=\"catDate\"><a href=\"https://www.carbonbrief.org/category/Guest-posts\">Guest posts</a> | 2020-10-30</div></div><br>"
      ],
      "text/plain": [
       "<IPython.core.display.HTML object>"
      ]
     },
     "metadata": {},
     "output_type": "display_data"
    }
   ],
   "source": [
    "article_to_html_str = lambda article: f'<br><div class=\"ePost3\"><a href=\"{article[\"article_url\"]}\"><img src=\"{article[\"image_url\"]}\" alt=\"\"></a><h3 class=\"deTitle\"><a href=\"{article[\"article_url\"]}\">{article[\"title\"]}</a></h3><div class=\"catDate\"><a href=\"https://www.carbonbrief.org/category/{article[\"category\"].replace(\" \", \"-\")}\">{article[\"category\"]}</a> | {article[\"date\"]}</div></div><br>'\n",
    "\n",
    "article = df_articles.iloc[0]\n",
    "article_str = article_to_html_str(article)\n",
    "\n",
    "display(HTML(article_str))"
   ]
  },
  {
   "cell_type": "markdown",
   "metadata": {},
   "source": [
    "<br>\n",
    "\n",
    "### Daily Brief\n",
    "\n",
    "Carbon Brief also provides a daily briefing that combines headlines from a number of news sources. Before we can retrieve it we need to identify the relevant url"
   ]
  },
  {
   "cell_type": "code",
   "execution_count": 10,
   "metadata": {},
   "outputs": [
    {
     "data": {
      "text/plain": [
       "'https://www.carbonbrief.org/daily-brief/macron-hails-chance-to-make-our-planet-great-again-after-biden-win'"
      ]
     },
     "execution_count": 10,
     "metadata": {},
     "output_type": "execute_result"
    }
   ],
   "source": [
    "def get_daily_briefing_url(dt=pd.Timestamp.now()):\n",
    "    daily_briefing_request_url = 'https://www.carbonbrief.org/wp-admin/admin-ajax.php'\n",
    "\n",
    "    days_to_go_back = max(dt.dayofweek-4, 0)\n",
    "    briefing_dt = (dt-pd.Timedelta(days=days_to_go_back)).strftime('%Y-%m-%d')\n",
    "\n",
    "    data = {\n",
    "        'action': 'getbriefurl',\n",
    "        'nonce': '9e4988efb4',\n",
    "        'date': briefing_dt\n",
    "    }\n",
    "\n",
    "    headers = {\n",
    "        'user-agent': 'Mozilla/5.0 (Windows NT 10.0; Win64; x64) AppleWebKit/537.36 (KHTML, like Gecko) Chrome/86.0.4240.198 Safari/537.36'\n",
    "    }\n",
    "\n",
    "    r = requests.post(daily_briefing_request_url, data=data, headers=headers)\n",
    "    daily_briefing_url = r.text\n",
    "    \n",
    "    if daily_briefing_url == '':\n",
    "        daily_briefing_url = get_daily_briefing_url(pd.Timestamp.now()-pd.Timedelta(days=1))\n",
    "    \n",
    "    return daily_briefing_url\n",
    "\n",
    "get_daily_briefing_url()"
   ]
  },
  {
   "cell_type": "markdown",
   "metadata": {},
   "source": [
    "<br>\n",
    "\n",
    "We can then make the request to the relevant page"
   ]
  },
  {
   "cell_type": "code",
   "execution_count": 10,
   "metadata": {},
   "outputs": [
    {
     "data": {
      "text/plain": [
       "<Response [200]>"
      ]
     },
     "execution_count": 10,
     "metadata": {},
     "output_type": "execute_result"
    }
   ],
   "source": [
    "def request_CB_daily_brief_page():\n",
    "    CB_url = get_daily_briefing_url()\n",
    "\n",
    "    headers = {\n",
    "        'user-agent' : 'Mozilla/5.0 (Windows NT 10.0; Win64; x64) AppleWebKit/537.36 (KHTML, like Gecko) Chrome/79.0.3945.117 Safari/537.36',\n",
    "    }\n",
    "\n",
    "    r = requests.get(CB_url, headers=headers)\n",
    "    \n",
    "    return r\n",
    "\n",
    "r = request_CB_daily_brief_page()\n",
    "\n",
    "r"
   ]
  },
  {
   "cell_type": "markdown",
   "metadata": {},
   "source": [
    "<br>\n",
    "\n",
    "Then extract the relevant information"
   ]
  },
  {
   "cell_type": "code",
   "execution_count": 12,
   "metadata": {},
   "outputs": [
    {
     "data": {
      "text/plain": [
       "{'title': 'Macron Hails Chance To ‘Make Our Planet Great Again’ After Biden Win',\n",
       " 'headlines': [\"Macron hails chance to 'make our planet great again' after Biden win\",\n",
       "  'Government targets two million new UK green jobs by 2030',\n",
       "  'Unhaltable global warming claim withdrawn by Scientific Reports journal',\n",
       "  'Samsung financial units pledge to halt coal investments',\n",
       "  'Rising levels of CO2 increasing extreme weather events in Australia, report finds',\n",
       "  'When will electricity companies finally quite natural gas?',\n",
       "  'Adapting to the challenges of warming',\n",
       "  'Hitting net zero is not enough – we must restore the climate',\n",
       "  \"Ma Jun: China has started to 'walk the walk' on climate crisis\",\n",
       "  'How aerosols and greenhouse gases influence the diurnal temperature range']}"
      ]
     },
     "execution_count": 12,
     "metadata": {},
     "output_type": "execute_result"
    }
   ],
   "source": [
    "def extract_daily_briefing():\n",
    "    r = request_CB_daily_brief_page()\n",
    "    \n",
    "    content = BeautifulSoup(r.content).find('div', {'class':'innerArt'})\n",
    "    daily_briefing = dict()\n",
    "    \n",
    "    daily_briefing['title'] = content.find('div', {'class': 'miscTitle'}).text.title()\n",
    "    daily_briefing['headlines'] = [elem.text.replace('\\n', ' ') for elem in content.find('div', {'class': 'dailyheadlinesbox'}).findAll('li')]\n",
    "\n",
    "    return daily_briefing\n",
    "\n",
    "daily_briefing = extract_daily_briefing()\n",
    "\n",
    "daily_briefing"
   ]
  },
  {
   "cell_type": "markdown",
   "metadata": {},
   "source": [
    "<br>\n",
    "\n",
    "We'll wrap this in a function that returns a raw string to us"
   ]
  },
  {
   "cell_type": "code",
   "execution_count": 13,
   "metadata": {},
   "outputs": [
    {
     "name": "stdout",
     "output_type": "stream",
     "text": [
      "Macron Hails Chance To ‘Make Our Planet Great Again’ After Biden Win\n",
      "\n",
      "* Macron hails chance to 'make our planet great again' after Biden win\n",
      "* Government targets two million new UK green jobs by 2030\n",
      "* Unhaltable global warming claim withdrawn by Scientific Reports journal\n",
      "* Samsung financial units pledge to halt coal investments\n",
      "* Rising levels of CO2 increasing extreme weather events in Australia, report finds\n",
      "* When will electricity companies finally quite natural gas?\n",
      "* Adapting to the challenges of warming\n",
      "* Hitting net zero is not enough – we must restore the climate\n",
      "* Ma Jun: China has started to 'walk the walk' on climate crisis\n",
      "* How aerosols and greenhouse gases influence the diurnal temperature range\n"
     ]
    }
   ],
   "source": [
    "def daily_briefing_url_to_text():\n",
    "    daily_briefing = extract_daily_briefing()\n",
    "    daily_briefing_text = f\"{daily_briefing['title']}\\n\\n* {(chr(10)+'* ').join(daily_briefing['headlines'])}\"\n",
    "    \n",
    "    return daily_briefing_text\n",
    "\n",
    "print(daily_briefing_url_to_text())"
   ]
  },
  {
   "cell_type": "markdown",
   "metadata": {},
   "source": [
    "<br>\n",
    "\n",
    "### All Articles\n",
    "\n",
    "We can use the website's search functionality to identify all historical articles"
   ]
  },
  {
   "cell_type": "code",
   "execution_count": 13,
   "metadata": {},
   "outputs": [
    {
     "data": {
      "text/plain": [
       "<Response [200]>"
      ]
     },
     "execution_count": 13,
     "metadata": {},
     "output_type": "execute_result"
    }
   ],
   "source": [
    "def search_CB_articles(page=0, items=100):\n",
    "    search_url = 'https://www.carbonbrief.org/wp-admin/admin-ajax.php'\n",
    "\n",
    "    form_data = {\n",
    "        'currpage' : page,\n",
    "        'offset' : items,\n",
    "        'items' : items,\n",
    "        'layout' : 'large',\n",
    "        'action' : 'loadmore',\n",
    "        'allowsorting' : 'true',\n",
    "\n",
    "    }\n",
    "\n",
    "    headers = {\n",
    "        'user-agent' : 'Mozilla/5.0 (Windows NT 10.0; Win64; x64) AppleWebKit/537.36 (KHTML, like Gecko) Chrome/79.0.3945.117 Safari/537.36',\n",
    "    }\n",
    "\n",
    "    r = requests.get(search_url, params=form_data, headers=headers)\n",
    "    \n",
    "    return r\n",
    "\n",
    "r = search_CB_articles()\n",
    "\n",
    "r"
   ]
  },
  {
   "cell_type": "markdown",
   "metadata": {},
   "source": [
    "<br>\n",
    "\n",
    "The response is a JSON that contains the HTML content for each article"
   ]
  },
  {
   "cell_type": "code",
   "execution_count": 14,
   "metadata": {},
   "outputs": [
    {
     "name": "stdout",
     "output_type": "stream",
     "text": [
      "<div class=\"esubDtls carbonfullwidth\">\n",
      " <h3>\n",
      "  <a href=\"https://www.carbonbrief.org/daily-brief/macron-hails-chance-to-make-our-planet-great-again-after-biden-win\">\n",
      "   Macron hails chance to ‘make our planet great again’ after Biden win\n",
      "  </a>\n",
      " </h3>\n",
      " <p>\n",
      "  French president Emmanuel Macron has welcomed US president-elect Joe Biden’s pledge to rejoin the Paris climate deal on taking office by saying countries now have the chance to…\n",
      "  <a class=\"normalLink\" href=\"https://www.carbonbrief.org/daily-brief/macron-hails-chance-to-make-our-planet-great-again-after-biden-win\">\n",
      "   Read More\n",
      "  </a>\n",
      " </p>\n",
      " <div class=\"catDate\">\n",
      "  <a href=\"https://www.carbonbrief.org/daily-brief/macron-hails-chance-to-make-our-planet-great-again-after-biden-win\">\n",
      "   Daily Briefing\n",
      "  </a>\n",
      "  | 13.11.20\n",
      " </div>\n",
      "</div>\n"
     ]
    }
   ],
   "source": [
    "r_page_html = r.json()['content']\n",
    "r_page_soup = BeautifulSoup(r_page_html)\n",
    "\n",
    "page_articles = r_page_soup.findAll('div', {'class':'esubDtls'})\n",
    "article_soup = page_articles[0]\n",
    "\n",
    "print(article_soup.prettify())"
   ]
  },
  {
   "cell_type": "markdown",
   "metadata": {},
   "source": [
    "<br>\n",
    "\n",
    "We'll define a function that extracts the relevant high-level information from an article into a dictionary"
   ]
  },
  {
   "cell_type": "code",
   "execution_count": 15,
   "metadata": {},
   "outputs": [
    {
     "data": {
      "text/plain": [
       "{'date': '2020-11-13',\n",
       " 'category': 'Daily Briefing ',\n",
       " 'title': 'Macron hails chance to ‘make our planet great again’ after Biden win',\n",
       " 'article_url': 'https://www.carbonbrief.org/daily-brief/macron-hails-chance-to-make-our-planet-great-again-after-biden-win'}"
      ]
     },
     "execution_count": 15,
     "metadata": {},
     "output_type": "execute_result"
    }
   ],
   "source": [
    "def search_article_to_data(article_soup):\n",
    "    article = dict()\n",
    "\n",
    "    cat_date = article_soup.find('div', {'class':'catDate'})\n",
    "    cat_dates = cat_date.text.split('|')\n",
    "    \n",
    "    if len(cat_dates) >= 2:\n",
    "        category, date = cat_dates[-2:]\n",
    "    else:\n",
    "        category, date = np.nan, cat_dates[0]\n",
    "\n",
    "    article['date'] = pd.to_datetime(date.replace('.', '-').strip(), format='%d-%m-%y').strftime('%Y-%m-%d')\n",
    "    article['category'] = category\n",
    "    article['title'] = article_soup.find('h3').text.replace('\\n', '')\n",
    "    article['article_url'] = article_soup.find('h3').find('a')['href']\n",
    "\n",
    "    return article\n",
    "\n",
    "article = search_article_to_data(article_soup)\n",
    "\n",
    "article"
   ]
  },
  {
   "cell_type": "markdown",
   "metadata": {},
   "source": [
    "<br>\n",
    "\n",
    "We'll extract this metadata for the first 25 pages of search results"
   ]
  },
  {
   "cell_type": "code",
   "execution_count": 24,
   "metadata": {},
   "outputs": [
    {
     "data": {
      "text/html": [
       "<div><span class=\"Text-label\" style=\"display:inline-block; overflow:hidden; white-space:nowrap; text-overflow:ellipsis; min-width:0; max-width:15ex; vertical-align:middle; text-align:right\"></span>\n",
       "<progress style=\"width:60ex\" max=\"25\" value=\"25\" class=\"Progress-main\"/></progress>\n",
       "<span class=\"Progress-label\"><strong>100%</strong></span>\n",
       "<span class=\"Iteration-label\">25/25</span>\n",
       "<span class=\"Time-label\">[00:11<00:01, 0.43s/it]</span></div>"
      ],
      "text/plain": [
       "\u001b[A\u001b[2K\r",
       " [████████████████████████████████████████████████████████████] 25/25 [00:11<00:01, 0.43s/it]"
      ]
     },
     "metadata": {},
     "output_type": "display_data"
    },
    {
     "name": "stdout",
     "output_type": "stream",
     "text": [
      "2500 articles were returned\n"
     ]
    }
   ],
   "source": [
    "all_articles = list()\n",
    "\n",
    "for page in track(range(25)):\n",
    "    try:\n",
    "        r = search_CB_articles(page)\n",
    "\n",
    "        r_page_html = r.json()['content']\n",
    "        r_page_soup = BeautifulSoup(r_page_html)\n",
    "\n",
    "        page_articles = r_page_soup.findAll('div', {'class':'esubDtls'})\n",
    "        all_articles += page_articles\n",
    "        \n",
    "    except:\n",
    "        pass\n",
    "    \n",
    "print(f'{len(all_articles)} articles were returned')"
   ]
  },
  {
   "cell_type": "markdown",
   "metadata": {},
   "source": [
    "<br>\n",
    "\n",
    "Then convert it into a dataframe"
   ]
  },
  {
   "cell_type": "code",
   "execution_count": 25,
   "metadata": {},
   "outputs": [
    {
     "name": "stdout",
     "output_type": "stream",
     "text": [
      "Wall time: 635 ms\n"
     ]
    },
    {
     "data": {
      "text/html": [
       "<div>\n",
       "<style scoped>\n",
       "    .dataframe tbody tr th:only-of-type {\n",
       "        vertical-align: middle;\n",
       "    }\n",
       "\n",
       "    .dataframe tbody tr th {\n",
       "        vertical-align: top;\n",
       "    }\n",
       "\n",
       "    .dataframe thead th {\n",
       "        text-align: right;\n",
       "    }\n",
       "</style>\n",
       "<table border=\"1\" class=\"dataframe\">\n",
       "  <thead>\n",
       "    <tr style=\"text-align: right;\">\n",
       "      <th></th>\n",
       "      <th>date</th>\n",
       "      <th>category</th>\n",
       "      <th>title</th>\n",
       "      <th>article_url</th>\n",
       "    </tr>\n",
       "  </thead>\n",
       "  <tbody>\n",
       "    <tr>\n",
       "      <th>0</th>\n",
       "      <td>2020-11-13</td>\n",
       "      <td>Daily Briefing</td>\n",
       "      <td>Macron hails chance to ‘make our planet great ...</td>\n",
       "      <td>https://www.carbonbrief.org/daily-brief/macron...</td>\n",
       "    </tr>\n",
       "    <tr>\n",
       "      <th>1</th>\n",
       "      <td>2020-11-12</td>\n",
       "      <td>Daily Briefing</td>\n",
       "      <td>Biden launches transition teams of Obama alum,...</td>\n",
       "      <td>https://www.carbonbrief.org/daily-brief/biden-...</td>\n",
       "    </tr>\n",
       "    <tr>\n",
       "      <th>2</th>\n",
       "      <td>2020-11-11</td>\n",
       "      <td>Daily Briefing</td>\n",
       "      <td>Biden talks climate in calls with foreign leaders</td>\n",
       "      <td>https://www.carbonbrief.org/daily-brief/biden-...</td>\n",
       "    </tr>\n",
       "    <tr>\n",
       "      <th>3</th>\n",
       "      <td>2020-11-10</td>\n",
       "      <td>Media analysis</td>\n",
       "      <td>Media reaction: What Joe Biden’s US election v...</td>\n",
       "      <td>https://www.carbonbrief.org/media-reaction-wha...</td>\n",
       "    </tr>\n",
       "    <tr>\n",
       "      <th>4</th>\n",
       "      <td>2020-11-10</td>\n",
       "      <td>Daily Briefing</td>\n",
       "      <td>World’s largest coal producer warns of bankrup...</td>\n",
       "      <td>https://www.carbonbrief.org/daily-brief/worlds...</td>\n",
       "    </tr>\n",
       "  </tbody>\n",
       "</table>\n",
       "</div>"
      ],
      "text/plain": [
       "         date         category  \\\n",
       "0  2020-11-13  Daily Briefing    \n",
       "1  2020-11-12  Daily Briefing    \n",
       "2  2020-11-11  Daily Briefing    \n",
       "3  2020-11-10  Media analysis    \n",
       "4  2020-11-10  Daily Briefing    \n",
       "\n",
       "                                               title  \\\n",
       "0  Macron hails chance to ‘make our planet great ...   \n",
       "1  Biden launches transition teams of Obama alum,...   \n",
       "2  Biden talks climate in calls with foreign leaders   \n",
       "3  Media reaction: What Joe Biden’s US election v...   \n",
       "4  World’s largest coal producer warns of bankrup...   \n",
       "\n",
       "                                         article_url  \n",
       "0  https://www.carbonbrief.org/daily-brief/macron...  \n",
       "1  https://www.carbonbrief.org/daily-brief/biden-...  \n",
       "2  https://www.carbonbrief.org/daily-brief/biden-...  \n",
       "3  https://www.carbonbrief.org/media-reaction-wha...  \n",
       "4  https://www.carbonbrief.org/daily-brief/worlds...  "
      ]
     },
     "execution_count": 25,
     "metadata": {},
     "output_type": "execute_result"
    }
   ],
   "source": [
    "%%time\n",
    "\n",
    "all_article_data = [search_article_to_data(article) for article in all_articles]\n",
    "df_all_article_data = pd.DataFrame(all_article_data)\n",
    "\n",
    "df_all_article_data.head()"
   ]
  },
  {
   "cell_type": "markdown",
   "metadata": {},
   "source": [
    "<br>\n",
    "\n",
    "### Scraping Article Content\n",
    "\n",
    "We'll subset just the science articles for this example"
   ]
  },
  {
   "cell_type": "code",
   "execution_count": 26,
   "metadata": {},
   "outputs": [
    {
     "data": {
      "text/plain": [
       "96      https://www.carbonbrief.org/vacancy-science-jo...\n",
       "1591    https://www.carbonbrief.org/donald-trumps-budg...\n",
       "Name: article_url, dtype: object"
      ]
     },
     "execution_count": 26,
     "metadata": {},
     "output_type": "execute_result"
    }
   ],
   "source": [
    "s_science_article_urls = df_all_article_data.loc[df_all_article_data['category']=='Science ', 'article_url']\n",
    "\n",
    "s_science_article_urls"
   ]
  },
  {
   "cell_type": "markdown",
   "metadata": {},
   "source": [
    "<br>\n",
    "\n",
    "Just as we did for the daily briefing we'll create a wrapper that converts article data into plain text"
   ]
  },
  {
   "cell_type": "code",
   "execution_count": 29,
   "metadata": {},
   "outputs": [
    {
     "name": "stdout",
     "output_type": "stream",
     "text": [
      "This vacancy is now closed.This is an exciting opportunity to become Carbon Brief s new science journalist, helping us to analyse and report climate change and society s response to it.Working closely with the Science Editor and the rest of the team, you ll report on the latest scientific developments relevant to climate change. This could range from disentangling claims in the media about heatwaves and climate change, to summarising the latest study on Arctic sea ice loss, or working with our multimedia journalist on an infographic about wildfires.Carbon Brief s award-winning science coverage, data journalism and analysis is respected by scientists, journalists and policymakers around the world. You ll be comfortable conveying the point of a story while representing the subtleties of scientific information in a clear and engaging way. With a strong grounding in science, you ll be meticulous about accuracy and fact-checking. EssentialDesirableLocation: Carbon Brief s office is in central London. Ideally, this role will be office based, but flexible/remote working is a possible option, depending on the successful candidate s circumstances/location. You may be expected to undertake some travel as part of your work.Reporting to: The director.Hours/Duration: This is a permanent full-time contract, subject to a six-month review period.Salary: Competitive; dependent on skills and experience.To apply, please send:To: [email protected]. Please state  Science journalist application   Carbon Brief  in the email subject header.Applications must be submitted by 9am on Monday, 21 September 2020. Interviews will be held on Monday, 28 September and Tuesday, 29 September.Typically, Carbon Brief only considers candidates who have the right to work permanently in the United Kingdom. However, for a truly exceptional candidate, we might consider an alternative (non-sponsored) remote-working arrangement.We are committed to the principles of equal opportunity in our employment practices. We do not discriminate on the basis of race, religion, colour, national origin, gender, sexual orientation, age, marital status or disability status. We will seek to ensure that individuals are recruited, selected, trained and promoted on the basis of their aptitude, skills and abilities.Carbon Brief is a UK-based website covering the latest developments in climate science, climate policy and energy policy. We specialise in clear, data-driven articles and graphics to help improve the understanding of climate change, both in terms of the science and the policy response. We publish a wide range of content, including science explainers, interviews, analysis and factchecks, as well as daily and weekly email summaries of newspaper and online coverage.\n"
     ]
    }
   ],
   "source": [
    "def article_url_to_text(article_url):\n",
    "    headers = {\n",
    "        'user-agent' : 'Mozilla/5.0 (Windows NT 10.0; Win64; x64) AppleWebKit/537.36 (KHTML, like Gecko) Chrome/79.0.3945.117 Safari/537.36',\n",
    "    }\n",
    "    \n",
    "    r = requests.get(article_url, headers=headers)\n",
    "    article_content = BeautifulSoup(r.content).find('div', {'class':'innerArt'}).findAll('p', recursive=False)\n",
    "\n",
    "    article_text = ''.join([article_content_item.text for article_content_item in article_content if hasattr(re.search('[a-zA-Z0-9_]', article_content_item.text), 'start')])\n",
    "    article_text = article_text.encode('ascii', 'replace').decode().replace('?', ' ')\n",
    "\n",
    "    return article_text\n",
    "\n",
    "article_url = s_science_article_urls.iloc[0]\n",
    "article_text = article_url_to_text(article_url)\n",
    "\n",
    "num_words_to_print = 500\n",
    "print(' '.join(article_text.split(' ')[:num_words_to_print]))"
   ]
  },
  {
   "cell_type": "markdown",
   "metadata": {},
   "source": [
    "<br>\n",
    "\n",
    "We can then iterate through them and save all of the raw text in a dictionary"
   ]
  },
  {
   "cell_type": "code",
   "execution_count": 34,
   "metadata": {},
   "outputs": [
    {
     "data": {
      "text/html": [
       "<div><span class=\"Text-label\" style=\"display:inline-block; overflow:hidden; white-space:nowrap; text-overflow:ellipsis; min-width:0; max-width:15ex; vertical-align:middle; text-align:right\"></span>\n",
       "<progress style=\"width:60ex\" max=\"2\" value=\"2\" class=\"Progress-main\"/></progress>\n",
       "<span class=\"Progress-label\"><strong>100%</strong></span>\n",
       "<span class=\"Iteration-label\">2/2</span>\n",
       "<span class=\"Time-label\">[00:00<00:00, 0.24s/it]</span></div>"
      ],
      "text/plain": [
       "\u001b[A\u001b[2K\r",
       " [████████████████████████████████████████████████████████████] 2/2 [00:00<00:00, 0.24s/it]"
      ]
     },
     "metadata": {},
     "output_type": "display_data"
    },
    {
     "data": {
      "application/json": [
       {
        "1591": "Update 23 May: On Tuesday, President Trump released a fleshed-out version of the March  skinny budget  with further details about his administration s priorities for reorganising federal spending. Some things remain unchanged. The proposed cut to the Environmental Protection Agency (EPA) of 31% still stands, as does the intention to cease payments to the Green Climate Fund (GCF). But NASA s earth sciences programme appears to take a bigger financial hit in the new budget. A Major Saving and Reforms document accompanying the main budget confirms Trump s wish to scrap four NASA earth science missions (DSCOVR, OCO-3, PACE and CLARREO Pathfinder, see below). But now a fifth NASA mission joins the list of projects earmarked for scrapping.Under the new proposals, funding for a future weather satellite capable of measuring the influence of clouds on Earth s climate   known as the Radiation Budget Instrument (RDI)   would also be terminated. Citing  competing priorities , the administration categorises all five projects as  lower-priority science missions that cannot be accommodated under constrained budgets .NASA s acting administrator Robert Lightfoot said in a statement that despite the proposed ending of five programmes, the proposed budget  still includes significant Earth Science efforts, including 18 Earth observing missions in space as well as airborne missions . The new budget also retains the proposal to terminate NASA s Office of Education, citing  challenges in providing oversight and integration of Agency-wide education activities .On Thursday, President Trump unveiled his first budget proposal. Entitled  America First: A budget blueprint to make America Great Again , the document outlines how the new administration plans to  reprioritise Federal spending , redirecting funding away from a suite of government agencies in favour of increases in defence and immigration enforcement spending.A statement by President Trump insists the proposed cuts are  sensible and rational , adding: Every agency and department will be driven to achieve greater efficiency and to eliminate wasteful spending in carrying out their honorable service to the American people. It s worth noting that the document is only a  blueprint , laying out the president s priorities for the 2018 fiscal year. The full federal budget will be released later this Spring and must first pass through Congress for approval. In the meantime, it s worth looking at which research programmes the new administration has in its sights and the consequences of the proposed cuts for climate science.The president s proposed budget allocates $19.1bn for the US National Aeronautics and Space Administration (NASA), representing a 0.8% cut from current levels.In a statement on Thursday, NASA s acting administrator Robert Lightfoot called this a  positive budget overall for NASA  that was  in line with our funding in recent years  and which is sufficient to enable NASA to  effectively execute our core mission for the nation .However, keeping an overall headline figure belies major changes to the agency s priorities.The budget proposes cutting NASA s Earth science budget by $102m to $1.8bn, with four Earth science missions scrapped completely; DSCOVR, OCO-3, PACE and CLARREO Pathfinder.The Deep Space Climate Observatory (DSCOVR) is an active satellite, launched in 2015 as a joint project between NASA, NOAA and the US Air Force. It collects data on Earth s atmosphere to generate space weather alerts and forecasts. More relevant to climate science, DSCOVR carries two Earth-observing instruments. It s for these that the budget proposes to terminate funding. The Earth Polychromatic Imaging Camera (EPIC) captures the motion of clouds and aerosols. In the video below, you can see EPIC s lead scientist, Jay Herman, explaining why this is important for studying climate change. He says: Around two-thirds of the Earth is covered by clouds Changes in cloud cover affect the heat balance and how warm the Earth becomes. The DSCOVR satellite also houses the National Institute of Standards and Technology Advanced Radiometer (NISTAR) instrument, which measures the reflectivity   or albedo   of Earth. As DSCOVR s programme manager, Michael Simpson, describes it: Also looking back at Earth is the National Institute of Standards & Technology s Advanced Radiometer. It studies Earth s radiation budget, how much radiation is reflected back off the Earth. That is a key component to a lot of climate studies. The second NASA programme potentially facing the scrap heap under the proposed budget is the Orbiting Carbon Observatory 3 (OCO-3) This is the successor to OCO-2, an instrument that is currently circling Earth s poles, making very precise measurements of atmospheric CO2.Carbon Brief spoke to the NASA scientists in charge of OCO-2 recently about their  eye popping  3-D visualisation of the first full year of data. Dr Lesley Ott, a carbon cycle scientist at Goddard s Global Modeling and Assimilation Office, explained why the mission is important: The main goal of OCO-2 and most carbon cycle modelling is to better understand the processes that control carbon sources and sinks from there we can improve climate models to better predict changes in the natural carbon cycle. The third NASA programme potentially in the firing line for funding cuts is the Plankton, Aerosol, Cloud, ocean Ecosystem (PACE) mission. Planned for launch in 2022-2023, the mission will provide information on aerosol and clouds, as well as monitoring ocean biodiversity.Finally, funding may also be pulled for the preliminary stage of the Climate Absolute Radiance and Refractivity Observatory (CLARREO) programme. Hosted on the International Space Station, the CLARREO Pathfinder mission is intended to test techniques used to monitor and attribute climate change. A 2013 paper by some of the developers describing the purpose of the full-scale project says: With its unprecedented accuracy, [CLARREO] shortens the time to detect the magnitude of climate change at the high confidence level that decision makers need. With the planned launch for CLARREO already pushed back from the original date of 2018-20, the paper aptly notes: While this is unfortunate, space missions are often delayed because of cost overruns of earlier missions or changes in NASA budget plans. The new budget blueprint also says it will  eliminate  NASA s $115m Office of Education and reduce   but not terminate   funding for NASA s Earth science research grants. No further details are given on these points, other than to say the Office for Education has  experienced significant challenges  and is  duplicative of other parts of the agency .Overall, the proposed budget would reduce the budget for the Department of Commerce   the bureau that houses the National Oceanic and Atmospheric Administration (NOAA)   by 16%. The new administration would, however,  maintain development  of NOAA s Joint Polar Satellite System (JPSS). These are polar-orbiting satellites that provide continuous observations of Earth s oceans, clouds, ozone, snow, ice, vegetation and atmosphere. As an FAQ on the JPSS website explains: Without NOAA s JPSS satellites on-orbit, the lost data would lead to less accurate and timely NOAA s National Weather Service numerical weather prediction models that are needed to support weather forecasting. But while the three JPSS satellites that make up the  current generation  are seemingly safe, the proposed budget cuts funding to the  Polar Follow On  satellite project. This part of the programme, approved in the appropriations bill for fiscal year of 2016, allows for two further satellites to provide polar coverage through the 2030s. The proposed budget suggests the savings will be achieved by  better reflecting the actual risk of a gap in polar satellite coverage . There is no specific mention in the proposed budget of NOAA s Oceanic and Atmospheric Research (OAR) programme, which last week was reportedly facing a cut of 26%. Prof Kevin Trenbeth,  a senior scientist at the US National Center for Atmospheric Research,  told Carbon Brief last week that he was concerned about what this could mean for ocean observations, since the money for the global ARGO network of ocean-monitoring buoys comes out of that budget. He said: If NOAA cuts back so do others   and it all goes downhill ARGO is still a research enterprise, not an operational one.  It is vulnerable.  Such a cutback would be a travesty. The new president s proposed budget also  zeroes out  over $250m in NOAA grants and programs that support  coastal and marine management, research, and education , deeming them lower priority than other  core functions  that the budget maintains, such as  surveys, charting, and fisheries management .As part of an overall 28% cut to the State Department and USAID funding, the budget blueprint says it intends to  eliminate  the Global Climate Change Initiative, an Obama-era programme to integrate climate change considerations into US foreign assistance. The new administration also proposes to cease payments to the United Nations Green Climate Fund, which supports low-carbon projects in developing countries, and to reduce funding for development banks, such as the World Bank, by approximately $650m over three years.The Environmental Protection Agency (EPA) is one of the biggest losers from the proposed budget, in line for a cut of $2.6bn, or 31% from current funding levels.As rumoured, the new administration proposes discontinuing funding for the Clean Power Plan, as well as  international climate change programs, climate change research and partnership programs, and related efforts . Energy Star   an initiative to promote energy efficiency   is one of more than 50  lower priority and poorly performing  programmes also facing the chop.The proposed budget will be submitted to Congress as a series of  annual appropriations bills , explains BBC News. With each needing 60 votes in the Senate to succeed, the piece reads: At least eight Democrats would have to vote for the cuts or at least refuse to obstruct it. Given the level of Democratic animosity towards Mr Trump, those possibilities look slim. It s a long road and much of the impact of budgetary changes on climate research remains to be seen. But the new blueprint is valuable in outlining the new administration s priorities.",
        "96": "This vacancy is now closed.This is an exciting opportunity to become Carbon Brief s new science journalist, helping us to analyse and report climate change and society s response to it.Working closely with the Science Editor and the rest of the team, you ll report on the latest scientific developments relevant to climate change. This could range from disentangling claims in the media about heatwaves and climate change, to summarising the latest study on Arctic sea ice loss, or working with our multimedia journalist on an infographic about wildfires.Carbon Brief s award-winning science coverage, data journalism and analysis is respected by scientists, journalists and policymakers around the world. You ll be comfortable conveying the point of a story while representing the subtleties of scientific information in a clear and engaging way. With a strong grounding in science, you ll be meticulous about accuracy and fact-checking. EssentialDesirableLocation: Carbon Brief s office is in central London. Ideally, this role will be office based, but flexible/remote working is a possible option, depending on the successful candidate s circumstances/location. You may be expected to undertake some travel as part of your work.Reporting to: The director.Hours/Duration: This is a permanent full-time contract, subject to a six-month review period.Salary: Competitive; dependent on skills and experience.To apply, please send:To: [email protected]. Please state  Science journalist application   Carbon Brief  in the email subject header.Applications must be submitted by 9am on Monday, 21 September 2020. Interviews will be held on Monday, 28 September and Tuesday, 29 September.Typically, Carbon Brief only considers candidates who have the right to work permanently in the United Kingdom. However, for a truly exceptional candidate, we might consider an alternative (non-sponsored) remote-working arrangement.We are committed to the principles of equal opportunity in our employment practices. We do not discriminate on the basis of race, religion, colour, national origin, gender, sexual orientation, age, marital status or disability status. We will seek to ensure that individuals are recruited, selected, trained and promoted on the basis of their aptitude, skills and abilities.Carbon Brief is a UK-based website covering the latest developments in climate science, climate policy and energy policy. We specialise in clear, data-driven articles and graphics to help improve the understanding of climate change, both in terms of the science and the policy response. We publish a wide range of content, including science explainers, interviews, analysis and factchecks, as well as daily and weekly email summaries of newspaper and online coverage."
       }
      ],
      "text/plain": [
       "<IPython.core.display.JSON object>"
      ]
     },
     "execution_count": 34,
     "metadata": {
      "application/json": {
       "expanded": false,
       "root": "root"
      }
     },
     "output_type": "execute_result"
    }
   ],
   "source": [
    "articles = {}\n",
    "\n",
    "for idx, article_url in track(s_science_article_urls.items(), total=s_science_article_urls.shape[0]):\n",
    "    article_text = article_url_to_text(article_url)\n",
    "    articles[idx] = article_text\n",
    "    \n",
    "JSON([articles])"
   ]
  }
 ],
 "metadata": {
  "kernelspec": {
   "display_name": "EnergyNews",
   "language": "python",
   "name": "energynews"
  },
  "language_info": {
   "codemirror_mode": {
    "name": "ipython",
    "version": 3
   },
   "file_extension": ".py",
   "mimetype": "text/x-python",
   "name": "python",
   "nbconvert_exporter": "python",
   "pygments_lexer": "ipython3",
   "version": "3.7.8"
  }
 },
 "nbformat": 4,
 "nbformat_minor": 4
}
