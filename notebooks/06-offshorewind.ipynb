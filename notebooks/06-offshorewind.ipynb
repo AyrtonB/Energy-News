{
 "cells": [
  {
   "cell_type": "markdown",
   "metadata": {},
   "source": [
    "# reNews\n",
    "\n",
    "<br>\n",
    "\n",
    "### Imports"
   ]
  },
  {
   "cell_type": "code",
   "execution_count": 1,
   "metadata": {},
   "outputs": [],
   "source": [
    "import pandas as pd\n",
    "\n",
    "import requests\n",
    "import xmltodict\n",
    "from bs4 import BeautifulSoup\n",
    "\n",
    "from IPython.core.display import JSON"
   ]
  },
  {
   "cell_type": "code",
   "execution_count": null,
   "metadata": {},
   "outputs": [],
   "source": []
  },
  {
   "cell_type": "code",
   "execution_count": 3,
   "metadata": {},
   "outputs": [
    {
     "name": "stdout",
     "output_type": "stream",
     "text": [
      "Wall time: 136 ms\n"
     ]
    },
    {
     "data": {
      "application/json": [
       {
        "article_url": "https://www.offshorewind.biz/2020/11/17/fred-olsen-and-hafslund-eco-come-together-for-norways-offshore-wind/",
        "category": "Featured, Headlines, Press releases, Regional news, Fred. Olsen Renewables, Hafslund Eco, Norway, Sørlige Nordsjø, Utsira Nord",
        "date": "2020-11-17 10:06",
        "dc:creator": "Nadja Skopljak",
        "guid": {
         "#text": "https://www.offshorewind.biz/?p=100192575",
         "@isPermaLink": "false"
        },
        "image_medium": "https://cdn.offshorewind.biz/wp-content/uploads/sites/2/2020/11/17105555/Fred.-Olsen-and-Hafslund-Eco-Come-Together-for-Norways-Offshore-Wind.jpg",
        "image_url": "https://cdn.offshorewind.biz/wp-content/uploads/sites/2/2020/11/17105555/Fred.-Olsen-and-Hafslund-Eco-Come-Together-for-Norways-Offshore-Wind-100x70.jpg",
        "is_in_depth": "false",
        "is_premium": "false",
        "lead": "Fred. Olsen Renewables (FORAS) and Hafslund Eco have entered into an agreement to collaborate [&#8230;]",
        "title": "Fred. Olsen and Hafslund Eco Come Together for Norway’s Offshore Wind"
       },
       {
        "article_url": "https://www.offshorewind.biz/2020/11/17/energinet-picks-eolos-flidar-for-hesselo-wind-farm/",
        "category": "Featured, Headlines, Energinet, EOLOS Floating Lidar Solutions, Floating LiDAR, Hesselø",
        "date": "2020-11-17 09:34",
        "dc:creator": "Adnan Durakovic",
        "guid": {
         "#text": "https://www.offshorewind.biz/?p=100192579",
         "@isPermaLink": "false"
        },
        "image_medium": "https://cdn.offshorewind.biz/wp-content/uploads/sites/2/2020/11/17103243/Energinet-Picks-EOLOS-FLiDAR-for-Hessel%C3%B8-Wind-Farm.png",
        "image_url": "https://cdn.offshorewind.biz/wp-content/uploads/sites/2/2020/11/17103243/Energinet-Picks-EOLOS-FLiDAR-for-Hessel%C3%B8-Wind-Farm.png",
        "is_in_depth": "false",
        "is_premium": "false",
        "lead": "Danish transmission system operator Energinet has selected EOLOS Floating Lidar Solutions SL to deploy [&#8230;]",
        "title": "Energinet Picks EOLOS FLiDAR for Hesselø Wind Farm"
       },
       {
        "article_url": "https://www.offshorewind.biz/2020/11/17/new-european-coalition-targets-more-sustainable-offshore-wind-development/",
        "category": "Featured, Headlines, Press releases, Regional news, Offshore Energy and Nature Coalition",
        "date": "2020-11-17 08:40",
        "dc:creator": "Nadja Skopljak",
        "guid": {
         "#text": "https://www.offshorewind.biz/?p=100192565",
         "@isPermaLink": "false"
        },
        "image_medium": "https://cdn.offshorewind.biz/wp-content/uploads/sites/2/2020/11/17092640/New-European-Coalition-Targets-More-Sustainable-Offshore-Wind-Development.jpg",
        "image_url": "https://cdn.offshorewind.biz/wp-content/uploads/sites/2/2020/11/17092640/New-European-Coalition-Targets-More-Sustainable-Offshore-Wind-Development-100x70.jpg",
        "is_in_depth": "false",
        "is_premium": "false",
        "lead": "Eighteen offshore wind companies, transmission system operators and environmental NGOs have launched a new [&#8230;]",
        "title": "New European Coalition Targets More Sustainable Offshore Wind Development"
       },
       {
        "article_url": "https://www.offshorewind.biz/2020/11/17/dogger-bank-adds-sif-and-smulders-to-tier-1-roster/",
        "category": "Featured, Headlines, Dogger Bank, Dogger Bank A & B, foundations, monopiles, Sif Netherlands B.V., Smulders Projects, Transition pieces",
        "date": "2020-11-17 08:10",
        "dc:creator": "Adnan Durakovic",
        "guid": {
         "#text": "https://www.offshorewind.biz/?p=100192564",
         "@isPermaLink": "false"
        },
        "image_medium": "https://cdn.offshorewind.biz/wp-content/uploads/sites/2/2020/11/17090403/Dogger-Bank-Completes-Tier-1-Roster.jpg",
        "image_url": "https://cdn.offshorewind.biz/wp-content/uploads/sites/2/2020/11/17090403/Dogger-Bank-Completes-Tier-1-Roster-100x70.jpg",
        "is_in_depth": "false",
        "is_premium": "false",
        "lead": "The consortium of Sif Netherlands and Smulders Projects Belgium will manufacture all the monopiles [&#8230;]",
        "title": "Dogger Bank Adds Sif and Smulders to Tier 1 Roster"
       },
       {
        "article_url": "https://www.offshorewind.biz/2020/11/16/euskalforging-to-deliver-flanges-for-hollandse-kust-zuid-1-4-foundations/",
        "category": "Featured, Headlines, Euskalforging, Flanges, Hollandse Kust Zuid",
        "date": "2020-11-16 15:25",
        "dc:creator": "Adrijana Buljan",
        "guid": {
         "#text": "https://www.offshorewind.biz/?p=100192545",
         "@isPermaLink": "false"
        },
        "image_medium": "https://cdn.offshorewind.biz/wp-content/uploads/sites/2/2020/11/16162351/gwynt-y-mor-euskalforging.jpg",
        "image_url": "https://cdn.offshorewind.biz/wp-content/uploads/sites/2/2020/11/16162351/gwynt-y-mor-euskalforging-100x70.jpg",
        "is_in_depth": "false",
        "is_premium": "false",
        "lead": "Euskalforging has been awarded a contract for foundation flanges for offshore wind farms at [&#8230;]",
        "title": "Euskalforging to Deliver Flanges for Hollandse Kust Zuid 1-4 Foundations"
       },
       {
        "article_url": "https://www.offshorewind.biz/2020/11/16/eu-to-set-2050-offshore-wind-target-at-300-gw/",
        "category": "Featured, Headlines, European Commission, Offshore Renewable Energy Strategy",
        "date": "2020-11-16 13:37",
        "dc:creator": "Adrijana Buljan",
        "guid": {
         "#text": "https://www.offshorewind.biz/?p=100192528",
         "@isPermaLink": "false"
        },
        "image_medium": "https://cdn.offshorewind.biz/wp-content/uploads/sites/2/2020/07/09140741/EC-building.jpg",
        "image_url": "https://cdn.offshorewind.biz/wp-content/uploads/sites/2/2020/07/09140741/EC-building-100x70.jpg",
        "is_in_depth": "false",
        "is_premium": "false",
        "lead": "Rumour has it that the European Commission is considering a massive increase in installed [&#8230;]",
        "title": "EU to Set 2050 Offshore Wind Target at 300 GW?"
       },
       {
        "article_url": "https://www.offshorewind.biz/2020/11/16/north-sea-electricity-super-highway-project-kicks-off-in-uk/",
        "category": "Featured, Headlines, Eastern Link, National Grid, North Sea, ScottishPower, SSE, super-highway",
        "date": "2020-11-16 12:08",
        "dc:creator": "Adnan Durakovic",
        "guid": {
         "#text": "https://www.offshorewind.biz/?p=100192529",
         "@isPermaLink": "false"
        },
        "image_medium": "https://cdn.offshorewind.biz/wp-content/uploads/sites/2/2020/11/16130651/ScottishPower-Renewables.jpg",
        "image_url": "https://cdn.offshorewind.biz/wp-content/uploads/sites/2/2020/11/16130651/ScottishPower-Renewables.jpg",
        "is_in_depth": "false",
        "is_premium": "false",
        "lead": "SSE, National Grid, and ScottishPower have started work to develop a multi-billion pound underwater [&#8230;]",
        "title": "North Sea Electricity Super-Highway Project Kicks Off in UK"
       },
       {
        "article_url": "https://www.offshorewind.biz/2020/11/16/us-ny-congress-members-back-empire-winds-brooklyn-terminal-plans/",
        "category": "Featured, Headlines, Andrew Cuomo, Congress members, Empire Wind, New York, South Brooklyn Marine Terminal",
        "date": "2020-11-16 10:52",
        "dc:creator": "Adrijana Buljan",
        "guid": {
         "#text": "https://www.offshorewind.biz/?p=100192505",
         "@isPermaLink": "false"
        },
        "image_medium": "https://cdn.offshorewind.biz/wp-content/uploads/sites/2/2020/11/16115010/statoil-equinor-hywind-demo-outside-karmoy-.jpg",
        "image_url": "https://cdn.offshorewind.biz/wp-content/uploads/sites/2/2020/11/16115010/statoil-equinor-hywind-demo-outside-karmoy--100x70.jpg",
        "is_in_depth": "false",
        "is_premium": "false",
        "lead": "U.S. Congress members from New York State, Jerrold Nadler and Nydia M. Velázquez, have [&#8230;]",
        "title": "US: NY Congress Members Back Empire Wind’s Brooklyn Terminal Plans"
       },
       {
        "article_url": "https://www.offshorewind.biz/2020/11/16/online-session-careers-in-offshore-wind-powered-by-navingo-career/",
        "category": "Featured, Headlines, Careers in Offshore Wind, Navingo Career",
        "date": "2020-11-16 10:00",
        "dc:creator": "Adnan Durakovic",
        "guid": {
         "#text": "https://www.offshorewind.biz/?p=100192507",
         "@isPermaLink": "false"
        },
        "image_medium": "https://cdn.offshorewind.biz/wp-content/uploads/sites/2/2020/11/16103247/03.-Offshore-WIND-Event-1536x1024-1.jpg",
        "image_url": "https://cdn.offshorewind.biz/wp-content/uploads/sites/2/2020/11/16103247/03.-Offshore-WIND-Event-1536x1024-1-100x70.jpg",
        "is_in_depth": "false",
        "is_premium": "false",
        "lead": "On 10 December 2020, the online session ‘Careers in Offshore Wind – Powered by [&#8230;]",
        "title": "Online session ‘Careers in Offshore Wind’- Powered by Navingo Career"
       },
       {
        "article_url": "https://www.offshorewind.biz/2020/11/16/fugro-and-nyk-group-jointly-target-japanese-offshore-wind-market/",
        "category": "Featured, Headlines, Fugro, geotechnical services, Japan, NYK, NYK Group",
        "date": "2020-11-16 09:01",
        "dc:creator": "Adnan Durakovic",
        "guid": {
         "#text": "https://www.offshorewind.biz/?p=100192492",
         "@isPermaLink": "false"
        },
        "image_medium": "https://cdn.offshorewind.biz/wp-content/uploads/sites/2/2020/04/30110917/Fugro_Brasilis.png",
        "image_url": "https://cdn.offshorewind.biz/wp-content/uploads/sites/2/2020/04/30110917/Fugro_Brasilis.png",
        "is_in_depth": "false",
        "is_premium": "false",
        "lead": "Fugro and the Tokyo-based transportation company, NYK Group, have signed a Memorandum of Understanding [&#8230;]",
        "title": "Fugro and NYK Group Jointly Target Japanese Offshore Wind Market"
       }
      ],
      "text/plain": [
       "<IPython.core.display.JSON object>"
      ]
     },
     "execution_count": 3,
     "metadata": {
      "application/json": {
       "expanded": false,
       "root": "root"
      }
     },
     "output_type": "execute_result"
    }
   ],
   "source": [
    "def retrieve_all_current_articles():\n",
    "    rss_url = 'https://www.offshorewind.biz/feed/'\n",
    "\n",
    "    r = requests.get(rss_url)\n",
    "    xml = xmltodict.parse(r.content)\n",
    "\n",
    "    articles = list(pd\n",
    "                    .DataFrame(xml['rss']['channel']['item'])\n",
    "                    .pipe(lambda df: df.assign(category=df['category'].str.join(', ')))\n",
    "                    .pipe(lambda df: df.assign(pubDate=pd.to_datetime(df['pubDate']).dt.strftime('%Y-%m-%d %H:%M')))\n",
    "                    .rename(columns={\n",
    "                        'link': 'article_url',\n",
    "                        'description': 'lead',\n",
    "                        'image': 'image_url',\n",
    "                        'pubDate': 'date',\n",
    "                    })\n",
    "                    .T\n",
    "                    .to_dict()\n",
    "                    .values()\n",
    "                   )\n",
    "    \n",
    "    return articles\n",
    "\n",
    "articles = retrieve_all_current_articles()\n",
    "\n",
    "JSON(articles)"
   ]
  },
  {
   "cell_type": "code",
   "execution_count": null,
   "metadata": {},
   "outputs": [],
   "source": []
  }
 ],
 "metadata": {
  "kernelspec": {
   "display_name": "EnergyNews",
   "language": "python",
   "name": "energynews"
  },
  "language_info": {
   "codemirror_mode": {
    "name": "ipython",
    "version": 3
   },
   "file_extension": ".py",
   "mimetype": "text/x-python",
   "name": "python",
   "nbconvert_exporter": "python",
   "pygments_lexer": "ipython3",
   "version": "3.7.8"
  }
 },
 "nbformat": 4,
 "nbformat_minor": 4
}
