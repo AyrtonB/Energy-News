{
 "cells": [
  {
   "cell_type": "markdown",
   "metadata": {},
   "source": [
    "# Financial Times\n",
    "\n",
    "<br>\n",
    "\n",
    "*** Need to find a way to retrieve the images - might be easier to scrape HTML index rather than RSS then scrape individual pages ***\n",
    "\n",
    "<br>\n",
    "\n",
    "### Imports"
   ]
  },
  {
   "cell_type": "code",
   "execution_count": 1,
   "metadata": {},
   "outputs": [],
   "source": [
    "import pandas as pd\n",
    "\n",
    "import requests\n",
    "import xmltodict\n",
    "from bs4 import BeautifulSoup\n",
    "\n",
    "from IPython.core.display import JSON"
   ]
  },
  {
   "cell_type": "code",
   "execution_count": null,
   "metadata": {},
   "outputs": [],
   "source": []
  },
  {
   "cell_type": "code",
   "execution_count": 4,
   "metadata": {},
   "outputs": [
    {
     "data": {
      "application/json": [
       {
        "article_url": "https://www.ft.com/content/f51b9963-d592-45fd-a903-6ef2e020704b",
        "date": "2020-11-18 10:00",
        "lead": "Latest commodity trader to cut back on intermediaries as sector faces scrutiny from regulators",
        "title": "Gunvor to end use of agents to win business"
       },
       {
        "article_url": "https://www.ft.com/content/91ad24ec-87f7-4228-99a5-cc99e78adbaa",
        "date": "2020-11-18 06:02",
        "lead": "Japanese group plans to set up its first plant in Norway with Equinor and Norsk Hydro",
        "title": "Tesla supplier Panasonic to make big battery bet in Europe"
       },
       {
        "article_url": "https://www.ft.com/content/210a0fea-1cd8-4d5f-b060-5d2f64ce53a2",
        "date": "2020-11-18 05:00",
        "lead": "Sector battling for relevance is ill-equipped to deal with societal concerns",
        "title": "Mining company boards need shaking up"
       },
       {
        "article_url": "https://www.ft.com/content/6c112691-fa2f-491a-85b2-b03fc2e38a30",
        "date": "2020-11-17 22:33",
        "lead": "We will use Britain’s powers of invention to repair the pandemic’s damage and fight climate change",
        "title": "Boris Johnson: Now is the time to plan our green recovery"
       },
       {
        "article_url": "https://www.ft.com/content/3eda6c6f-265f-4804-a017-a260d1e101cc",
        "date": "2020-11-17 22:29",
        "lead": "PM brushes off fears that £12bn package and environmental focus will pose threat to new Tory ‘red wall’ seats",
        "title": "Johnson seeks Downing St reset with ‘green industrial revolution’"
       },
       {
        "article_url": "https://www.ft.com/content/d70ea52c-5dc6-4bf5-8305-fffc82fdb67e",
        "date": "2020-11-17 18:03",
        "lead": "Anglo-Dutch oil major received rebate in 2019 even as it paid out $7.8bn to other governments",
        "title": "Shell reveals latest year without paying UK corporation tax"
       },
       {
        "article_url": "https://www.ft.com/content/a588a3fd-bbe9-4063-bbea-c97eaa39c08b",
        "date": "2020-11-17 14:20",
        "lead": "Sanctions-hit Israeli tycoon offers ‘partnership’ with DRC citizens as he reveals 2017 royalty stream purchase",
        "title": "Dan Gertler seeks to head off criticism of latest Congo mining deal"
       },
       {
        "article_url": "https://www.ft.com/content/223ca30c-71c4-42d9-8068-1fd8d5759d1a",
        "date": "2020-11-17 11:00",
        "lead": "Without a Senate majority, or even with a narrow one, Democrats will need to use a full toolbox to enact energy reform",
        "title": "John Podesta: Democrats will have to ‘pick their shots’ on energy"
       },
       {
        "article_url": "https://www.ft.com/content/f81763ae-93a1-4f0b-a35f-3ef0812f6354",
        "date": "2020-11-17 04:00",
        "lead": "Independent producer sees opportunity to expand as majors pivot to renewables",
        "title": "Jadestone vows to be ‘last man standing’ in oil and gas production"
       },
       {
        "article_url": "https://www.ft.com/content/0c8d3e67-fb6c-4a74-b941-2fa8697d751c",
        "date": "2020-11-16 14:52",
        "lead": "Boris Johnson set to lay out plans for a ‘green industrial revolution’ to tackle climate change",
        "title": "UK prepares to make ‘big bet’ on hydrogen power"
       },
       {
        "article_url": "https://www.ft.com/content/4114eb9e-75dd-47c3-b6ca-a073f355ac9a",
        "date": "2020-11-16 12:09",
        "lead": "Africa-focused group says combined entity will become London’s biggest gold miner",
        "title": "Endeavour Gold targets FTSE 100 after $1.9bn Teranga deal"
       },
       {
        "article_url": "https://www.ft.com/content/23d9dac5-ff9c-47b7-8061-e92d9067b389",
        "date": "2020-11-16 09:54",
        "lead": "CFC aims to block offer from copper group’s chairman and Kazakh tycoon",
        "title": "Kaz investor seeks help to oppose £3bn buyout bid"
       },
       {
        "article_url": "https://www.ft.com/content/c10dcb3b-89cf-4fc4-a1b2-bd434f79258b",
        "date": "2020-11-16 08:51",
        "lead": "State oil group strengthens balance sheet and commits to maintaining $75bn dividend target even as profits drop",
        "title": "Saudi Aramco to sell billions of dollars in international bonds"
       },
       {
        "article_url": "https://www.ft.com/content/16ab61c8-5be7-4d62-8ef2-391163379191",
        "date": "2020-11-16 07:45",
        "lead": "Shares in world’s largest EV battery maker fall 4% on reliability concerns",
        "title": "LG Chem hit by GM recall of Bolt electric vehicles"
       },
       {
        "article_url": "https://www.ft.com/content/6e8c4a53-5c8b-416e-8d37-e59264c12450",
        "date": "2020-11-13 19:00",
        "lead": "Companies analysis from our sister publication",
        "title": "Investors Chronicle: Manolete Partners, WHSmith, Oxford Instruments"
       },
       {
        "article_url": "https://www.ft.com/content/33d41151-12dd-464b-9143-2eff5d634061",
        "date": "2020-11-13 14:35",
        "lead": "Bernard Looney retains a nose for the sulphurous black stuff despite greener policies",
        "title": "BP/Rosneft: a Russian pall"
       },
       {
        "article_url": "https://www.ft.com/content/e1127520-43f4-4324-9e08-59ac87648ca8",
        "date": "2020-11-13 14:34",
        "lead": "There is growing international realisation that acting decisively is an investment not a cost",
        "title": "Climate diplomacy is winning its fight against a zero-sum mindset"
       },
       {
        "article_url": "https://www.ft.com/content/971413c9-a086-46bf-b0f7-eca4ee8f7b5a",
        "date": "2020-11-13 09:44",
        "lead": "Deal aimed at accelerating supply for electric buses and energy storage",
        "title": "M&G to invest £150m in UK battery start-up Zenobe"
       },
       {
        "article_url": "https://www.ft.com/content/474706d6-1243-4f1e-b365-891d4c5d528b",
        "date": "2020-11-13 01:43",
        "lead": "Critics say his rise is symbolic of a system where too much power is in the hands of too few",
        "title": "‘Modi’s Rockefeller’: Gautam Adani and the concentration of power in India"
       },
       {
        "article_url": "https://www.ft.com/content/6f3e1e43-bae9-4094-aa43-2681541b2fd1",
        "date": "2020-11-12 21:13",
        "lead": "Paris plans to cut tariffs for early photovoltaic power projects it says generate ‘excessive profits’",
        "title": "French solar investors up in arms over threat to renege on contracts"
       },
       {
        "article_url": "https://www.ft.com/content/fa05073f-1cb6-4a8c-b80c-ef0e294c104c",
        "date": "2020-11-12 20:01",
        "lead": "Kyma Capital wants independent audit of natural resources arm of Agarwal group and says will take issues to regulators",
        "title": "Vedanta clashes with hedge fund over $1bn loans deal"
       },
       {
        "article_url": "https://www.ft.com/content/9367d51d-e32b-404d-a556-47be5b7d53e6",
        "date": "2020-11-12 12:33",
        "lead": "UK group awaits decisions on who should operate the network and what returns can be made",
        "title": "National Grid ‘open’ to relinquishing electricity system role"
       },
       {
        "article_url": "https://www.ft.com/content/b2da9366-fae7-4c24-8141-04d289e1bab7",
        "date": "2020-11-12 11:00",
        "lead": "Things are looking up for US liquefied natural gas exporters — for now",
        "title": "Good news: LNG exports and vaccines"
       },
       {
        "article_url": "https://www.ft.com/content/db1d7b39-2e19-45b5-aa8c-60d19338dbb7",
        "date": "2020-11-12 08:24",
        "lead": "Investors welcome move as conglomerate’s other subsidiaries vow to exit from fossil fuels",
        "title": "Samsung financial units pledge to halt coal investments"
       },
       {
        "article_url": "https://www.ft.com/content/b49d794f-030e-4229-b4b3-5a22650b526a",
        "date": "2020-11-11 16:53",
        "lead": "Two big minority shareholders to vote against chairman and tycoon’s effort to take group private",
        "title": "Kaz Minerals buyout faces investor opposition"
       }
      ],
      "text/plain": [
       "<IPython.core.display.JSON object>"
      ]
     },
     "execution_count": 4,
     "metadata": {
      "application/json": {
       "expanded": false,
       "root": "root"
      }
     },
     "output_type": "execute_result"
    }
   ],
   "source": [
    "def retrieve_all_current_articles():\n",
    "    rss_url = 'https://www.ft.com/companies/energy?format=rss'\n",
    "\n",
    "    r = requests.get(rss_url)\n",
    "    xml = xmltodict.parse(r.content)\n",
    "\n",
    "    articles = list(pd\n",
    "                    .DataFrame(xml['rss']['channel']['item'])\n",
    "                    .pipe(lambda df: df.assign(pubDate=pd.to_datetime(df['pubDate']).dt.strftime('%Y-%m-%d %H:%M')))\n",
    "                    .drop(columns=['guid'])\n",
    "                    .rename(columns={\n",
    "                        'link': 'article_url',\n",
    "                        'description': 'lead',\n",
    "                        'pubDate': 'date',\n",
    "                    })\n",
    "                    .T\n",
    "                    .to_dict()\n",
    "                    .values()\n",
    "                   )\n",
    "    \n",
    "    return articles\n",
    "\n",
    "articles = retrieve_all_current_articles()\n",
    "\n",
    "JSON(articles)"
   ]
  },
  {
   "cell_type": "code",
   "execution_count": null,
   "metadata": {},
   "outputs": [],
   "source": []
  }
 ],
 "metadata": {
  "kernelspec": {
   "display_name": "EnergyNews",
   "language": "python",
   "name": "energynews"
  },
  "language_info": {
   "codemirror_mode": {
    "name": "ipython",
    "version": 3
   },
   "file_extension": ".py",
   "mimetype": "text/x-python",
   "name": "python",
   "nbconvert_exporter": "python",
   "pygments_lexer": "ipython3",
   "version": "3.7.8"
  }
 },
 "nbformat": 4,
 "nbformat_minor": 4
}
