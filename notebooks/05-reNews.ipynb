{
 "cells": [
  {
   "cell_type": "markdown",
   "metadata": {},
   "source": [
    "# reNews\n",
    "\n",
    "<br>\n",
    "\n",
    "### Imports"
   ]
  },
  {
   "cell_type": "code",
   "execution_count": 10,
   "metadata": {},
   "outputs": [],
   "source": [
    "import pandas as pd\n",
    "\n",
    "import requests\n",
    "import xmltodict\n",
    "from bs4 import BeautifulSoup\n",
    "\n",
    "from IPython.core.display import JSON"
   ]
  },
  {
   "cell_type": "code",
   "execution_count": null,
   "metadata": {},
   "outputs": [],
   "source": []
  },
  {
   "cell_type": "code",
   "execution_count": 22,
   "metadata": {},
   "outputs": [
    {
     "name": "stdout",
     "output_type": "stream",
     "text": [
      "Wall time: 29.6 s\n"
     ]
    },
    {
     "data": {
      "application/json": [
       {
        "article_url": "https://renews.biz/64495/krieger-s-flak-link-exempt-from-eu-power-market-rules/",
        "category": "Offshore Wind, grid, Kriegers Flak, Energinet, 50Hertz",
        "date": "2020-11-17 09:50",
        "dc:creator": "Sara",
        "guid": "https://renews.biz/64495/krieger-s-flak-link-exempt-from-eu-power-market-rules/",
        "image_url": "https://renews.biz//media/24057/50-hertz-kriegers-flak.jpg?mode=crop&width=770&heightratio=0.6103896103896103896103896104&slimmage=true",
        "lead": "Krieger’s Flak link exempt from EU power market rules",
        "title": "Krieger’s Flak link exempt from EU power market rules"
       },
       {
        "article_url": "https://renews.biz/64493/enel-turns-sod-on-163mw-chile-solar/",
        "category": "Solar, Enel Green Power",
        "date": "2020-11-17 09:32",
        "dc:creator": "Sara",
        "guid": "https://renews.biz/64493/enel-turns-sod-on-163mw-chile-solar/",
        "image_url": "https://renews.biz//media/20654/el_paso_pv_colombia_credit_enel_green_power.jpg?mode=crop&width=770&heightratio=0.6103896103896103896103896104&slimmage=true",
        "lead": "Enel turns sod on 163MW Chile solar",
        "title": "Enel turns sod on 163MW Chile solar"
       },
       {
        "article_url": "https://renews.biz/64492/irish-project-fuses-offshore-wind-and-data-centre-grid/",
        "category": "Offshore Wind, SSE Renewables",
        "date": "2020-11-17 09:06",
        "dc:creator": "Sara",
        "guid": "https://renews.biz/64492/irish-project-fuses-offshore-wind-and-data-centre-grid/",
        "image_url": "https://renews.biz//media/23172/sse-renewables-beatrice.jpg?mode=crop&width=770&heightratio=0.6103896103896103896103896104&slimmage=true",
        "lead": "SSE Renewables signs Arklow grid agreement",
        "title": "SSE Renewables signs Arklow grid agreement"
       },
       {
        "article_url": "https://renews.biz/64491/sif-smulders-bag-dogger-bank-a-and-b-foundations-gig/",
        "category": "Offshore Wind, Dogger Bank, Sif, Smulders, SSE Renewables, Equinor",
        "date": "2020-11-17 08:43",
        "dc:creator": "Sara",
        "guid": "https://renews.biz/64491/sif-smulders-bag-dogger-bank-a-and-b-foundations-gig/",
        "image_url": "https://renews.biz//media/21425/sif-rotterdam-maasvlakte-2.jpg?mode=crop&width=770&heightratio=0.6103896103896103896103896104&slimmage=true",
        "lead": "Sif, Smulders bag Dogger Bank A and B foundations gig",
        "title": "Sif, Smulders bag Dogger Bank A and B foundations gig"
       },
       {
        "article_url": "https://renews.biz/64490/tennet-raises-green-bond-financing-to-10bn/",
        "category": "finance, Offshore Wind, TenneT",
        "date": "2020-11-17 08:23",
        "dc:creator": "Sara",
        "guid": "https://renews.biz/64490/tennet-raises-green-bond-financing-to-10bn/",
        "image_url": "https://renews.biz//media/23769/tennet.jpg?mode=crop&width=770&heightratio=0.6103896103896103896103896104&slimmage=true",
        "lead": "TenneT green bond financing hits €10bn",
        "title": "TenneT green bond financing hits €10bn"
       },
       {
        "article_url": "https://renews.biz/64486/new-coalition-targets-more-sustainable-offshore-wind/",
        "category": "Offshore Wind, Orsted, siemens gamesa, Vattenfall, TenneT, 50Hertz, Elia, RTE",
        "date": "2020-11-16 16:43",
        "dc:creator": "Robin Lancaster",
        "guid": "https://renews.biz/64486/new-coalition-targets-more-sustainable-offshore-wind/",
        "image_url": "https://renews.biz//media/23348/borssele-1-and-2-credit-orsted.jpeg?mode=crop&width=770&heightratio=0.6103896103896103896103896104&slimmage=true",
        "lead": "New group targets more sustainable offshore wind",
        "title": "New group targets more sustainable offshore wind"
       },
       {
        "article_url": "https://renews.biz/64485/cubico-and-cypress-creek-bask-in-162mw-texas-sun/",
        "category": "Solar, Texas, Cubico",
        "date": "2020-11-16 16:18",
        "dc:creator": "Robin Lancaster",
        "guid": "https://renews.biz/64485/cubico-and-cypress-creek-bask-in-162mw-texas-sun/",
        "image_url": "https://renews.biz//media/24053/credit_cypress_creek_renewables.jpeg?mode=crop&width=770&heightratio=0.6103896103896103896103896104&slimmage=true",
        "lead": "Cubico and Cypress Creek bask in 162MW Texas sun",
        "title": "Cubico and Cypress Creek bask in 162MW Texas sun"
       },
       {
        "article_url": "https://renews.biz/64483/res-secures-asset-management-certification/",
        "category": "Other news, RES",
        "date": "2020-11-16 16:03",
        "dc:creator": "Robin Lancaster",
        "guid": "https://renews.biz/64483/res-secures-asset-management-certification/",
        "image_url": "https://renews.biz//media/24052/credit_res.jpeg?mode=crop&width=770&heightratio=0.6103896103896103896103896104&slimmage=true",
        "lead": "RES secures asset management certification",
        "title": "RES secures asset management certification"
       },
       {
        "article_url": "https://renews.biz/64481/greenbacker-acquires-80mw-south-dakota-solar/",
        "category": "solar, South Dakota",
        "date": "2020-11-16 15:30",
        "dc:creator": "Robin Lancaster",
        "guid": "https://renews.biz/64481/greenbacker-acquires-80mw-south-dakota-solar/",
        "image_url": "https://renews.biz//media/24051/credit_greenbacker.jpeg?mode=crop&width=770&heightratio=0.6103896103896103896103896104&slimmage=true",
        "lead": "Greenbacker acquires 80MW South Dakota solar",
        "title": "Greenbacker acquires 80MW South Dakota solar"
       },
       {
        "article_url": "https://renews.biz/64475/us-contractor-sets-up-wind-services-arm/",
        "category": "Onshore Wind, Infrastructure and Energy Alternatives",
        "date": "2020-11-16 14:46",
        "dc:creator": "Robin Lancaster",
        "guid": "https://renews.biz/64475/us-contractor-sets-up-wind-services-arm/",
        "image_url": "https://renews.biz//media/22010/credit_infrastructure_and_energy_alternatives.jpg?mode=crop&width=770&heightratio=0.6103896103896103896103896104&slimmage=true",
        "lead": "US contractor sets up wind services arm",
        "title": "US contractor sets up wind services arm"
       },
       {
        "article_url": "https://renews.biz/64474/siemens-energy-to-build-afghan-energy-hub/",
        "category": "Other news, Siemens Energy",
        "date": "2020-11-16 14:19",
        "dc:creator": "Robin Lancaster",
        "guid": "https://renews.biz/64474/siemens-energy-to-build-afghan-energy-hub/",
        "image_url": "https://renews.biz//media/24049/siemens_energy_afghan_energy_hub_credit_siemens_energy.jpeg?mode=crop&width=770&heightratio=0.6103896103896103896103896104&slimmage=true",
        "lead": "Siemens Energy to build Afghan energy hub",
        "title": "Siemens Energy to build Afghan energy hub"
       },
       {
        "article_url": "https://renews.biz/64472/baywa-to-toast-134mw-north-carolina-pv-success/",
        "category": "Solar, BayWa, North Carolina",
        "date": "2020-11-16 12:37",
        "dc:creator": "Robin Lancaster",
        "guid": "https://renews.biz/64472/baywa-to-toast-134mw-north-carolina-pv-success/",
        "image_url": "https://renews.biz//media/24048/fern_solar_project_north_carolina_credit_baywa.jpeg?mode=crop&width=770&heightratio=0.6103896103896103896103896104&slimmage=true",
        "lead": "BayWa to toast 134MW North Carolina PV success",
        "title": "BayWa to toast 134MW North Carolina PV success"
       },
       {
        "article_url": "https://renews.biz/64470/new-climate-fund-targets-equity-stakes/",
        "category": "O, t, h, e, r,  , n, e, w, s",
        "date": "2020-11-16 12:15",
        "dc:creator": "Robin Lancaster",
        "guid": "https://renews.biz/64470/new-climate-fund-targets-equity-stakes/",
        "image_url": "https://renews.biz//media/23121/dutch_danish_energy_cooperation_credit_unsplash.jpeg?mode=crop&width=770&heightratio=0.6103896103896103896103896104&slimmage=true",
        "lead": "New climate fund targets equity stakes",
        "title": "New climate fund targets equity stakes"
       },
       {
        "article_url": "https://renews.biz/64469/consultancies-study-north-sea-offshore-integration/",
        "category": "O, f, f, s, h, o, r, e,  , W, i, n, d",
        "date": "2020-11-16 11:59",
        "dc:creator": "Robin Lancaster",
        "guid": "https://renews.biz/64469/consultancies-study-north-sea-offshore-integration/",
        "image_url": "https://renews.biz//media/15345/tennet-island.jpg?mode=crop&width=770&heightratio=0.6103896103896103896103896104&slimmage=true",
        "lead": "Consultancies study North Sea offshore integration",
        "title": "Consultancies study North Sea offshore integration"
       },
       {
        "article_url": "https://renews.biz/64466/lekela-wraps-up-140mw-kangnas-in-south-africa/",
        "category": "Onshore Wind, Lekela",
        "date": "2020-11-16 11:29",
        "dc:creator": "Robin Lancaster",
        "guid": "https://renews.biz/64466/lekela-wraps-up-140mw-kangnas-in-south-africa/",
        "image_url": "https://renews.biz//media/24047/kangnas_windfarm_south_africa_credit_lekela.jpeg?mode=crop&width=770&heightratio=0.6103896103896103896103896104&slimmage=true",
        "lead": "Lekela wraps up 140MW Kangnas in South Africa",
        "title": "Lekela wraps up 140MW Kangnas in South Africa"
       },
       {
        "article_url": "https://renews.biz/64464/cip-invests-in-1gw-spanish-onshore-portfolio/",
        "category": "Onshore Wind, Copenhagen Infrastructure Partners",
        "date": "2020-11-16 11:10",
        "dc:creator": "Robin Lancaster",
        "guid": "https://renews.biz/64464/cip-invests-in-1gw-spanish-onshore-portfolio/",
        "image_url": "https://renews.biz//media/22426/forestalia_turbines_credit_forestalia.jpeg?mode=crop&width=770&heightratio=0.6103896103896103896103896104&slimmage=true",
        "lead": "CIP invests in 1GW Spanish onshore portfolio",
        "title": "CIP invests in 1GW Spanish onshore portfolio"
       },
       {
        "article_url": "https://renews.biz/64463/uk-trio-unite-on-east-coast-energy-super-highway/",
        "category": "Grid, SSE, ScottishPower, National Grid ESO, Eastern Link",
        "date": "2020-11-16 10:47",
        "dc:creator": "Robin Lancaster",
        "guid": "https://renews.biz/64463/uk-trio-unite-on-east-coast-energy-super-highway/",
        "image_url": "https://renews.biz//media/24046/beatrice_owf_credit_sse.jpeg?mode=crop&width=770&heightratio=0.6103896103896103896103896104&slimmage=true",
        "lead": "UK trio unite on east coast energy &#39;super-highway&#39;",
        "title": "UK trio unite on east coast energy 'super-highway'"
       },
       {
        "article_url": "https://renews.biz/64461/encavis-experiences-mixed-fortunes-in-2020/",
        "category": "finance, onshore wind, solar",
        "date": "2020-11-16 10:17",
        "dc:creator": "Robin Lancaster",
        "guid": "https://renews.biz/64461/encavis-experiences-mixed-fortunes-in-2020/",
        "image_url": "https://renews.biz//media/23120/csm_windraeder_2_f1047ed2dc-encavis.jpg?mode=crop&width=770&heightratio=0.6103896103896103896103896104&slimmage=true",
        "lead": "Encavis experiences mixed fortunes in 2020",
        "title": "Encavis experiences mixed fortunes in 2020"
       },
       {
        "article_url": "https://renews.biz/64460/edf-completes-burnfoot-east-in-scotland/",
        "category": "Onshore Wind, EDF Renewables, Tesco",
        "date": "2020-11-16 10:11",
        "dc:creator": "Nick Dowson",
        "guid": "https://renews.biz/64460/edf-completes-burnfoot-east-in-scotland/",
        "image_url": "https://renews.biz//media/24045/edf-burnfoot-east-credit-edf.jpg?mode=crop&width=770&heightratio=0.6103896103896103896103896104&slimmage=true",
        "lead": "EDF completes Burnfoot East in Scotland",
        "title": "EDF completes Burnfoot East in Scotland"
       },
       {
        "article_url": "https://renews.biz/64458/corpower-cleared-for-portuguese-wave-demo/",
        "category": "Wave and Tidal, CorPower",
        "date": "2020-11-16 09:53",
        "dc:creator": "Robin Lancaster",
        "guid": "https://renews.biz/64458/corpower-cleared-for-portuguese-wave-demo/",
        "image_url": "https://renews.biz//media/24044/impression_of_hiwave_demo_credit_corpower_ocean.jpeg?mode=crop&width=770&heightratio=0.6103896103896103896103896104&slimmage=true",
        "lead": "CorPower cleared for Portuguese wave demo",
        "title": "CorPower cleared for Portuguese wave demo"
       },
       {
        "article_url": "https://renews.biz/64455/rcg-forms-nordic-clean-power-jv/",
        "category": "Other news, Renewables Consulting Group",
        "date": "2020-11-16 09:18",
        "dc:creator": "Robin Lancaster",
        "guid": "https://renews.biz/64455/rcg-forms-nordic-clean-power-jv/",
        "image_url": "https://renews.biz//media/24042/tor_inge_vevatne_credit_rcg_nordic.jpeg?mode=crop&width=770&heightratio=0.6103896103896103896103896104&slimmage=true",
        "lead": "RCG forms Nordic clean power JV",
        "title": "RCG forms Nordic clean power JV"
       },
       {
        "article_url": "https://renews.biz/64451/edf-unveils-50mw-uk-solar-plans/",
        "category": "Solar, EDF Renewables",
        "date": "2020-11-16 08:59",
        "dc:creator": "Nick Dowson",
        "guid": "https://renews.biz/64451/edf-unveils-50mw-uk-solar-plans/",
        "image_url": "https://renews.biz//media/16238/edf-o-and-m-at-bolero-plant-in-chile-credit-edf-1.jpg?mode=crop&width=770&heightratio=0.6103896103896103896103896104&slimmage=true",
        "lead": "EDF unveils 50MW UK solar plans",
        "title": "EDF unveils 50MW UK solar plans"
       },
       {
        "article_url": "https://renews.biz/64450/fugro-and-nyk-agree-japanese-partnership/",
        "category": "Offshore Wind, Fugro, NYK",
        "date": "2020-11-16 08:50",
        "dc:creator": "Nick Dowson",
        "guid": "https://renews.biz/64450/fugro-and-nyk-agree-japanese-partnership/",
        "image_url": "https://renews.biz//media/19521/fugro-pioneer-credit-fugro.jpg?mode=crop&width=770&heightratio=0.6103896103896103896103896104&slimmage=true",
        "lead": "Fugro and NYK agree Japanese partnership",
        "title": "Fugro and NYK agree Japanese partnership"
       },
       {
        "article_url": "https://renews.biz/64449/uk-government-explores-space-based-solar/",
        "category": "Solar, UK government, reMIX",
        "date": "2020-11-16 08:29",
        "dc:creator": "Nick Dowson",
        "guid": "https://renews.biz/64449/uk-government-explores-space-based-solar/",
        "image_url": "https://renews.biz//media/24041/satellite-67718_1280-credit-wikiimages-pixabay.jpg?mode=crop&width=770&heightratio=0.6103896103896103896103896104&slimmage=true",
        "lead": "UK government explores space-based solar",
        "title": "UK government explores space-based solar"
       },
       {
        "article_url": "https://renews.biz/64446/equinor-shakes-up-corporate-structure/",
        "category": "Offshore Wind, Equinor",
        "date": "2020-11-16 08:23",
        "dc:creator": "Nick Dowson",
        "guid": "https://renews.biz/64446/equinor-shakes-up-corporate-structure/",
        "image_url": "https://renews.biz//media/23424/anders-opedal-credit-equinor-ole-joergen-bratland.jpg?mode=crop&width=770&heightratio=0.6103896103896103896103896104&slimmage=true",
        "lead": "Equinor shakes up corporate structure",
        "title": "Equinor shakes up corporate structure"
       },
       {
        "article_url": "https://renews.biz/64441/date-set-for-moray-east-and-triton-knoll-ofto-tender/",
        "category": "Offshore Wind, Moray East, Triton Knoll",
        "date": "2020-11-13 15:53",
        "dc:creator": "Robin Lancaster",
        "guid": "https://renews.biz/64441/date-set-for-moray-east-and-triton-knoll-ofto-tender/",
        "image_url": "https://renews.biz//media/23207/one_of_the_triton_knoll_offshore_substations_credit_rwe.jpeg?mode=crop&width=770&heightratio=0.6103896103896103896103896104&slimmage=true",
        "lead": "Date set for Moray East and Triton Knoll OFTO tender",
        "title": "Date set for Moray East and Triton Knoll OFTO tender"
       },
       {
        "article_url": "https://renews.biz/64439/time-ticking-on-900mw-dublin-array-exhibition/",
        "category": "Offshore Wind, Dublin Array, RWE",
        "date": "2020-11-13 14:19",
        "dc:creator": "Robin Lancaster",
        "guid": "https://renews.biz/64439/time-ticking-on-900mw-dublin-array-exhibition/",
        "image_url": "https://renews.biz//media/17683/greater-gabbard-rwe2.jpg?mode=crop&width=770&heightratio=0.6103896103896103896103896104&slimmage=true",
        "lead": "Time ticking on 900MW Dublin Array exhibition",
        "title": "Time ticking on 900MW Dublin Array exhibition"
       },
       {
        "article_url": "https://renews.biz/64438/polish-utility-starts-onshore-probe-for-12gw-offshore/",
        "category": "Offshore Wind, PKN Orlen, Baltic Power",
        "date": "2020-11-13 13:56",
        "dc:creator": "Robin Lancaster",
        "guid": "https://renews.biz/64438/polish-utility-starts-onshore-probe-for-12gw-offshore/",
        "image_url": "https://renews.biz//media/24036/credit_pkn_orlen.jpeg?mode=crop&width=770&heightratio=0.6103896103896103896103896104&slimmage=true",
        "lead": "Polish utility starts onshore probe for 1.2GW offshore",
        "title": "Polish utility starts onshore probe for 1.2GW offshore"
       },
       {
        "article_url": "https://renews.biz/64436/sse-marubeni-cip-team-target-scotwind-bids/",
        "category": "Offshore Wind, ScotWind, SSE, Marubeni, Copenhagen Infrastructure Partners",
        "date": "2020-11-13 12:25",
        "dc:creator": "Robin Lancaster",
        "guid": "https://renews.biz/64436/sse-marubeni-cip-team-target-scotwind-bids/",
        "image_url": "https://renews.biz//media/20850/beatrice_credit_sse.jpg?mode=crop&width=770&heightratio=0.6103896103896103896103896104&slimmage=true",
        "lead": "SSE, Marubeni, CIP team targets ScotWind bids",
        "title": "SSE, Marubeni, CIP team targets ScotWind bids"
       },
       {
        "article_url": "https://renews.biz/64435/european-energy-partners-on-800mw-scots-onshore-drive/",
        "category": "Onshore Wind, European Energy",
        "date": "2020-11-13 12:02",
        "dc:creator": "Robin Lancaster",
        "guid": "https://renews.biz/64435/european-energy-partners-on-800mw-scots-onshore-drive/",
        "image_url": "https://renews.biz//media/22425/european_energy_roedby_credit_european_energy.jpeg?mode=crop&width=770&heightratio=0.6103896103896103896103896104&slimmage=true",
        "lead": "European Energy partners on 800MW Scots onshore drive",
        "title": "European Energy partners on 800MW Scots onshore drive"
       },
       {
        "article_url": "https://renews.biz/64430/wind-and-solar-raise-edf-clean-power-sales/",
        "category": "Other news, EDF",
        "date": "2020-11-13 10:44",
        "dc:creator": "Robin Lancaster",
        "guid": "https://renews.biz/64430/wind-and-solar-raise-edf-clean-power-sales/",
        "image_url": "https://renews.biz//media/23465/milligan_1_wind_project_usa_credit_edf_renewables.jpeg?mode=crop&width=770&heightratio=0.6103896103896103896103896104&slimmage=true",
        "lead": "Wind and solar raise EDF clean power sales",
        "title": "Wind and solar raise EDF clean power sales"
       },
       {
        "article_url": "https://renews.biz/64427/dutch-consultancy-supports-north-falls-planning-bid/",
        "category": "Offshore Wind, North Falls, SSE, RWE, Greater Gabbard",
        "date": "2020-11-13 10:09",
        "dc:creator": "Robin Lancaster",
        "guid": "https://renews.biz/64427/dutch-consultancy-supports-north-falls-planning-bid/",
        "image_url": "https://renews.biz//media/15911/greater-gabbard-offshore-sse.jpg?mode=crop&width=770&heightratio=0.6103896103896103896103896104&slimmage=true",
        "lead": "Consultancy supports North Falls planning bid",
        "title": "Consultancy supports North Falls planning bid"
       },
       {
        "article_url": "https://renews.biz/64425/cwp-seeks-approval-for-525mw-scottish-wind-giant/",
        "category": "Community Windpower, Onshore Wind, RJ McLeod",
        "date": "2020-11-13 09:47",
        "dc:creator": "Nick Dowson",
        "guid": "https://renews.biz/64425/cwp-seeks-approval-for-525mw-scottish-wind-giant/",
        "image_url": "https://renews.biz//media/24034/rj-mcleod-working-on-a-community-windpower-wind-farm-project-credit-community-windpower.jpg?mode=crop&width=770&heightratio=0.6103896103896103896103896104&slimmage=true",
        "lead": "CWP seeks approval for 525MW Scottish wind giant",
        "title": "CWP seeks approval for 525MW Scottish wind giant"
       },
       {
        "article_url": "https://renews.biz/64424/uk-blade-recycling-initiative-spins-into-action/",
        "category": "Offshore Wind, Onshore Wind",
        "date": "2020-11-13 09:32",
        "dc:creator": "Robin Lancaster",
        "guid": "https://renews.biz/64424/uk-blade-recycling-initiative-spins-into-action/",
        "image_url": "https://renews.biz//media/24016/ore-catapult.jpg?mode=crop&width=770&heightratio=0.6103896103896103896103896104&slimmage=true",
        "lead": "UK blade recycling initiative spins into action",
        "title": "UK blade recycling initiative spins into action"
       },
       {
        "article_url": "https://renews.biz/64423/enbw-renewables-soars-on-hohe-see-wave/",
        "category": "Offshore Wind, EnBW, Europe, Finance",
        "date": "2020-11-13 09:18",
        "dc:creator": "Stephen Dunne",
        "guid": "https://renews.biz/64423/enbw-renewables-soars-on-hohe-see-wave/",
        "image_url": "https://renews.biz//media/21573/albatros_credit_enbw.jpg?mode=crop&width=770&heightratio=0.6103896103896103896103896104&slimmage=true",
        "lead": "EnBW soars on Hohe See wave",
        "title": "EnBW soars on Hohe See wave"
       },
       {
        "article_url": "https://renews.biz/64422/vestas-secures-50mw-scottish-order/",
        "category": "Onshore Wind, Vestas, ERG",
        "date": "2020-11-13 09:00",
        "dc:creator": "Robin Lancaster",
        "guid": "https://renews.biz/64422/vestas-secures-50mw-scottish-order/",
        "image_url": "https://renews.biz//media/19231/vestas-v112-3mw-credit-vestas-1.jpg?mode=crop&width=770&heightratio=0.6103896103896103896103896104&slimmage=true",
        "lead": "Vestas secures 50MW Scottish order",
        "title": "Vestas secures 50MW Scottish order"
       },
       {
        "article_url": "https://renews.biz/64421/sse-all-ears-on-23gw-berwick-bank/",
        "category": "SSE, Offshore Wind, Berwick Bank",
        "date": "2020-11-13 08:50",
        "dc:creator": "Robin Lancaster",
        "guid": "https://renews.biz/64421/sse-all-ears-on-23gw-berwick-bank/",
        "image_url": "https://renews.biz//media/24033/beatrice_credit_sse.jpeg?mode=crop&width=770&heightratio=0.6103896103896103896103896104&slimmage=true",
        "lead": "SSE all ears on 2.3GW Berwick Bank",
        "title": "SSE all ears on 2.3GW Berwick Bank"
       },
       {
        "article_url": "https://renews.biz/64419/arizona-utility-secures-200mw-ppa/",
        "category": "Onshore Wind, Arizona, New Mexico",
        "date": "2020-11-13 08:35",
        "dc:creator": "Robin Lancaster",
        "guid": "https://renews.biz/64419/arizona-utility-secures-200mw-ppa/",
        "image_url": "https://renews.biz//media/24032/aragonne_wind_farm_new_mexico_credit_arizona_public_service.jpeg?mode=crop&width=770&heightratio=0.6103896103896103896103896104&slimmage=true",
        "lead": "Arizona utility secures 200MW PPA",
        "title": "Arizona utility secures 200MW PPA"
       },
       {
        "article_url": "https://renews.biz/64417/equinor-unveils-albany-tower-and-tp-plant-plan/",
        "category": "Offshore Wind, Equinor",
        "date": "2020-11-13 08:15",
        "dc:creator": "Robin Lancaster",
        "guid": "https://renews.biz/64417/equinor-unveils-albany-tower-and-tp-plant-plan/",
        "image_url": "https://renews.biz//media/24031/impression_port_of_albany_tower_tp_site_credit_equinor.jpeg?mode=crop&width=770&heightratio=0.6103896103896103896103896104&slimmage=true",
        "lead": "Equinor unveils US tower and TP plant plan",
        "title": "Equinor unveils US tower and TP plant plan"
       },
       {
        "article_url": "https://renews.biz/64412/north-east-port-cluster-bids-for-offshore-funds/",
        "category": "Offshore Wind, Port of Blyth, ORE Catapult",
        "date": "2020-11-12 15:39",
        "dc:creator": "Sara",
        "guid": "https://renews.biz/64412/north-east-port-cluster-bids-for-offshore-funds/",
        "image_url": "https://renews.biz//media/23903/port-of-blyth-bates-terminal.jpg?mode=crop&width=770&heightratio=0.6103896103896103896103896104&slimmage=true",
        "lead": "North-east UK port cluster bids for offshore funds",
        "title": "North-east UK port cluster bids for offshore funds"
       },
       {
        "article_url": "https://renews.biz/64410/oz-mining-giant-lifts-lid-on-235gw-renewables-ambition/",
        "category": "Other news, Fortescue",
        "date": "2020-11-12 14:53",
        "dc:creator": "Sara",
        "guid": "https://renews.biz/64410/oz-mining-giant-lifts-lid-on-235gw-renewables-ambition/",
        "image_url": "https://renews.biz//media/24030/alinta-energy.jpg?mode=crop&width=770&heightratio=0.6103896103896103896103896104&slimmage=true",
        "lead": "Oz mining giant lifts lid on 235GW renewables ambition",
        "title": "Oz mining giant lifts lid on 235GW renewables ambition"
       },
       {
        "article_url": "https://renews.biz/64407/haliade-x-12mw-wraps-up-certification/",
        "category": "Offshore Wind, GE, Haliade-X, Dogger Bank, Skipjack",
        "date": "2020-11-12 13:53",
        "dc:creator": "Sara",
        "guid": "https://renews.biz/64407/haliade-x-12mw-wraps-up-certification/",
        "image_url": "https://renews.biz//media/24029/ge-haliade-x.jpg?mode=crop&width=770&heightratio=0.6103896103896103896103896104&slimmage=true",
        "lead": "GE wraps up Haliade-X certification with DNV GL",
        "title": "GE wraps up Haliade-X certification with DNV GL"
       },
       {
        "article_url": "https://renews.biz/64403/uk-launches-green-jobs-taskforce/",
        "category": "Other news, UK government, national grid",
        "date": "2020-11-12 12:32",
        "dc:creator": "Sara",
        "guid": "https://renews.biz/64403/uk-launches-green-jobs-taskforce/",
        "image_url": "https://renews.biz//media/23233/kwarteng-resize.jpg?mode=crop&width=770&heightratio=0.6103896103896103896103896104&slimmage=true",
        "lead": "UK launches green jobs taskforce",
        "title": "UK launches green jobs taskforce"
       },
       {
        "article_url": "https://renews.biz/64402/banks-group-bolsters-renewables-team/",
        "category": "People, Banks Renewables",
        "date": "2020-11-12 12:13",
        "dc:creator": "Sara",
        "guid": "https://renews.biz/64402/banks-group-bolsters-renewables-team/",
        "image_url": "https://renews.biz//media/24027/banks-group.jpg?mode=crop&width=770&heightratio=0.6103896103896103896103896104&slimmage=true",
        "lead": "Banks Group bolsters renewables team",
        "title": "Banks Group bolsters renewables team"
       },
       {
        "article_url": "https://renews.biz/64400/siemens-gamesa-boosts-4mw-platform/",
        "category": "Onshore Wind, siemens gamesa",
        "date": "2020-11-12 11:53",
        "dc:creator": "Sara",
        "guid": "https://renews.biz/64400/siemens-gamesa-boosts-4mw-platform/",
        "image_url": "https://renews.biz//media/22059/siemens-gamesa-5x.jpg?mode=crop&width=770&heightratio=0.6103896103896103896103896104&slimmage=true",
        "lead": "Siemens Gamesa adds 4.7MW unit to 4.X platform",
        "title": "Siemens Gamesa adds 4.7MW unit to 4.X platform"
       },
       {
        "article_url": "https://renews.biz/64396/official-uk-poll-reveals-huge-public-support-for-renewables/",
        "category": "Other news, Solar, Offshore Wind, Onshore Wind, RenewableUK, BEIS",
        "date": "2020-11-12 10:33",
        "dc:creator": "Sara",
        "guid": "https://renews.biz/64396/official-uk-poll-reveals-huge-public-support-for-renewables/",
        "image_url": "https://renews.biz//media/18560/sheep-graze-at-solar-plant-in-devon-credit-lightsource.jpg?mode=crop&width=770&heightratio=0.6103896103896103896103896104&slimmage=true",
        "lead": "UK poll reveals huge public backing for renewables",
        "title": "UK poll reveals huge public backing for renewables"
       },
       {
        "article_url": "https://renews.biz/64395/abb-joins-remote-offshore-wind-maintenance-project/",
        "category": "Offshore Wind, ABB",
        "date": "2020-11-12 10:04",
        "dc:creator": "Sara",
        "guid": "https://renews.biz/64395/abb-joins-remote-offshore-wind-maintenance-project/",
        "image_url": "https://renews.biz//media/24025/abb.jpg?mode=crop&width=770&heightratio=0.6103896103896103896103896104&slimmage=true",
        "lead": "ABB joins remote offshore wind maintenance project",
        "title": "ABB joins remote offshore wind maintenance project"
       },
       {
        "article_url": "https://renews.biz/64391/cip-swoops-on-1600mw-of-us-pumped-hydro/",
        "category": "CIP, hydro",
        "date": "2020-11-12 09:27",
        "dc:creator": "Sara",
        "guid": "https://renews.biz/64391/cip-swoops-on-1600mw-of-us-pumped-hydro/",
        "image_url": "https://renews.biz//media/24023/rye-development.jpg?mode=crop&width=770&heightratio=0.6103896103896103896103896104&slimmage=true",
        "lead": "CIP swoops on 1600MW of US pumped hydro",
        "title": "CIP swoops on 1600MW of US pumped hydro"
       },
       {
        "article_url": "https://renews.biz/64387/subsea-7-reports-q3-earnings-drop/",
        "category": "finance, Subsea 7, Offshore Wind",
        "date": "2020-11-12 08:59",
        "dc:creator": "Sara",
        "guid": "https://renews.biz/64387/subsea-7-reports-q3-earnings-drop/",
        "image_url": "https://renews.biz//media/24024/seaway-7-subsea-7-credit-the-company.jpeg?mode=crop&width=770&heightratio=0.6103896103896103896103896104&slimmage=true",
        "lead": "Renewables unit at Subsea 7 back on even keel",
        "title": "Renewables unit at Subsea 7 back on even keel"
       },
       {
        "article_url": "https://renews.biz/64386/rwe-offshore-wind-posts-12-earnings-rise-in-first-nine-months/",
        "category": "RWE, finance, Offshore Wind, Onshore Wind, Solar",
        "date": "2020-11-12 08:24",
        "dc:creator": "Sara",
        "guid": "https://renews.biz/64386/rwe-offshore-wind-posts-12-earnings-rise-in-first-nine-months/",
        "image_url": "https://renews.biz//media/21884/rwe-markuskrebber.jpg?mode=crop&width=770&heightratio=0.6103896103896103896103896104&slimmage=true",
        "lead": "RWE offshore wind earnings up 12% in first nine months",
        "title": "RWE offshore wind earnings up 12% in first nine months"
       }
      ],
      "text/plain": [
       "<IPython.core.display.JSON object>"
      ]
     },
     "execution_count": 22,
     "metadata": {
      "application/json": {
       "expanded": false,
       "root": "root"
      }
     },
     "output_type": "execute_result"
    }
   ],
   "source": [
    "%%time\n",
    "\n",
    "def article_url_to_image_url(article_url):\n",
    "    r = requests.get(article_url)\n",
    "    soup = BeautifulSoup(r.content)\n",
    "\n",
    "    image_url = 'https://renews.biz/'+soup.find('div', {'class': 'head-image'}).find('img')['src']\n",
    "\n",
    "    return image_url\n",
    "\n",
    "def retrieve_all_current_articles():\n",
    "    rss_url = 'http://feeds.feedburner.com/Renews-RenewableEnergyNews'\n",
    "\n",
    "    r = requests.get(rss_url)\n",
    "    xml = xmltodict.parse(r.content)\n",
    "\n",
    "    articles = list(pd\n",
    "                    .DataFrame(xml['rss']['channel']['item'])\n",
    "                    .pipe(lambda df: df.assign(category=df['category'].str.join(', ')))\n",
    "                    .pipe(lambda df: df.assign(pubDate=pd.to_datetime(df['pubDate']).dt.strftime('%Y-%m-%d %H:%M')))\n",
    "                    .pipe(lambda df: df.assign(image_url=df['link'].apply(article_url_to_image_url)))\n",
    "                    .rename(columns={\n",
    "                        'link': 'article_url',\n",
    "                        'description': 'lead',\n",
    "                        'pubDate': 'date',\n",
    "                    })\n",
    "                    .T\n",
    "                    .to_dict()\n",
    "                    .values()\n",
    "                   )\n",
    "    \n",
    "    return articles\n",
    "\n",
    "articles = retrieve_all_current_articles()\n",
    "\n",
    "JSON(articles)"
   ]
  }
 ],
 "metadata": {
  "kernelspec": {
   "display_name": "EnergyNews",
   "language": "python",
   "name": "energynews"
  },
  "language_info": {
   "codemirror_mode": {
    "name": "ipython",
    "version": 3
   },
   "file_extension": ".py",
   "mimetype": "text/x-python",
   "name": "python",
   "nbconvert_exporter": "python",
   "pygments_lexer": "ipython3",
   "version": "3.7.8"
  }
 },
 "nbformat": 4,
 "nbformat_minor": 4
}
